{
 "cells": [
  {
   "cell_type": "code",
   "execution_count": 88,
   "id": "b3865374-826c-48d0-9b4f-59d56b17ae22",
   "metadata": {
    "tags": []
   },
   "outputs": [
    {
     "data": {
      "text/plain": [
       "'\\nSetup google creds\\n'"
      ]
     },
     "execution_count": 88,
     "metadata": {},
     "output_type": "execute_result"
    }
   ],
   "source": [
    "'''\n",
    "Setup google creds\n",
    "'''\n",
    "#gcloud auth application-default login\n",
    "#gcloud config set project 'oceanic-beach-419220'\n",
    "#gcloud auth application-default set-quota-project 'oceanic-beach-419220'"
   ]
  },
  {
   "cell_type": "code",
   "execution_count": 89,
   "id": "b629c7e7-5624-455f-9193-122ee731a081",
   "metadata": {},
   "outputs": [],
   "source": [
    "import pandas as pd\n",
    "import numpy as np\n",
    "import os\n",
    "import io"
   ]
  },
  {
   "cell_type": "code",
   "execution_count": 3,
   "id": "0c935653-c3ec-470b-807c-fc26b705d278",
   "metadata": {
    "tags": []
   },
   "outputs": [],
   "source": [
    "from google.cloud import storage , aiplatform\n",
    "import json\n",
    "\n",
    "storage_unit = storage.Client()\n",
    "buckets = storage_unit.list_buckets()\n",
    "\n",
    "bucket_names = []\n",
    "\n",
    "for bucket in buckets:\n",
    "    bucket_names.append(bucket.name)"
   ]
  },
  {
   "cell_type": "code",
   "execution_count": 4,
   "id": "07806f5e-f6b2-4a72-bd86-a1b3c5232c2d",
   "metadata": {
    "tags": []
   },
   "outputs": [
    {
     "data": {
      "text/plain": [
       "['cloud-ai-platform-59e1a667-b40c-40cd-af10-d868d795abdb',\n",
       " 'credentials_2024_educative']"
      ]
     },
     "execution_count": 4,
     "metadata": {},
     "output_type": "execute_result"
    }
   ],
   "source": [
    "bucket_names"
   ]
  },
  {
   "cell_type": "code",
   "execution_count": 5,
   "id": "49c6af31-e736-4bcf-b0da-125d78550638",
   "metadata": {
    "tags": []
   },
   "outputs": [],
   "source": [
    "bucket = storage_unit.bucket(bucket_names[-1])\n",
    "data_blob = storage_unit.list_blobs(bucket_names[-1])\n",
    "\n",
    "for blob in data_blob:\n",
    "    if blob.name == 'credentials_2024_educative':\n",
    "        # print(blob.download_as_text())\n",
    "        credentials_data = json.loads(blob.download_as_text())\n",
    "    # elif blob.name == 'preprocessed_data.csv':\n",
    "    #     df = pd.read_csv(blob.download_to_file())"
   ]
  },
  {
   "cell_type": "code",
   "execution_count": 6,
   "id": "a6990a9f-7621-497b-b7ea-1e32103a0fec",
   "metadata": {},
   "outputs": [],
   "source": [
    "project_id = credentials_data['PROJECT_ID']\n",
    "bucket_id = credentials_data['BUCKET_ID']\n",
    "region = credentials_data['REGION']"
   ]
  },
  {
   "cell_type": "code",
   "execution_count": 94,
   "id": "43ec99ef-5dc4-41cf-8c97-62b6e44cb153",
   "metadata": {},
   "outputs": [
    {
     "data": {
      "text/html": [
       "<div>\n",
       "<style scoped>\n",
       "    .dataframe tbody tr th:only-of-type {\n",
       "        vertical-align: middle;\n",
       "    }\n",
       "\n",
       "    .dataframe tbody tr th {\n",
       "        vertical-align: top;\n",
       "    }\n",
       "\n",
       "    .dataframe thead th {\n",
       "        text-align: right;\n",
       "    }\n",
       "</style>\n",
       "<table border=\"1\" class=\"dataframe\">\n",
       "  <thead>\n",
       "    <tr style=\"text-align: right;\">\n",
       "      <th></th>\n",
       "      <th>CustomerID</th>\n",
       "      <th>Age</th>\n",
       "      <th>Gender</th>\n",
       "      <th>Tenure</th>\n",
       "      <th>Usage Frequency</th>\n",
       "      <th>Support Calls</th>\n",
       "      <th>Payment Delay</th>\n",
       "      <th>Subscription Type</th>\n",
       "      <th>Contract Length</th>\n",
       "      <th>Total Spend</th>\n",
       "      <th>Last Interaction</th>\n",
       "      <th>Churn</th>\n",
       "    </tr>\n",
       "  </thead>\n",
       "  <tbody>\n",
       "    <tr>\n",
       "      <th>0</th>\n",
       "      <td>2.0</td>\n",
       "      <td>30.0</td>\n",
       "      <td>Female</td>\n",
       "      <td>39.0</td>\n",
       "      <td>14.0</td>\n",
       "      <td>5.0</td>\n",
       "      <td>18.0</td>\n",
       "      <td>Standard</td>\n",
       "      <td>Annual</td>\n",
       "      <td>932.0</td>\n",
       "      <td>17.0</td>\n",
       "      <td>1.0</td>\n",
       "    </tr>\n",
       "    <tr>\n",
       "      <th>1</th>\n",
       "      <td>3.0</td>\n",
       "      <td>65.0</td>\n",
       "      <td>Female</td>\n",
       "      <td>49.0</td>\n",
       "      <td>1.0</td>\n",
       "      <td>10.0</td>\n",
       "      <td>8.0</td>\n",
       "      <td>Basic</td>\n",
       "      <td>Monthly</td>\n",
       "      <td>557.0</td>\n",
       "      <td>6.0</td>\n",
       "      <td>1.0</td>\n",
       "    </tr>\n",
       "    <tr>\n",
       "      <th>2</th>\n",
       "      <td>4.0</td>\n",
       "      <td>55.0</td>\n",
       "      <td>Female</td>\n",
       "      <td>14.0</td>\n",
       "      <td>4.0</td>\n",
       "      <td>6.0</td>\n",
       "      <td>18.0</td>\n",
       "      <td>Basic</td>\n",
       "      <td>Quarterly</td>\n",
       "      <td>185.0</td>\n",
       "      <td>3.0</td>\n",
       "      <td>1.0</td>\n",
       "    </tr>\n",
       "    <tr>\n",
       "      <th>3</th>\n",
       "      <td>5.0</td>\n",
       "      <td>58.0</td>\n",
       "      <td>Male</td>\n",
       "      <td>38.0</td>\n",
       "      <td>21.0</td>\n",
       "      <td>7.0</td>\n",
       "      <td>7.0</td>\n",
       "      <td>Standard</td>\n",
       "      <td>Monthly</td>\n",
       "      <td>396.0</td>\n",
       "      <td>29.0</td>\n",
       "      <td>1.0</td>\n",
       "    </tr>\n",
       "    <tr>\n",
       "      <th>4</th>\n",
       "      <td>6.0</td>\n",
       "      <td>23.0</td>\n",
       "      <td>Male</td>\n",
       "      <td>32.0</td>\n",
       "      <td>20.0</td>\n",
       "      <td>5.0</td>\n",
       "      <td>8.0</td>\n",
       "      <td>Basic</td>\n",
       "      <td>Monthly</td>\n",
       "      <td>617.0</td>\n",
       "      <td>20.0</td>\n",
       "      <td>1.0</td>\n",
       "    </tr>\n",
       "  </tbody>\n",
       "</table>\n",
       "</div>"
      ],
      "text/plain": [
       "   CustomerID   Age  Gender  Tenure  Usage Frequency  Support Calls  \\\n",
       "0         2.0  30.0  Female    39.0             14.0            5.0   \n",
       "1         3.0  65.0  Female    49.0              1.0           10.0   \n",
       "2         4.0  55.0  Female    14.0              4.0            6.0   \n",
       "3         5.0  58.0    Male    38.0             21.0            7.0   \n",
       "4         6.0  23.0    Male    32.0             20.0            5.0   \n",
       "\n",
       "   Payment Delay Subscription Type Contract Length  Total Spend  \\\n",
       "0           18.0          Standard          Annual        932.0   \n",
       "1            8.0             Basic         Monthly        557.0   \n",
       "2           18.0             Basic       Quarterly        185.0   \n",
       "3            7.0          Standard         Monthly        396.0   \n",
       "4            8.0             Basic         Monthly        617.0   \n",
       "\n",
       "   Last Interaction  Churn  \n",
       "0              17.0    1.0  \n",
       "1               6.0    1.0  \n",
       "2               3.0    1.0  \n",
       "3              29.0    1.0  \n",
       "4              20.0    1.0  "
      ]
     },
     "execution_count": 94,
     "metadata": {},
     "output_type": "execute_result"
    }
   ],
   "source": [
    "data = pd.read_csv(r'C:\\csulb_projects\\projects\\learning project\\churn_prediction_gcp\\data/customer_churn_dataset.csv')\n",
    "data.head()"
   ]
  },
  {
   "cell_type": "code",
   "execution_count": 95,
   "id": "0a939850-e286-4a41-8c60-ad0e8537882c",
   "metadata": {},
   "outputs": [
    {
     "data": {
      "text/html": [
       "<div>\n",
       "<style scoped>\n",
       "    .dataframe tbody tr th:only-of-type {\n",
       "        vertical-align: middle;\n",
       "    }\n",
       "\n",
       "    .dataframe tbody tr th {\n",
       "        vertical-align: top;\n",
       "    }\n",
       "\n",
       "    .dataframe thead th {\n",
       "        text-align: right;\n",
       "    }\n",
       "</style>\n",
       "<table border=\"1\" class=\"dataframe\">\n",
       "  <thead>\n",
       "    <tr style=\"text-align: right;\">\n",
       "      <th></th>\n",
       "      <th>count</th>\n",
       "      <th>mean</th>\n",
       "      <th>std</th>\n",
       "      <th>min</th>\n",
       "      <th>25%</th>\n",
       "      <th>50%</th>\n",
       "      <th>75%</th>\n",
       "      <th>max</th>\n",
       "    </tr>\n",
       "  </thead>\n",
       "  <tbody>\n",
       "    <tr>\n",
       "      <th>CustomerID</th>\n",
       "      <td>440832.0</td>\n",
       "      <td>225398.667955</td>\n",
       "      <td>129531.918550</td>\n",
       "      <td>2.0</td>\n",
       "      <td>113621.75</td>\n",
       "      <td>226125.5</td>\n",
       "      <td>337739.25</td>\n",
       "      <td>449999.0</td>\n",
       "    </tr>\n",
       "    <tr>\n",
       "      <th>Age</th>\n",
       "      <td>440832.0</td>\n",
       "      <td>39.373153</td>\n",
       "      <td>12.442369</td>\n",
       "      <td>18.0</td>\n",
       "      <td>29.00</td>\n",
       "      <td>39.0</td>\n",
       "      <td>48.00</td>\n",
       "      <td>65.0</td>\n",
       "    </tr>\n",
       "    <tr>\n",
       "      <th>Tenure</th>\n",
       "      <td>440832.0</td>\n",
       "      <td>31.256336</td>\n",
       "      <td>17.255727</td>\n",
       "      <td>1.0</td>\n",
       "      <td>16.00</td>\n",
       "      <td>32.0</td>\n",
       "      <td>46.00</td>\n",
       "      <td>60.0</td>\n",
       "    </tr>\n",
       "    <tr>\n",
       "      <th>Usage Frequency</th>\n",
       "      <td>440832.0</td>\n",
       "      <td>15.807494</td>\n",
       "      <td>8.586242</td>\n",
       "      <td>1.0</td>\n",
       "      <td>9.00</td>\n",
       "      <td>16.0</td>\n",
       "      <td>23.00</td>\n",
       "      <td>30.0</td>\n",
       "    </tr>\n",
       "    <tr>\n",
       "      <th>Support Calls</th>\n",
       "      <td>440832.0</td>\n",
       "      <td>3.604437</td>\n",
       "      <td>3.070218</td>\n",
       "      <td>0.0</td>\n",
       "      <td>1.00</td>\n",
       "      <td>3.0</td>\n",
       "      <td>6.00</td>\n",
       "      <td>10.0</td>\n",
       "    </tr>\n",
       "    <tr>\n",
       "      <th>Payment Delay</th>\n",
       "      <td>440832.0</td>\n",
       "      <td>12.965722</td>\n",
       "      <td>8.258063</td>\n",
       "      <td>0.0</td>\n",
       "      <td>6.00</td>\n",
       "      <td>12.0</td>\n",
       "      <td>19.00</td>\n",
       "      <td>30.0</td>\n",
       "    </tr>\n",
       "    <tr>\n",
       "      <th>Total Spend</th>\n",
       "      <td>440832.0</td>\n",
       "      <td>631.616223</td>\n",
       "      <td>240.803001</td>\n",
       "      <td>100.0</td>\n",
       "      <td>480.00</td>\n",
       "      <td>661.0</td>\n",
       "      <td>830.00</td>\n",
       "      <td>1000.0</td>\n",
       "    </tr>\n",
       "    <tr>\n",
       "      <th>Last Interaction</th>\n",
       "      <td>440832.0</td>\n",
       "      <td>14.480868</td>\n",
       "      <td>8.596208</td>\n",
       "      <td>1.0</td>\n",
       "      <td>7.00</td>\n",
       "      <td>14.0</td>\n",
       "      <td>22.00</td>\n",
       "      <td>30.0</td>\n",
       "    </tr>\n",
       "    <tr>\n",
       "      <th>Churn</th>\n",
       "      <td>440832.0</td>\n",
       "      <td>0.567107</td>\n",
       "      <td>0.495477</td>\n",
       "      <td>0.0</td>\n",
       "      <td>0.00</td>\n",
       "      <td>1.0</td>\n",
       "      <td>1.00</td>\n",
       "      <td>1.0</td>\n",
       "    </tr>\n",
       "  </tbody>\n",
       "</table>\n",
       "</div>"
      ],
      "text/plain": [
       "                     count           mean            std    min        25%  \\\n",
       "CustomerID        440832.0  225398.667955  129531.918550    2.0  113621.75   \n",
       "Age               440832.0      39.373153      12.442369   18.0      29.00   \n",
       "Tenure            440832.0      31.256336      17.255727    1.0      16.00   \n",
       "Usage Frequency   440832.0      15.807494       8.586242    1.0       9.00   \n",
       "Support Calls     440832.0       3.604437       3.070218    0.0       1.00   \n",
       "Payment Delay     440832.0      12.965722       8.258063    0.0       6.00   \n",
       "Total Spend       440832.0     631.616223     240.803001  100.0     480.00   \n",
       "Last Interaction  440832.0      14.480868       8.596208    1.0       7.00   \n",
       "Churn             440832.0       0.567107       0.495477    0.0       0.00   \n",
       "\n",
       "                       50%        75%       max  \n",
       "CustomerID        226125.5  337739.25  449999.0  \n",
       "Age                   39.0      48.00      65.0  \n",
       "Tenure                32.0      46.00      60.0  \n",
       "Usage Frequency       16.0      23.00      30.0  \n",
       "Support Calls          3.0       6.00      10.0  \n",
       "Payment Delay         12.0      19.00      30.0  \n",
       "Total Spend          661.0     830.00    1000.0  \n",
       "Last Interaction      14.0      22.00      30.0  \n",
       "Churn                  1.0       1.00       1.0  "
      ]
     },
     "execution_count": 95,
     "metadata": {},
     "output_type": "execute_result"
    }
   ],
   "source": [
    "data.describe().transpose()"
   ]
  },
  {
   "cell_type": "code",
   "execution_count": 96,
   "id": "1dd172f8-5356-4e0c-9ae4-42f27ad2b06b",
   "metadata": {},
   "outputs": [
    {
     "data": {
      "text/plain": [
       "<Axes: >"
      ]
     },
     "execution_count": 96,
     "metadata": {},
     "output_type": "execute_result"
    },
    {
     "data": {
      "image/png": "[encoded data removed]",
      "text/plain": [
       "<Figure size 640x480 with 2 Axes>"
      ]
     },
     "metadata": {},
     "output_type": "display_data"
    }
   ],
   "source": [
    "import seaborn as sns\n",
    "sns.heatmap(data.select_dtypes(include='number').corr(),annot=True)"
   ]
  },
  {
   "cell_type": "code",
   "execution_count": 97,
   "id": "066591df-6f11-4a1d-8d5a-642223cab91b",
   "metadata": {},
   "outputs": [],
   "source": [
    "numerical_df = data.select_dtypes(include='number')\n",
    "numerical_df.drop('CustomerID',axis=1,inplace=True)\n",
    "outlier_columns = []\n",
    "\n",
    "for columns in numerical_df:\n",
    "    md_values = np.ma.array(numerical_df[columns].values).compressed()\n",
    "    median_values = numerical_df[columns].median()\n",
    "    temp_df = pd.DataFrame()\n",
    "    temp_df['temp_values'] = md_values - median_values\n",
    "    z_scores = temp_df['temp_values'].median()\n",
    "    if z_scores > 3:\n",
    "        outlier_columns.append(columns)"
   ]
  },
  {
   "cell_type": "code",
   "execution_count": 98,
   "id": "f32dea1a-bcd5-4082-b91a-c6b80eb21353",
   "metadata": {},
   "outputs": [
    {
     "data": {
      "text/plain": [
       "CustomerID           1\n",
       "Age                  1\n",
       "Gender               1\n",
       "Tenure               1\n",
       "Usage Frequency      1\n",
       "Support Calls        1\n",
       "Payment Delay        1\n",
       "Subscription Type    1\n",
       "Contract Length      1\n",
       "Total Spend          1\n",
       "Last Interaction     1\n",
       "Churn                1\n",
       "dtype: int64"
      ]
     },
     "execution_count": 98,
     "metadata": {},
     "output_type": "execute_result"
    }
   ],
   "source": [
    "data.isnull().sum()"
   ]
  },
  {
   "cell_type": "code",
   "execution_count": 99,
   "id": "985fbee5-1890-48c7-9eb0-a7f81c2bded3",
   "metadata": {},
   "outputs": [],
   "source": [
    "data.dropna(inplace=True)"
   ]
  },
  {
   "cell_type": "code",
   "execution_count": 100,
   "id": "47b6ac90-3c4c-48d9-89da-5a80e358b1f0",
   "metadata": {},
   "outputs": [],
   "source": [
    "data.drop('CustomerID',axis=1,inplace=True)"
   ]
  },
  {
   "cell_type": "code",
   "execution_count": 101,
   "id": "843d48cc-472c-497b-a4b9-dde980c0e44e",
   "metadata": {},
   "outputs": [],
   "source": [
    "data.columns = ['_'.join(column.split(' ')) if len(column.split(' '))==2 else column for column in data.columns ]"
   ]
  },
  {
   "cell_type": "code",
   "execution_count": 102,
   "id": "66f5e2c1-92a6-49d8-92ef-e33dfe99d181",
   "metadata": {},
   "outputs": [],
   "source": [
    "categorical_colums = data.select_dtypes(include='object').columns\n",
    "numerical_columns = data.select_dtypes(include='number').columns"
   ]
  },
  {
   "cell_type": "code",
   "execution_count": 103,
   "id": "99433226-dc1e-477b-b37e-c56129954d54",
   "metadata": {},
   "outputs": [],
   "source": [
    "features = data.drop('Churn',axis=1)\n",
    "labels = data['Churn']"
   ]
  },
  {
   "cell_type": "code",
   "execution_count": 104,
   "id": "5c72c5ec-5353-4e42-8a3e-e75eb58ccb0e",
   "metadata": {},
   "outputs": [],
   "source": [
    "'''Upload file to bucket'''\n",
    "def upload_object(file_path,bucket_name,destination_blob):\n",
    "\n",
    "    storage_client = storage.Client()\n",
    "    bucket = storage_client.bucket(bucket_name)\n",
    "    blob = bucket.blob(destination_blob)\n",
    "\n",
    "    generation_match_precondition = 0\n",
    "\n",
    "    try:\n",
    "        blob.upload_from_filename(file_path,if_generation_match=generation_match_precondition)\n",
    "        return True\n",
    "    except Exception as e:\n",
    "        raise(e)"
   ]
  },
  {
   "cell_type": "code",
   "execution_count": 121,
   "id": "0d64fb82-f78b-41fb-8a2f-7bd05b803141",
   "metadata": {
    "tags": []
   },
   "outputs": [],
   "source": [
    "data.reset_index(drop=True,inplace=True)"
   ]
  },
  {
   "cell_type": "code",
   "execution_count": 123,
   "id": "1338d723-90b0-4690-b150-0f877c609fd6",
   "metadata": {
    "tags": []
   },
   "outputs": [
    {
     "data": {
      "text/plain": [
       "True"
      ]
     },
     "execution_count": 123,
     "metadata": {},
     "output_type": "execute_result"
    }
   ],
   "source": [
    "# upload_object('/usercode/user_json.json',bucket_names[0],bucket_names[0])\n",
    "file_name = 'preprocessed_data.csv'\n",
    "# data.to_csv('preprocessed_data.csv',index=False)\n",
    "upload_object('preprocessed_data.csv',bucket_names[-1],file_name)"
   ]
  },
  {
   "cell_type": "code",
   "execution_count": 106,
   "id": "9b791e49-6e5c-4d10-a917-593250e6b63d",
   "metadata": {},
   "outputs": [],
   "source": [
    "categorical_colums = features.select_dtypes('object').columns\n",
    "numerical_columns = features.select_dtypes('number').columns"
   ]
  },
  {
   "cell_type": "code",
   "execution_count": 107,
   "id": "d61a39ae-61ab-4791-9d98-d0445382068a",
   "metadata": {
    "tags": []
   },
   "outputs": [
    {
     "data": {
      "text/plain": [
       "Index(['Gender', 'Subscription_Type', 'Contract_Length'], dtype='object')"
      ]
     },
     "execution_count": 107,
     "metadata": {},
     "output_type": "execute_result"
    }
   ],
   "source": [
    "categorical_colums"
   ]
  },
  {
   "cell_type": "code",
   "execution_count": 110,
   "id": "becf5670-0d53-40a7-b83b-c18fbae2b849",
   "metadata": {
    "tags": []
   },
   "outputs": [],
   "source": [
    "transformations = []\n",
    "\n",
    "for column in categorical_colums:\n",
    "    transformations.append({'categorical':{'column_name':column}})\n",
    "\n",
    "for num_column in numerical_columns:\n",
    "    transformations.append({'numerical':{'column_name':num_column}})"
   ]
  },
  {
   "cell_type": "code",
   "execution_count": 111,
   "id": "58cebe2a-0ed9-43a0-8d9d-5483b3e20ad5",
   "metadata": {
    "tags": []
   },
   "outputs": [
    {
     "data": {
      "text/plain": [
       "[{'categorical': {'column_name': 'Gender'}},\n",
       " {'categorical': {'column_name': 'Subscription_Type'}},\n",
       " {'categorical': {'column_name': 'Contract_Length'}},\n",
       " {'numerical': {'column_name': 'Age'}},\n",
       " {'numerical': {'column_name': 'Tenure'}},\n",
       " {'numerical': {'column_name': 'Usage_Frequency'}},\n",
       " {'numerical': {'column_name': 'Support_Calls'}},\n",
       " {'numerical': {'column_name': 'Payment_Delay'}},\n",
       " {'numerical': {'column_name': 'Total_Spend'}},\n",
       " {'numerical': {'column_name': 'Last_Interaction'}}]"
      ]
     },
     "execution_count": 111,
     "metadata": {},
     "output_type": "execute_result"
    }
   ],
   "source": [
    "transformations"
   ]
  },
  {
   "cell_type": "code",
   "execution_count": 124,
   "id": "f8b46282-ab26-4a70-92d3-b36ff679398f",
   "metadata": {
    "tags": []
   },
   "outputs": [
    {
     "name": "stdout",
     "output_type": "stream",
     "text": [
      "Creating TabularDataset\n",
      "Create TabularDataset backing LRO: projects/1034812075268/locations/us-central1/datasets/5718231222086270976/operations/3953081886284185600\n",
      "TabularDataset created. Resource name: projects/1034812075268/locations/us-central1/datasets/5718231222086270976\n",
      "To use this TabularDataset in another session:\n",
      "ds = aiplatform.TabularDataset('projects/1034812075268/locations/us-central1/datasets/5718231222086270976')\n"
     ]
    }
   ],
   "source": [
    "data_path = f'gs://{bucket_names[-1]}/{file_name}'\n",
    "cloud_dataset = aiplatform.TabularDataset.create(\n",
    "    display_name = \"churn_dataset\",\n",
    "    gcs_source = [data_path]\n",
    ")"
   ]
  },
  {
   "cell_type": "code",
   "execution_count": 148,
   "id": "3b6786af-2b3b-4c3d-aad4-60a7bc04d3b7",
   "metadata": {
    "tags": []
   },
   "outputs": [],
   "source": [
    "dataset = aiplatform.TabularDataset(cloud_dataset.resource_name)\n",
    "    \n",
    "job = aiplatform.AutoMLTabularTrainingJob(\n",
    "    display_name=\"train-automl\",\n",
    "    optimization_prediction_type=\"classification\"\n",
    ")"
   ]
  },
  {
   "cell_type": "code",
   "execution_count": 149,
   "id": "ca084d41-b2e4-4637-858b-26baa797be62",
   "metadata": {
    "tags": []
   },
   "outputs": [
    {
     "data": {
      "text/plain": [
       "<google.cloud.aiplatform.datasets.tabular_dataset.TabularDataset object at 0x0000019D3447DA90> \n",
       "resource name: projects/1034812075268/locations/us-central1/datasets/5718231222086270976"
      ]
     },
     "execution_count": 149,
     "metadata": {},
     "output_type": "execute_result"
    }
   ],
   "source": [
    "dataset"
   ]
  },
  {
   "cell_type": "code",
   "execution_count": 150,
   "id": "ce1ba7c8-a887-4184-a8a0-aa813f982b02",
   "metadata": {
    "collapsed": true,
    "jupyter": {
     "outputs_hidden": true
    },
    "tags": []
   },
   "outputs": [
    {
     "name": "stdout",
     "output_type": "stream",
     "text": [
      "No column transformations provided, so now retrieving columns from dataset in order to set default column transformations.\n",
      "The column transformation of type 'auto' was set for the following columns: ['Tenure', 'Payment_Delay', 'Age', 'Usage_Frequency', 'Last_Interaction', 'Contract_Length', 'Subscription_Type', 'Total_Spend', 'Support_Calls', 'Gender'].\n",
      "View Training:\n",
      "https://console.cloud.google.com/ai/platform/locations/us-central1/training/322592347902705664?project=1034812075268\n",
      "AutoMLTabularTrainingJob projects/1034812075268/locations/us-central1/trainingPipelines/322592347902705664 current state:\n",
      "3\n",
      "AutoMLTabularTrainingJob projects/1034812075268/locations/us-central1/trainingPipelines/322592347902705664 current state:\n",
      "3\n"
     ]
    },
    {
     "ename": "KeyboardInterrupt",
     "evalue": "",
     "output_type": "error",
     "traceback": [
      "\u001b[1;31m---------------------------------------------------------------------------\u001b[0m",
      "\u001b[1;31mKeyboardInterrupt\u001b[0m                         Traceback (most recent call last)",
      "Cell \u001b[1;32mIn[150], line 1\u001b[0m\n\u001b[1;32m----> 1\u001b[0m model \u001b[38;5;241m=\u001b[39m job\u001b[38;5;241m.\u001b[39mrun(\n\u001b[0;32m      2\u001b[0m     dataset \u001b[38;5;241m=\u001b[39m dataset,\n\u001b[0;32m      3\u001b[0m     target_column \u001b[38;5;241m=\u001b[39m \u001b[38;5;124m\"\u001b[39m\u001b[38;5;124mChurn\u001b[39m\u001b[38;5;124m\"\u001b[39m,\n\u001b[0;32m      4\u001b[0m     training_fraction_split\u001b[38;5;241m=\u001b[39m\u001b[38;5;241m0.6\u001b[39m,\n\u001b[0;32m      5\u001b[0m     validation_fraction_split\u001b[38;5;241m=\u001b[39m\u001b[38;5;241m0.2\u001b[39m,\n\u001b[0;32m      6\u001b[0m     test_fraction_split\u001b[38;5;241m=\u001b[39m\u001b[38;5;241m0.2\u001b[39m,\n\u001b[0;32m      7\u001b[0m     budget_milli_node_hours\u001b[38;5;241m=\u001b[39m\u001b[38;5;241m1000\u001b[39m,\n\u001b[0;32m      8\u001b[0m     model_display_name\u001b[38;5;241m=\u001b[39m\u001b[38;5;124m\"\u001b[39m\u001b[38;5;124mChurn_model\u001b[39m\u001b[38;5;124m\"\u001b[39m,\n\u001b[0;32m      9\u001b[0m     disable_early_stopping\u001b[38;5;241m=\u001b[39m\u001b[38;5;28;01mFalse\u001b[39;00m\n\u001b[0;32m     10\u001b[0m )\n",
      "File \u001b[1;32m~\\AppData\\Roaming\\Python\\Python311\\site-packages\\google\\cloud\\aiplatform\\training_jobs.py:5759\u001b[0m, in \u001b[0;36mAutoMLTabularTrainingJob.run\u001b[1;34m(self, dataset, target_column, training_fraction_split, validation_fraction_split, test_fraction_split, predefined_split_column_name, timestamp_split_column_name, weight_column, budget_milli_node_hours, model_display_name, model_labels, model_id, parent_model, is_default_version, model_version_aliases, model_version_description, disable_early_stopping, export_evaluated_data_items, export_evaluated_data_items_bigquery_destination_uri, export_evaluated_data_items_override_destination, additional_experiments, sync, create_request_timeout)\u001b[0m\n\u001b[0;32m   5756\u001b[0m \u001b[38;5;28;01mif\u001b[39;00m additional_experiments:\n\u001b[0;32m   5757\u001b[0m     \u001b[38;5;28mself\u001b[39m\u001b[38;5;241m.\u001b[39m_add_additional_experiments(additional_experiments)\n\u001b[1;32m-> 5759\u001b[0m \u001b[38;5;28;01mreturn\u001b[39;00m \u001b[38;5;28mself\u001b[39m\u001b[38;5;241m.\u001b[39m_run(\n\u001b[0;32m   5760\u001b[0m     dataset\u001b[38;5;241m=\u001b[39mdataset,\n\u001b[0;32m   5761\u001b[0m     target_column\u001b[38;5;241m=\u001b[39mtarget_column,\n\u001b[0;32m   5762\u001b[0m     training_fraction_split\u001b[38;5;241m=\u001b[39mtraining_fraction_split,\n\u001b[0;32m   5763\u001b[0m     validation_fraction_split\u001b[38;5;241m=\u001b[39mvalidation_fraction_split,\n\u001b[0;32m   5764\u001b[0m     test_fraction_split\u001b[38;5;241m=\u001b[39mtest_fraction_split,\n\u001b[0;32m   5765\u001b[0m     predefined_split_column_name\u001b[38;5;241m=\u001b[39mpredefined_split_column_name,\n\u001b[0;32m   5766\u001b[0m     timestamp_split_column_name\u001b[38;5;241m=\u001b[39mtimestamp_split_column_name,\n\u001b[0;32m   5767\u001b[0m     weight_column\u001b[38;5;241m=\u001b[39mweight_column,\n\u001b[0;32m   5768\u001b[0m     budget_milli_node_hours\u001b[38;5;241m=\u001b[39mbudget_milli_node_hours,\n\u001b[0;32m   5769\u001b[0m     model_display_name\u001b[38;5;241m=\u001b[39mmodel_display_name,\n\u001b[0;32m   5770\u001b[0m     model_labels\u001b[38;5;241m=\u001b[39mmodel_labels,\n\u001b[0;32m   5771\u001b[0m     model_id\u001b[38;5;241m=\u001b[39mmodel_id,\n\u001b[0;32m   5772\u001b[0m     model_version_aliases\u001b[38;5;241m=\u001b[39mmodel_version_aliases,\n\u001b[0;32m   5773\u001b[0m     model_version_description\u001b[38;5;241m=\u001b[39mmodel_version_description,\n\u001b[0;32m   5774\u001b[0m     parent_model\u001b[38;5;241m=\u001b[39mparent_model,\n\u001b[0;32m   5775\u001b[0m     is_default_version\u001b[38;5;241m=\u001b[39mis_default_version,\n\u001b[0;32m   5776\u001b[0m     disable_early_stopping\u001b[38;5;241m=\u001b[39mdisable_early_stopping,\n\u001b[0;32m   5777\u001b[0m     export_evaluated_data_items\u001b[38;5;241m=\u001b[39mexport_evaluated_data_items,\n\u001b[0;32m   5778\u001b[0m     export_evaluated_data_items_bigquery_destination_uri\u001b[38;5;241m=\u001b[39mexport_evaluated_data_items_bigquery_destination_uri,\n\u001b[0;32m   5779\u001b[0m     export_evaluated_data_items_override_destination\u001b[38;5;241m=\u001b[39mexport_evaluated_data_items_override_destination,\n\u001b[0;32m   5780\u001b[0m     sync\u001b[38;5;241m=\u001b[39msync,\n\u001b[0;32m   5781\u001b[0m     create_request_timeout\u001b[38;5;241m=\u001b[39mcreate_request_timeout,\n\u001b[0;32m   5782\u001b[0m )\n",
      "File \u001b[1;32m~\\AppData\\Roaming\\Python\\Python311\\site-packages\\google\\cloud\\aiplatform\\base.py:863\u001b[0m, in \u001b[0;36moptional_sync.<locals>.optional_run_in_thread.<locals>.wrapper\u001b[1;34m(*args, **kwargs)\u001b[0m\n\u001b[0;32m    861\u001b[0m     \u001b[38;5;28;01mif\u001b[39;00m \u001b[38;5;28mself\u001b[39m:\n\u001b[0;32m    862\u001b[0m         VertexAiResourceNounWithFutureManager\u001b[38;5;241m.\u001b[39mwait(\u001b[38;5;28mself\u001b[39m)\n\u001b[1;32m--> 863\u001b[0m     \u001b[38;5;28;01mreturn\u001b[39;00m method(\u001b[38;5;241m*\u001b[39margs, \u001b[38;5;241m*\u001b[39m\u001b[38;5;241m*\u001b[39mkwargs)\n\u001b[0;32m    865\u001b[0m \u001b[38;5;66;03m# callbacks to call within the Future (in same Thread)\u001b[39;00m\n\u001b[0;32m    866\u001b[0m internal_callbacks \u001b[38;5;241m=\u001b[39m []\n",
      "File \u001b[1;32m~\\AppData\\Roaming\\Python\\Python311\\site-packages\\google\\cloud\\aiplatform\\training_jobs.py:6033\u001b[0m, in \u001b[0;36mAutoMLTabularTrainingJob._run\u001b[1;34m(self, dataset, target_column, training_fraction_split, validation_fraction_split, test_fraction_split, predefined_split_column_name, timestamp_split_column_name, weight_column, budget_milli_node_hours, model_display_name, model_labels, model_id, parent_model, is_default_version, model_version_aliases, model_version_description, disable_early_stopping, export_evaluated_data_items, export_evaluated_data_items_bigquery_destination_uri, export_evaluated_data_items_override_destination, sync, create_request_timeout)\u001b[0m\n\u001b[0;32m   6023\u001b[0m     training_task_inputs_dict[\n\u001b[0;32m   6024\u001b[0m         \u001b[38;5;124m\"\u001b[39m\u001b[38;5;124madditionalExperiments\u001b[39m\u001b[38;5;124m\"\u001b[39m\n\u001b[0;32m   6025\u001b[0m     ] \u001b[38;5;241m=\u001b[39m \u001b[38;5;28mself\u001b[39m\u001b[38;5;241m.\u001b[39m_additional_experiments\n\u001b[0;32m   6027\u001b[0m model \u001b[38;5;241m=\u001b[39m gca_model\u001b[38;5;241m.\u001b[39mModel(\n\u001b[0;32m   6028\u001b[0m     display_name\u001b[38;5;241m=\u001b[39mmodel_display_name \u001b[38;5;129;01mor\u001b[39;00m \u001b[38;5;28mself\u001b[39m\u001b[38;5;241m.\u001b[39m_display_name,\n\u001b[0;32m   6029\u001b[0m     labels\u001b[38;5;241m=\u001b[39mmodel_labels \u001b[38;5;129;01mor\u001b[39;00m \u001b[38;5;28mself\u001b[39m\u001b[38;5;241m.\u001b[39m_labels,\n\u001b[0;32m   6030\u001b[0m     encryption_spec\u001b[38;5;241m=\u001b[39m\u001b[38;5;28mself\u001b[39m\u001b[38;5;241m.\u001b[39m_model_encryption_spec,\n\u001b[0;32m   6031\u001b[0m )\n\u001b[1;32m-> 6033\u001b[0m \u001b[38;5;28;01mreturn\u001b[39;00m \u001b[38;5;28mself\u001b[39m\u001b[38;5;241m.\u001b[39m_run_job(\n\u001b[0;32m   6034\u001b[0m     training_task_definition\u001b[38;5;241m=\u001b[39mtraining_task_definition,\n\u001b[0;32m   6035\u001b[0m     training_task_inputs\u001b[38;5;241m=\u001b[39mtraining_task_inputs_dict,\n\u001b[0;32m   6036\u001b[0m     dataset\u001b[38;5;241m=\u001b[39mdataset,\n\u001b[0;32m   6037\u001b[0m     training_fraction_split\u001b[38;5;241m=\u001b[39mtraining_fraction_split,\n\u001b[0;32m   6038\u001b[0m     validation_fraction_split\u001b[38;5;241m=\u001b[39mvalidation_fraction_split,\n\u001b[0;32m   6039\u001b[0m     test_fraction_split\u001b[38;5;241m=\u001b[39mtest_fraction_split,\n\u001b[0;32m   6040\u001b[0m     predefined_split_column_name\u001b[38;5;241m=\u001b[39mpredefined_split_column_name,\n\u001b[0;32m   6041\u001b[0m     timestamp_split_column_name\u001b[38;5;241m=\u001b[39mtimestamp_split_column_name,\n\u001b[0;32m   6042\u001b[0m     model\u001b[38;5;241m=\u001b[39mmodel,\n\u001b[0;32m   6043\u001b[0m     model_id\u001b[38;5;241m=\u001b[39mmodel_id,\n\u001b[0;32m   6044\u001b[0m     parent_model\u001b[38;5;241m=\u001b[39mparent_model,\n\u001b[0;32m   6045\u001b[0m     is_default_version\u001b[38;5;241m=\u001b[39mis_default_version,\n\u001b[0;32m   6046\u001b[0m     model_version_aliases\u001b[38;5;241m=\u001b[39mmodel_version_aliases,\n\u001b[0;32m   6047\u001b[0m     model_version_description\u001b[38;5;241m=\u001b[39mmodel_version_description,\n\u001b[0;32m   6048\u001b[0m     create_request_timeout\u001b[38;5;241m=\u001b[39mcreate_request_timeout,\n\u001b[0;32m   6049\u001b[0m )\n",
      "File \u001b[1;32m~\\AppData\\Roaming\\Python\\Python311\\site-packages\\google\\cloud\\aiplatform\\training_jobs.py:830\u001b[0m, in \u001b[0;36m_TrainingJob._run_job\u001b[1;34m(self, training_task_definition, training_task_inputs, dataset, training_fraction_split, validation_fraction_split, test_fraction_split, training_filter_split, validation_filter_split, test_filter_split, predefined_split_column_name, timestamp_split_column_name, annotation_schema_uri, model, model_id, parent_model, is_default_version, model_version_aliases, model_version_description, gcs_destination_uri_prefix, bigquery_destination, create_request_timeout, block)\u001b[0m\n\u001b[0;32m    826\u001b[0m \u001b[38;5;28mself\u001b[39m\u001b[38;5;241m.\u001b[39m_gca_resource \u001b[38;5;241m=\u001b[39m training_pipeline\n\u001b[0;32m    828\u001b[0m _LOGGER\u001b[38;5;241m.\u001b[39minfo(\u001b[38;5;124m\"\u001b[39m\u001b[38;5;124mView Training:\u001b[39m\u001b[38;5;130;01m\\n\u001b[39;00m\u001b[38;5;132;01m%s\u001b[39;00m\u001b[38;5;124m\"\u001b[39m \u001b[38;5;241m%\u001b[39m \u001b[38;5;28mself\u001b[39m\u001b[38;5;241m.\u001b[39m_dashboard_uri())\n\u001b[1;32m--> 830\u001b[0m model \u001b[38;5;241m=\u001b[39m \u001b[38;5;28mself\u001b[39m\u001b[38;5;241m.\u001b[39m_get_model(block\u001b[38;5;241m=\u001b[39mblock)\n\u001b[0;32m    832\u001b[0m \u001b[38;5;28;01mif\u001b[39;00m model \u001b[38;5;129;01mis\u001b[39;00m \u001b[38;5;28;01mNone\u001b[39;00m:\n\u001b[0;32m    833\u001b[0m     _LOGGER\u001b[38;5;241m.\u001b[39mwarning(\n\u001b[0;32m    834\u001b[0m         \u001b[38;5;124m\"\u001b[39m\u001b[38;5;124mTraining did not produce a Managed Model returning None. \u001b[39m\u001b[38;5;124m\"\u001b[39m\n\u001b[0;32m    835\u001b[0m         \u001b[38;5;241m+\u001b[39m \u001b[38;5;28mself\u001b[39m\u001b[38;5;241m.\u001b[39m_model_upload_fail_string\n\u001b[0;32m    836\u001b[0m     )\n",
      "File \u001b[1;32m~\\AppData\\Roaming\\Python\\Python311\\site-packages\\google\\cloud\\aiplatform\\training_jobs.py:918\u001b[0m, in \u001b[0;36m_TrainingJob._get_model\u001b[1;34m(self, block)\u001b[0m\n\u001b[0;32m    908\u001b[0m \u001b[38;5;250m\u001b[39m\u001b[38;5;124;03m\"\"\"Helper method to get and instantiate the Model to Upload.\u001b[39;00m\n\u001b[0;32m    909\u001b[0m \n\u001b[0;32m    910\u001b[0m \u001b[38;5;124;03mReturns:\u001b[39;00m\n\u001b[1;32m   (...)\u001b[0m\n\u001b[0;32m    915\u001b[0m \u001b[38;5;124;03m    RuntimeError: If Training failed.\u001b[39;00m\n\u001b[0;32m    916\u001b[0m \u001b[38;5;124;03m\"\"\"\u001b[39;00m\n\u001b[0;32m    917\u001b[0m \u001b[38;5;28;01mif\u001b[39;00m block:\n\u001b[1;32m--> 918\u001b[0m     \u001b[38;5;28mself\u001b[39m\u001b[38;5;241m.\u001b[39m_block_until_complete()\n\u001b[0;32m    920\u001b[0m \u001b[38;5;28;01mif\u001b[39;00m \u001b[38;5;28mself\u001b[39m\u001b[38;5;241m.\u001b[39mhas_failed:\n\u001b[0;32m    921\u001b[0m     \u001b[38;5;28;01mraise\u001b[39;00m \u001b[38;5;167;01mRuntimeError\u001b[39;00m(\n\u001b[0;32m    922\u001b[0m         \u001b[38;5;124mf\u001b[39m\u001b[38;5;124m\"\u001b[39m\u001b[38;5;124mTraining Pipeline \u001b[39m\u001b[38;5;132;01m{\u001b[39;00m\u001b[38;5;28mself\u001b[39m\u001b[38;5;241m.\u001b[39mresource_name\u001b[38;5;132;01m}\u001b[39;00m\u001b[38;5;124m failed. No model available.\u001b[39m\u001b[38;5;124m\"\u001b[39m\n\u001b[0;32m    923\u001b[0m     )\n",
      "File \u001b[1;32m~\\AppData\\Roaming\\Python\\Python311\\site-packages\\google\\cloud\\aiplatform\\training_jobs.py:945\u001b[0m, in \u001b[0;36m_TrainingJob._block_until_complete\u001b[1;34m(self)\u001b[0m\n\u001b[0;32m    941\u001b[0m log_wait \u001b[38;5;241m=\u001b[39m _LOG_WAIT_TIME\n\u001b[0;32m    943\u001b[0m previous_time \u001b[38;5;241m=\u001b[39m time\u001b[38;5;241m.\u001b[39mtime()\n\u001b[1;32m--> 945\u001b[0m \u001b[38;5;28;01mwhile\u001b[39;00m \u001b[38;5;28mself\u001b[39m\u001b[38;5;241m.\u001b[39mstate \u001b[38;5;129;01mnot\u001b[39;00m \u001b[38;5;129;01min\u001b[39;00m _PIPELINE_COMPLETE_STATES:\n\u001b[0;32m    946\u001b[0m     current_time \u001b[38;5;241m=\u001b[39m time\u001b[38;5;241m.\u001b[39mtime()\n\u001b[0;32m    947\u001b[0m     \u001b[38;5;28;01mif\u001b[39;00m current_time \u001b[38;5;241m-\u001b[39m previous_time \u001b[38;5;241m>\u001b[39m\u001b[38;5;241m=\u001b[39m log_wait:\n",
      "File \u001b[1;32m~\\AppData\\Roaming\\Python\\Python311\\site-packages\\google\\cloud\\aiplatform\\training_jobs.py:859\u001b[0m, in \u001b[0;36m_TrainingJob.state\u001b[1;34m(self)\u001b[0m\n\u001b[0;32m    856\u001b[0m \u001b[38;5;28;01mif\u001b[39;00m \u001b[38;5;28mself\u001b[39m\u001b[38;5;241m.\u001b[39m_assert_has_run():\n\u001b[0;32m    857\u001b[0m     \u001b[38;5;28;01mreturn\u001b[39;00m\n\u001b[1;32m--> 859\u001b[0m \u001b[38;5;28mself\u001b[39m\u001b[38;5;241m.\u001b[39m_sync_gca_resource()\n\u001b[0;32m    860\u001b[0m \u001b[38;5;28;01mreturn\u001b[39;00m \u001b[38;5;28mself\u001b[39m\u001b[38;5;241m.\u001b[39m_gca_resource\u001b[38;5;241m.\u001b[39mstate\n",
      "File \u001b[1;32m~\\AppData\\Roaming\\Python\\Python311\\site-packages\\google\\cloud\\aiplatform\\base.py:699\u001b[0m, in \u001b[0;36mVertexAiResourceNoun._sync_gca_resource\u001b[1;34m(self)\u001b[0m\n\u001b[0;32m    696\u001b[0m \u001b[38;5;28;01mdef\u001b[39;00m \u001b[38;5;21m_sync_gca_resource\u001b[39m(\u001b[38;5;28mself\u001b[39m):\n\u001b[0;32m    697\u001b[0m \u001b[38;5;250m    \u001b[39m\u001b[38;5;124;03m\"\"\"Sync GAPIC service representation of client class resource.\"\"\"\u001b[39;00m\n\u001b[1;32m--> 699\u001b[0m     \u001b[38;5;28mself\u001b[39m\u001b[38;5;241m.\u001b[39m_gca_resource \u001b[38;5;241m=\u001b[39m \u001b[38;5;28mself\u001b[39m\u001b[38;5;241m.\u001b[39m_get_gca_resource(resource_name\u001b[38;5;241m=\u001b[39m\u001b[38;5;28mself\u001b[39m\u001b[38;5;241m.\u001b[39mresource_name)\n",
      "File \u001b[1;32m~\\AppData\\Roaming\\Python\\Python311\\site-packages\\google\\cloud\\aiplatform\\base.py:692\u001b[0m, in \u001b[0;36mVertexAiResourceNoun._get_gca_resource\u001b[1;34m(self, resource_name, parent_resource_name_fields)\u001b[0m\n\u001b[0;32m    672\u001b[0m \u001b[38;5;250m\u001b[39m\u001b[38;5;124;03m\"\"\"Returns GAPIC service representation of client class resource.\u001b[39;00m\n\u001b[0;32m    673\u001b[0m \n\u001b[0;32m    674\u001b[0m \u001b[38;5;124;03mArgs:\u001b[39;00m\n\u001b[1;32m   (...)\u001b[0m\n\u001b[0;32m    679\u001b[0m \u001b[38;5;124;03m        Should not include project and location.\u001b[39;00m\n\u001b[0;32m    680\u001b[0m \u001b[38;5;124;03m\"\"\"\u001b[39;00m\n\u001b[0;32m    681\u001b[0m resource_name \u001b[38;5;241m=\u001b[39m utils\u001b[38;5;241m.\u001b[39mfull_resource_name(\n\u001b[0;32m    682\u001b[0m     resource_name\u001b[38;5;241m=\u001b[39mresource_name,\n\u001b[0;32m    683\u001b[0m     resource_noun\u001b[38;5;241m=\u001b[39m\u001b[38;5;28mself\u001b[39m\u001b[38;5;241m.\u001b[39m_resource_noun,\n\u001b[1;32m   (...)\u001b[0m\n\u001b[0;32m    689\u001b[0m     resource_id_validator\u001b[38;5;241m=\u001b[39m\u001b[38;5;28mself\u001b[39m\u001b[38;5;241m.\u001b[39m_resource_id_validator,\n\u001b[0;32m    690\u001b[0m )\n\u001b[1;32m--> 692\u001b[0m \u001b[38;5;28;01mreturn\u001b[39;00m \u001b[38;5;28mgetattr\u001b[39m(\u001b[38;5;28mself\u001b[39m\u001b[38;5;241m.\u001b[39mapi_client, \u001b[38;5;28mself\u001b[39m\u001b[38;5;241m.\u001b[39m_getter_method)(\n\u001b[0;32m    693\u001b[0m     name\u001b[38;5;241m=\u001b[39mresource_name, retry\u001b[38;5;241m=\u001b[39m_DEFAULT_RETRY\n\u001b[0;32m    694\u001b[0m )\n",
      "File \u001b[1;32m~\\AppData\\Roaming\\Python\\Python311\\site-packages\\google\\cloud\\aiplatform_v1\\services\\pipeline_service\\client.py:1102\u001b[0m, in \u001b[0;36mPipelineServiceClient.get_training_pipeline\u001b[1;34m(self, request, name, retry, timeout, metadata)\u001b[0m\n\u001b[0;32m   1099\u001b[0m \u001b[38;5;28mself\u001b[39m\u001b[38;5;241m.\u001b[39m_validate_universe_domain()\n\u001b[0;32m   1101\u001b[0m \u001b[38;5;66;03m# Send the request.\u001b[39;00m\n\u001b[1;32m-> 1102\u001b[0m response \u001b[38;5;241m=\u001b[39m rpc(\n\u001b[0;32m   1103\u001b[0m     request,\n\u001b[0;32m   1104\u001b[0m     retry\u001b[38;5;241m=\u001b[39mretry,\n\u001b[0;32m   1105\u001b[0m     timeout\u001b[38;5;241m=\u001b[39mtimeout,\n\u001b[0;32m   1106\u001b[0m     metadata\u001b[38;5;241m=\u001b[39mmetadata,\n\u001b[0;32m   1107\u001b[0m )\n\u001b[0;32m   1109\u001b[0m \u001b[38;5;66;03m# Done; return the response.\u001b[39;00m\n\u001b[0;32m   1110\u001b[0m \u001b[38;5;28;01mreturn\u001b[39;00m response\n",
      "File \u001b[1;32m~\\AppData\\Roaming\\Python\\Python311\\site-packages\\google\\api_core\\gapic_v1\\method.py:131\u001b[0m, in \u001b[0;36m_GapicCallable.__call__\u001b[1;34m(self, timeout, retry, compression, *args, **kwargs)\u001b[0m\n\u001b[0;32m    128\u001b[0m \u001b[38;5;28;01mif\u001b[39;00m \u001b[38;5;28mself\u001b[39m\u001b[38;5;241m.\u001b[39m_compression \u001b[38;5;129;01mis\u001b[39;00m \u001b[38;5;129;01mnot\u001b[39;00m \u001b[38;5;28;01mNone\u001b[39;00m:\n\u001b[0;32m    129\u001b[0m     kwargs[\u001b[38;5;124m\"\u001b[39m\u001b[38;5;124mcompression\u001b[39m\u001b[38;5;124m\"\u001b[39m] \u001b[38;5;241m=\u001b[39m compression\n\u001b[1;32m--> 131\u001b[0m \u001b[38;5;28;01mreturn\u001b[39;00m wrapped_func(\u001b[38;5;241m*\u001b[39margs, \u001b[38;5;241m*\u001b[39m\u001b[38;5;241m*\u001b[39mkwargs)\n",
      "File \u001b[1;32m~\\AppData\\Roaming\\Python\\Python311\\site-packages\\google\\api_core\\retry.py:372\u001b[0m, in \u001b[0;36mRetry.__call__.<locals>.retry_wrapped_func\u001b[1;34m(*args, **kwargs)\u001b[0m\n\u001b[0;32m    368\u001b[0m target \u001b[38;5;241m=\u001b[39m functools\u001b[38;5;241m.\u001b[39mpartial(func, \u001b[38;5;241m*\u001b[39margs, \u001b[38;5;241m*\u001b[39m\u001b[38;5;241m*\u001b[39mkwargs)\n\u001b[0;32m    369\u001b[0m sleep_generator \u001b[38;5;241m=\u001b[39m exponential_sleep_generator(\n\u001b[0;32m    370\u001b[0m     \u001b[38;5;28mself\u001b[39m\u001b[38;5;241m.\u001b[39m_initial, \u001b[38;5;28mself\u001b[39m\u001b[38;5;241m.\u001b[39m_maximum, multiplier\u001b[38;5;241m=\u001b[39m\u001b[38;5;28mself\u001b[39m\u001b[38;5;241m.\u001b[39m_multiplier\n\u001b[0;32m    371\u001b[0m )\n\u001b[1;32m--> 372\u001b[0m \u001b[38;5;28;01mreturn\u001b[39;00m retry_target(\n\u001b[0;32m    373\u001b[0m     target,\n\u001b[0;32m    374\u001b[0m     \u001b[38;5;28mself\u001b[39m\u001b[38;5;241m.\u001b[39m_predicate,\n\u001b[0;32m    375\u001b[0m     sleep_generator,\n\u001b[0;32m    376\u001b[0m     \u001b[38;5;28mself\u001b[39m\u001b[38;5;241m.\u001b[39m_timeout,\n\u001b[0;32m    377\u001b[0m     on_error\u001b[38;5;241m=\u001b[39mon_error,\n\u001b[0;32m    378\u001b[0m )\n",
      "File \u001b[1;32m~\\AppData\\Roaming\\Python\\Python311\\site-packages\\google\\api_core\\retry.py:207\u001b[0m, in \u001b[0;36mretry_target\u001b[1;34m(target, predicate, sleep_generator, timeout, on_error, **kwargs)\u001b[0m\n\u001b[0;32m    205\u001b[0m \u001b[38;5;28;01mfor\u001b[39;00m sleep \u001b[38;5;129;01min\u001b[39;00m sleep_generator:\n\u001b[0;32m    206\u001b[0m     \u001b[38;5;28;01mtry\u001b[39;00m:\n\u001b[1;32m--> 207\u001b[0m         result \u001b[38;5;241m=\u001b[39m target()\n\u001b[0;32m    208\u001b[0m         \u001b[38;5;28;01mif\u001b[39;00m inspect\u001b[38;5;241m.\u001b[39misawaitable(result):\n\u001b[0;32m    209\u001b[0m             warnings\u001b[38;5;241m.\u001b[39mwarn(_ASYNC_RETRY_WARNING)\n",
      "File \u001b[1;32m~\\AppData\\Roaming\\Python\\Python311\\site-packages\\google\\api_core\\grpc_helpers.py:79\u001b[0m, in \u001b[0;36m_wrap_unary_errors.<locals>.error_remapped_callable\u001b[1;34m(*args, **kwargs)\u001b[0m\n\u001b[0;32m     76\u001b[0m \u001b[38;5;129m@functools\u001b[39m\u001b[38;5;241m.\u001b[39mwraps(callable_)\n\u001b[0;32m     77\u001b[0m \u001b[38;5;28;01mdef\u001b[39;00m \u001b[38;5;21merror_remapped_callable\u001b[39m(\u001b[38;5;241m*\u001b[39margs, \u001b[38;5;241m*\u001b[39m\u001b[38;5;241m*\u001b[39mkwargs):\n\u001b[0;32m     78\u001b[0m     \u001b[38;5;28;01mtry\u001b[39;00m:\n\u001b[1;32m---> 79\u001b[0m         \u001b[38;5;28;01mreturn\u001b[39;00m callable_(\u001b[38;5;241m*\u001b[39margs, \u001b[38;5;241m*\u001b[39m\u001b[38;5;241m*\u001b[39mkwargs)\n\u001b[0;32m     80\u001b[0m     \u001b[38;5;28;01mexcept\u001b[39;00m grpc\u001b[38;5;241m.\u001b[39mRpcError \u001b[38;5;28;01mas\u001b[39;00m exc:\n\u001b[0;32m     81\u001b[0m         \u001b[38;5;28;01mraise\u001b[39;00m exceptions\u001b[38;5;241m.\u001b[39mfrom_grpc_error(exc) \u001b[38;5;28;01mfrom\u001b[39;00m \u001b[38;5;21;01mexc\u001b[39;00m\n",
      "File \u001b[1;32m~\\AppData\\Roaming\\Python\\Python311\\site-packages\\grpc\\_channel.py:1157\u001b[0m, in \u001b[0;36m_UnaryUnaryMultiCallable.__call__\u001b[1;34m(self, request, timeout, metadata, credentials, wait_for_ready, compression)\u001b[0m\n\u001b[0;32m   1145\u001b[0m \u001b[38;5;28;01mdef\u001b[39;00m \u001b[38;5;21m__call__\u001b[39m(\n\u001b[0;32m   1146\u001b[0m     \u001b[38;5;28mself\u001b[39m,\n\u001b[0;32m   1147\u001b[0m     request: Any,\n\u001b[1;32m   (...)\u001b[0m\n\u001b[0;32m   1152\u001b[0m     compression: Optional[grpc\u001b[38;5;241m.\u001b[39mCompression] \u001b[38;5;241m=\u001b[39m \u001b[38;5;28;01mNone\u001b[39;00m,\n\u001b[0;32m   1153\u001b[0m ) \u001b[38;5;241m-\u001b[39m\u001b[38;5;241m>\u001b[39m Any:\n\u001b[0;32m   1154\u001b[0m     (\n\u001b[0;32m   1155\u001b[0m         state,\n\u001b[0;32m   1156\u001b[0m         call,\n\u001b[1;32m-> 1157\u001b[0m     ) \u001b[38;5;241m=\u001b[39m \u001b[38;5;28mself\u001b[39m\u001b[38;5;241m.\u001b[39m_blocking(\n\u001b[0;32m   1158\u001b[0m         request, timeout, metadata, credentials, wait_for_ready, compression\n\u001b[0;32m   1159\u001b[0m     )\n\u001b[0;32m   1160\u001b[0m     \u001b[38;5;28;01mreturn\u001b[39;00m _end_unary_response_blocking(state, call, \u001b[38;5;28;01mFalse\u001b[39;00m, \u001b[38;5;28;01mNone\u001b[39;00m)\n",
      "File \u001b[1;32m~\\AppData\\Roaming\\Python\\Python311\\site-packages\\grpc\\_channel.py:1141\u001b[0m, in \u001b[0;36m_UnaryUnaryMultiCallable._blocking\u001b[1;34m(self, request, timeout, metadata, credentials, wait_for_ready, compression)\u001b[0m\n\u001b[0;32m   1125\u001b[0m state\u001b[38;5;241m.\u001b[39mmethod \u001b[38;5;241m=\u001b[39m _common\u001b[38;5;241m.\u001b[39mdecode(\u001b[38;5;28mself\u001b[39m\u001b[38;5;241m.\u001b[39m_method)\n\u001b[0;32m   1126\u001b[0m call \u001b[38;5;241m=\u001b[39m \u001b[38;5;28mself\u001b[39m\u001b[38;5;241m.\u001b[39m_channel\u001b[38;5;241m.\u001b[39msegregated_call(\n\u001b[0;32m   1127\u001b[0m     cygrpc\u001b[38;5;241m.\u001b[39mPropagationConstants\u001b[38;5;241m.\u001b[39mGRPC_PROPAGATE_DEFAULTS,\n\u001b[0;32m   1128\u001b[0m     \u001b[38;5;28mself\u001b[39m\u001b[38;5;241m.\u001b[39m_method,\n\u001b[1;32m   (...)\u001b[0m\n\u001b[0;32m   1139\u001b[0m     \u001b[38;5;28mself\u001b[39m\u001b[38;5;241m.\u001b[39m_context,\n\u001b[0;32m   1140\u001b[0m )\n\u001b[1;32m-> 1141\u001b[0m event \u001b[38;5;241m=\u001b[39m call\u001b[38;5;241m.\u001b[39mnext_event()\n\u001b[0;32m   1142\u001b[0m _handle_event(event, state, \u001b[38;5;28mself\u001b[39m\u001b[38;5;241m.\u001b[39m_response_deserializer)\n\u001b[0;32m   1143\u001b[0m \u001b[38;5;28;01mreturn\u001b[39;00m state, call\n",
      "File \u001b[1;32msrc\\python\\grpcio\\grpc\\_cython\\_cygrpc/channel.pyx.pxi:366\u001b[0m, in \u001b[0;36mgrpc._cython.cygrpc.SegregatedCall.next_event\u001b[1;34m()\u001b[0m\n",
      "File \u001b[1;32msrc\\python\\grpcio\\grpc\\_cython\\_cygrpc/channel.pyx.pxi:187\u001b[0m, in \u001b[0;36mgrpc._cython.cygrpc._next_call_event\u001b[1;34m()\u001b[0m\n",
      "File \u001b[1;32msrc\\python\\grpcio\\grpc\\_cython\\_cygrpc/channel.pyx.pxi:181\u001b[0m, in \u001b[0;36mgrpc._cython.cygrpc._next_call_event\u001b[1;34m()\u001b[0m\n",
      "File \u001b[1;32msrc\\python\\grpcio\\grpc\\_cython\\_cygrpc/completion_queue.pyx.pxi:78\u001b[0m, in \u001b[0;36mgrpc._cython.cygrpc._latent_event\u001b[1;34m()\u001b[0m\n",
      "File \u001b[1;32msrc\\python\\grpcio\\grpc\\_cython\\_cygrpc/completion_queue.pyx.pxi:62\u001b[0m, in \u001b[0;36mgrpc._cython.cygrpc._internal_latent_event\u001b[1;34m()\u001b[0m\n",
      "File \u001b[1;32msrc\\python\\grpcio\\grpc\\_cython\\_cygrpc/completion_queue.pyx.pxi:58\u001b[0m, in \u001b[0;36mgrpc._cython.cygrpc._interpret_event\u001b[1;34m()\u001b[0m\n",
      "File \u001b[1;32msrc\\python\\grpcio\\grpc\\_cython\\_cygrpc/tag.pyx.pxi:71\u001b[0m, in \u001b[0;36mgrpc._cython.cygrpc._BatchOperationTag.event\u001b[1;34m()\u001b[0m\n",
      "File \u001b[1;32msrc\\python\\grpcio\\grpc\\_cython\\_cygrpc/operation.pyx.pxi:138\u001b[0m, in \u001b[0;36mgrpc._cython.cygrpc.ReceiveInitialMetadataOperation.un_c\u001b[1;34m()\u001b[0m\n",
      "File \u001b[1;32msrc\\python\\grpcio\\grpc\\_cython\\_cygrpc/metadata.pyx.pxi:69\u001b[0m, in \u001b[0;36mgrpc._cython.cygrpc._metadata\u001b[1;34m()\u001b[0m\n",
      "File \u001b[1;32msrc\\python\\grpcio\\grpc\\_cython\\_cygrpc/metadata.pyx.pxi:70\u001b[0m, in \u001b[0;36mgenexpr\u001b[1;34m()\u001b[0m\n",
      "File \u001b[1;32msrc\\python\\grpcio\\grpc\\_cython\\_cygrpc/metadata.pyx.pxi:64\u001b[0m, in \u001b[0;36mgrpc._cython.cygrpc._metadatum\u001b[1;34m()\u001b[0m\n",
      "File \u001b[1;32m<string>:1\u001b[0m, in \u001b[0;36m<lambda>\u001b[1;34m(_cls, key, value)\u001b[0m\n",
      "\u001b[1;31mKeyboardInterrupt\u001b[0m: "
     ]
    }
   ],
   "source": [
    "model = job.run(\n",
    "    dataset = dataset,\n",
    "    target_column = \"Churn\",\n",
    "    training_fraction_split=0.6,\n",
    "    validation_fraction_split=0.2,\n",
    "    test_fraction_split=0.2,\n",
    "    budget_milli_node_hours=1000,\n",
    "    model_display_name=\"Churn_model\",\n",
    "    disable_early_stopping=False\n",
    ")"
   ]
  },
  {
   "cell_type": "code",
   "execution_count": 10,
   "id": "d06f8472-abe4-48b7-bfb1-a4b145614cef",
   "metadata": {
    "tags": []
   },
   "outputs": [],
   "source": [
    "model_id = aiplatform.models.Model.list(filter='display_name=Churn_model')[-1].name"
   ]
  },
  {
   "cell_type": "code",
   "execution_count": 11,
   "id": "2898ac76-6386-418e-961f-4b3efac6354c",
   "metadata": {
    "tags": []
   },
   "outputs": [],
   "source": [
    "model = aiplatform.Model(model_name=model_id)"
   ]
  },
  {
   "cell_type": "code",
   "execution_count": 12,
   "id": "cc42b45e-29c0-44a6-91fc-0349d65f58c5",
   "metadata": {
    "tags": []
   },
   "outputs": [],
   "source": [
    "#retrive model from model registry\n",
    "# model = aiplatform.models.Model.get_model(model_name='6011075149028130816')\n",
    "\n",
    "# def get_model_sample(\n",
    "#     project: str,\n",
    "#     model_id: str,\n",
    "#     location: str = \"us-central1\",\n",
    "#     api_endpoint: str = \"us-central1-aiplatform.googleapis.com\",\n",
    "# ):\n",
    "#     # The AI Platform services require regional API endpoints.\n",
    "#     client_options = {\"api_endpoint\": api_endpoint}\n",
    "#     # Initialize client that will be used to create and send requests.\n",
    "#     # This client only needs to be created once, and can be reused for multiple requests.\n",
    "#     client = aiplatform.gapic.ModelServiceClient(client_options=client_options)\n",
    "#     name = client.model_path(project=project, location=location, model=model_id)\n",
    "#     response = client.get_model(name=name)\n",
    "#     # print(\"response:\", response)\n",
    "#     return response , name\n",
    "    \n",
    "# model , name = get_model_sample(project_id,'6011075149028130816')"
   ]
  },
  {
   "cell_type": "code",
   "execution_count": 13,
   "id": "2e467363-5431-40fd-aaae-371f31e75a3f",
   "metadata": {
    "tags": []
   },
   "outputs": [
    {
     "data": {
      "text/plain": [
       "<google.cloud.aiplatform.models.Model object at 0x0000023828AA6D10> \n",
       "resource name: projects/1034812075268/locations/us-central1/models/6011075149028130816"
      ]
     },
     "execution_count": 13,
     "metadata": {},
     "output_type": "execute_result"
    }
   ],
   "source": [
    "model"
   ]
  },
  {
   "cell_type": "code",
   "execution_count": 14,
   "id": "1503f29d-3b5a-4a50-bc69-797fd32dba30",
   "metadata": {
    "tags": []
   },
   "outputs": [
    {
     "name": "stdout",
     "output_type": "stream",
     "text": [
      "Creating Endpoint\n",
      "Create Endpoint backing LRO: projects/1034812075268/locations/us-central1/endpoints/4015598983568162816/operations/1998801122982100992\n",
      "Endpoint created. Resource name: projects/1034812075268/locations/us-central1/endpoints/4015598983568162816\n",
      "To use this Endpoint in another session:\n",
      "endpoint = aiplatform.Endpoint('projects/1034812075268/locations/us-central1/endpoints/4015598983568162816')\n",
      "Deploying model to Endpoint : projects/1034812075268/locations/us-central1/endpoints/4015598983568162816\n",
      "Using default machine_type: n1-standard-2\n",
      "Deploy Endpoint model backing LRO: projects/1034812075268/locations/us-central1/endpoints/4015598983568162816/operations/5520616031585828864\n",
      "Endpoint model deployed. Resource name: projects/1034812075268/locations/us-central1/endpoints/4015598983568162816\n"
     ]
    }
   ],
   "source": [
    "DEPLOYED_NAME = \"Churn_prediction\"\n",
    "\n",
    "endpoint = model.deploy(deployed_model_display_name=DEPLOYED_NAME)"
   ]
  },
  {
   "cell_type": "code",
   "execution_count": null,
   "id": "6ecb4b38-4486-47c6-a40e-428f2a5924a1",
   "metadata": {},
   "outputs": [],
   "source": [
    "predictions = endpoint.predict(instances=test_data_list)\n",
    "predictions"
   ]
  }
 ],
 "metadata": {
  "kernelspec": {
   "display_name": "Python 3 (ipykernel)",
   "language": "python",
   "name": "python3"
  },
  "language_info": {
   "codemirror_mode": {
    "name": "ipython",
    "version": 3
   },
   "file_extension": ".py",
   "mimetype": "text/x-python",
   "name": "python",
   "nbconvert_exporter": "python",
   "pygments_lexer": "ipython3",
   "version": "3.11.3"
  }
 },
 "nbformat": 4,
 "nbformat_minor": 5
}
