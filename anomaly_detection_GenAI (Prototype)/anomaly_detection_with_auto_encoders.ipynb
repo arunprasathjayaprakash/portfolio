{
 "cells": [
  {
   "cell_type": "markdown",
   "id": "71d536fb-913e-401e-9aca-9d7317b6d3ec",
   "metadata": {},
   "source": [
    "# Anamoly Detection Using Auto-Encoders\n",
    "\n",
    "##### Note: This work is a implementation of autoencoders learnt and built using nvidia DLI institute data of KDD99 dataset. Data is not available but the implementation for any generic autoencoder detection remains the same."
   ]
  },
  {
   "cell_type": "code",
   "execution_count": 8,
   "id": "11c66bdf-8f44-4c8f-8be0-37da2ab3a952",
   "metadata": {
    "tags": []
   },
   "outputs": [
    {
     "name": "stdout",
     "output_type": "stream",
     "text": [
      "The tensorboard extension is already loaded. To reload it, use:\n",
      "  %reload_ext tensorboard\n"
     ]
    }
   ],
   "source": [
    "# Import libraries that will be needed for the lab\n",
    "import numpy as np\n",
    "import pandas as pd\n",
    "import matplotlib.pyplot as plt\n",
    "from IPython.display import Image\n",
    "import os, datetime\n",
    "\n",
    "from sklearn.preprocessing import MinMaxScaler\n",
    "from sklearn.model_selection import train_test_split\n",
    "from sklearn.metrics import mean_squared_error\n",
    "from sklearn.metrics import roc_curve, auc, confusion_matrix\n",
    "from sklearn.cluster import KMeans\n",
    "\n",
    "import tensorflow as tf\n",
    "from tensorflow.keras import optimizers\n",
    "from tensorflow.keras.models import Model\n",
    "from tensorflow.keras.layers import Input, Dense, Dropout\n",
    "from tensorflow.keras.utils import plot_model\n",
    "%load_ext tensorboard\n",
    "\n",
    "import pickle\n",
    "\n",
    "import random\n",
    "random.seed(123)\n",
    "\n",
    "import pandas as pd\n",
    "import numpy as np\n",
    "from sklearn.model_selection import train_test_split\n",
    "from sklearn.preprocessing import LabelEncoder\n",
    "import argparse\n",
    "import pickle\n",
    "\n",
    "data_path = './data'"
   ]
  },
  {
   "cell_type": "markdown",
   "id": "53c8dfac-4940-443a-b3f6-b09c94f4a015",
   "metadata": {},
   "source": [
    "# Load the Dataset"
   ]
  },
  {
   "cell_type": "code",
   "execution_count": 9,
   "id": "5da616af-10a0-4758-b52e-90fd7d458785",
   "metadata": {
    "tags": []
   },
   "outputs": [],
   "source": [
    "#Function for keeping the percentage of anomalous data\n",
    "def reduce_anomalies(df, pct_anomalies=.01):\n",
    "    labels = df['label'].copy()\n",
    "    is_anomaly = labels != 'normal.'\n",
    "    num_normal = np.sum(~is_anomaly)\n",
    "    num_anomalies = int(pct_anomalies * num_normal)\n",
    "    all_anomalies = labels[labels != 'normal.']\n",
    "    anomalies_to_keep = np.random.choice(all_anomalies.index, size=num_anomalies, replace=False)\n",
    "    anomalous_data = df.iloc[anomalies_to_keep].copy()\n",
    "    normal_data = df[~is_anomaly].copy()\n",
    "    new_df = pd.concat([normal_data, anomalous_data], axis=0)\n",
    "    return new_df"
   ]
  },
  {
   "cell_type": "code",
   "execution_count": 11,
   "id": "68d99d8f-da7d-4274-b41d-7d4b0f515c0a",
   "metadata": {},
   "outputs": [],
   "source": [
    "#Pre Process the dataset\n",
    "\n",
    "data_path = './data/kddcup.data.corrected'\n",
    "\n",
    "col_names = [\"duration\",\"protocol_type\",\"service\",\"flag\",\"src_bytes\",\"dst_bytes\",\"land\",\"wrong_fragment\",\"urgent\",\"hot\",\"num_failed_logins\",\"logged_in\",\n",
    "             \"num_compromised\",\"root_shell\",\"su_attempted\",\"num_root\",\"num_file_creations\",\"num_shells\",\"num_access_files\",\"num_outbound_cmds\",\n",
    "             \"is_host_login\",\"is_guest_login\",\"count\",\"srv_count\",\"serror_rate\",\"srv_serror_rate\",\"rerror_rate\",\"srv_rerror_rate\",\"same_srv_rate\",\n",
    "             \"diff_srv_rate\",\"srv_diff_host_rate\",\"dst_host_count\",\"dst_host_srv_count\",\"dst_host_same_srv_rate\",\"dst_host_diff_srv_rate\",\n",
    "             \"dst_host_same_src_port_rate\",\"dst_host_srv_diff_host_rate\",\"dst_host_serror_rate\",\"dst_host_srv_serror_rate\",\"dst_host_rerror_rate\",\n",
    "             \"dst_host_srv_rerror_rate\",\"label\"]\n",
    "\n",
    "df =  pd.read_csv(data_path, header=None, names=col_names, index_col=False)\n",
    "\n",
    "le = LabelEncoder()\n",
    "le.fit(df.label)\n",
    "\n",
    "#Change the percentatge of anomalies from 0.01 to 0.05 \n",
    "df = reduce_anomalies(df, pct_anomalies=0.01)\n",
    "\n",
    "# capture the categorical variables and one-hot encode them\n",
    "cat_vars = ['protocol_type', 'service', 'flag', 'land', 'logged_in','is_host_login', 'is_guest_login']\n",
    "\n",
    "# find unique labels for each category\n",
    "cat_data = pd.get_dummies(df[cat_vars])\n",
    "\n",
    "numeric_vars = list(set(df.columns.values.tolist()) - set(cat_vars))\n",
    "numeric_vars.remove('label')\n",
    "numeric_data = df[numeric_vars].copy()\n",
    "\n",
    "numeric_cat_data = pd.concat([numeric_data, cat_data], axis=1)\n",
    "\n",
    "# capture the labels\n",
    "labels = df['label'].copy()\n",
    "\n",
    "# convert labels to integers\n",
    "integer_labels = le.transform(labels)\n",
    "\n",
    "# split data into test and train\n",
    "x_train, x_test, y_train, y_test = train_test_split(numeric_cat_data,\n",
    "                                                    integer_labels,\n",
    "                                                    test_size=.25, \n",
    "                                                    random_state=42)\n",
    "\n",
    "# save the datasets for later use\n",
    "preprocessed_data = {\n",
    "    'x_train':x_train,\n",
    "    'y_train':y_train,\n",
    "    'x_test':x_test,\n",
    "    'y_test':y_test,\n",
    "    'le':le\n",
    "}\n",
    "\n",
    "# pickle the preprocessed_data\n",
    "path = 'preprocessed_data_full.pkl'\n",
    "out = open(path, 'wb')\n",
    "pickle.dump(preprocessed_data, out)\n",
    "out.close()\n"
   ]
  },
  {
   "cell_type": "code",
   "execution_count": 12,
   "id": "74532f5f-a641-4428-9a8a-f67e16604296",
   "metadata": {
    "tags": []
   },
   "outputs": [],
   "source": [
    "filename = './preprocessed_data_full.pkl'\n",
    "input_file = open(filename,'rb')\n",
    "preprocessed_data = pickle.load(input_file)\n",
    "input_file.close()"
   ]
  },
  {
   "cell_type": "code",
   "execution_count": 13,
   "id": "d0a65e4a-7c1e-46de-ae01-a50c76089d88",
   "metadata": {
    "tags": []
   },
   "outputs": [],
   "source": [
    "le = preprocessed_data['le']\n",
    "x_train = preprocessed_data['x_train']\n",
    "y_train = preprocessed_data['y_train']\n",
    "x_test = preprocessed_data['x_test']\n",
    "y_test = preprocessed_data['y_test']"
   ]
  },
  {
   "cell_type": "markdown",
   "id": "c86bdb73-1fbb-43a6-a828-0149ba891b0e",
   "metadata": {},
   "source": [
    "# Data Preprocessing"
   ]
  },
  {
   "cell_type": "code",
   "execution_count": 14,
   "id": "d4374c75-a30f-4bed-a2b6-08b02ef9938e",
   "metadata": {
    "tags": []
   },
   "outputs": [],
   "source": [
    "# Normalize the testing and training data using the MinMaxScaler from the scikit learn package\n",
    "scaler = MinMaxScaler()\n",
    "\n",
    "# Make sure to only fit the scaler on the training data\n",
    "x_train = scaler.fit_transform(x_train)\n",
    "x_test = scaler.transform(x_test)\n",
    "\n",
    "# convert the data to FP32\n",
    "x_train = x_train.astype(np.float32)\n",
    "x_test = x_test.astype(np.float32)"
   ]
  },
  {
   "cell_type": "code",
   "execution_count": 15,
   "id": "e1a31141-e8a8-44d2-abb1-421ffe54eed9",
   "metadata": {
    "tags": []
   },
   "outputs": [
    {
     "name": "stdout",
     "output_type": "stream",
     "text": [
      "Model: \"model\"\n",
      "_________________________________________________________________\n",
      " Layer (type)                Output Shape              Param #   \n",
      "=================================================================\n",
      " encoder_input (InputLayer)  [(None, 114)]             0         \n",
      "                                                                 \n",
      " encoder_1 (Dense)           (None, 96)                11040     \n",
      "                                                                 \n",
      " dropout (Dropout)           (None, 96)                0         \n",
      "                                                                 \n",
      " encoder_2 (Dense)           (None, 64)                6208      \n",
      "                                                                 \n",
      " dropout_1 (Dropout)         (None, 64)                0         \n",
      "                                                                 \n",
      " encoder_3 (Dense)           (None, 48)                3120      \n",
      "                                                                 \n",
      " dropout_2 (Dropout)         (None, 48)                0         \n",
      "                                                                 \n",
      " encoder_4 (Dense)           (None, 16)                784       \n",
      "                                                                 \n",
      " dropout_3 (Dropout)         (None, 16)                0         \n",
      "                                                                 \n",
      " latent_encoding (Dense)     (None, 4)                 68        \n",
      "                                                                 \n",
      "=================================================================\n",
      "Total params: 21220 (82.89 KB)\n",
      "Trainable params: 21220 (82.89 KB)\n",
      "Non-trainable params: 0 (0.00 Byte)\n",
      "_________________________________________________________________\n"
     ]
    }
   ],
   "source": [
    "# Intialize the AutoEncoders\n",
    "\n",
    "input_dim = x_train.shape[1]\n",
    "\n",
    "# model hyperparameters\n",
    "batch_size = 512\n",
    "\n",
    "latent_dim = 4 \n",
    "\n",
    "max_epochs = 10 \n",
    "\n",
    "# The encoder will consist of a number of dense layers that decrease in size \n",
    "# as we taper down towards the bottleneck of the network, the latent space\n",
    "input_data = Input(shape=(input_dim,), name='encoder_input')\n",
    "\n",
    "# hidden layers\n",
    "encoder = Dense(96,activation='tanh', name='encoder_1')(input_data)\n",
    "encoder = Dropout(.1)(encoder)\n",
    "encoder = Dense(64,activation='tanh', name='encoder_2')(encoder)\n",
    "encoder = Dropout(.1)(encoder)\n",
    "encoder = Dense(48,activation='tanh', name='encoder_3')(encoder)\n",
    "encoder = Dropout(.1)(encoder)\n",
    "encoder = Dense(16,activation='tanh', name='encoder_4')(encoder)\n",
    "encoder = Dropout(.1)(encoder)\n",
    "\n",
    "# bottleneck layer\n",
    "latent_encoding = Dense(latent_dim, activation='linear', name='latent_encoding')(encoder)\n",
    "\n",
    "\n",
    "encoder_model = Model(input_data, latent_encoding)\n",
    "\n",
    "encoder_model.summary()"
   ]
  },
  {
   "cell_type": "code",
   "execution_count": 18,
   "id": "d4925703-b41f-41f9-9972-4b30edfb1463",
   "metadata": {
    "tags": []
   },
   "outputs": [],
   "source": [
    "# Decoder network for reconstruction \n",
    "\n",
    "# The decoder network is a mirror image of the encoder network\n",
    "decoder = Dense(16, activation='tanh', name='decoder_1')(latent_encoding)\n",
    "decoder = Dropout(.1)(decoder)\n",
    "decoder = Dense(48, activation='tanh', name='decoder_2')(decoder)\n",
    "decoder = Dropout(.1)(decoder)\n",
    "decoder = Dense(64, activation='tanh', name='decoder_3')(decoder)\n",
    "decoder = Dropout(.1)(decoder)\n",
    "decoder = Dense(96, activation='tanh', name='decoder_4')(decoder)\n",
    "decoder = Dropout(.1)(decoder)\n",
    "\n",
    "# The output is the same dimension as the input data we are reconstructing\n",
    "reconstructed_data = Dense(input_dim, activation='linear', name='reconstructed_data')(decoder)"
   ]
  },
  {
   "cell_type": "code",
   "execution_count": 19,
   "id": "35ae0979-2b3a-4367-926a-a15624892b14",
   "metadata": {
    "tags": []
   },
   "outputs": [
    {
     "name": "stdout",
     "output_type": "stream",
     "text": [
      "Model: \"model_1\"\n",
      "_________________________________________________________________\n",
      " Layer (type)                Output Shape              Param #   \n",
      "=================================================================\n",
      " encoder_input (InputLayer)  [(None, 114)]             0         \n",
      "                                                                 \n",
      " encoder_1 (Dense)           (None, 96)                11040     \n",
      "                                                                 \n",
      " dropout (Dropout)           (None, 96)                0         \n",
      "                                                                 \n",
      " encoder_2 (Dense)           (None, 64)                6208      \n",
      "                                                                 \n",
      " dropout_1 (Dropout)         (None, 64)                0         \n",
      "                                                                 \n",
      " encoder_3 (Dense)           (None, 48)                3120      \n",
      "                                                                 \n",
      " dropout_2 (Dropout)         (None, 48)                0         \n",
      "                                                                 \n",
      " encoder_4 (Dense)           (None, 16)                784       \n",
      "                                                                 \n",
      " dropout_3 (Dropout)         (None, 16)                0         \n",
      "                                                                 \n",
      " latent_encoding (Dense)     (None, 4)                 68        \n",
      "                                                                 \n",
      " decoder_1 (Dense)           (None, 16)                80        \n",
      "                                                                 \n",
      " dropout_4 (Dropout)         (None, 16)                0         \n",
      "                                                                 \n",
      " decoder_2 (Dense)           (None, 48)                816       \n",
      "                                                                 \n",
      " dropout_5 (Dropout)         (None, 48)                0         \n",
      "                                                                 \n",
      " decoder_3 (Dense)           (None, 64)                3136      \n",
      "                                                                 \n",
      " dropout_6 (Dropout)         (None, 64)                0         \n",
      "                                                                 \n",
      " decoder_4 (Dense)           (None, 96)                6240      \n",
      "                                                                 \n",
      " dropout_7 (Dropout)         (None, 96)                0         \n",
      "                                                                 \n",
      " reconstructed_data (Dense)  (None, 114)               11058     \n",
      "                                                                 \n",
      "=================================================================\n",
      "Total params: 42550 (166.21 KB)\n",
      "Trainable params: 42550 (166.21 KB)\n",
      "Non-trainable params: 0 (0.00 Byte)\n",
      "_________________________________________________________________\n"
     ]
    }
   ],
   "source": [
    "autoencoder_model = Model(input_data, reconstructed_data)\n",
    "\n",
    "autoencoder_model.summary()"
   ]
  },
  {
   "cell_type": "code",
   "execution_count": 20,
   "id": "0bb50e50-5074-4f73-aed0-63932c51ee86",
   "metadata": {
    "tags": []
   },
   "outputs": [],
   "source": [
    "#Optimizers for auto-encoder model\n",
    "opt = optimizers.Adam(learning_rate=.00001)\n",
    "\n",
    "autoencoder_model.compile(optimizer=opt, loss='mse', metrics=['accuracy'])"
   ]
  },
  {
   "cell_type": "code",
   "execution_count": 21,
   "id": "2f5327b5-535a-460f-8725-aaebf87611fc",
   "metadata": {
    "tags": []
   },
   "outputs": [
    {
     "name": "stdout",
     "output_type": "stream",
     "text": [
      "Epoch 1/10\n",
      "1440/1440 [==============================] - 22s 12ms/step - loss: 0.0422 - accuracy: 0.0463 - val_loss: 0.0164 - val_accuracy: 0.0897\n",
      "Epoch 2/10\n",
      "1440/1440 [==============================] - 15s 10ms/step - loss: 0.0227 - accuracy: 0.0681 - val_loss: 0.0118 - val_accuracy: 0.0550\n",
      "Epoch 3/10\n",
      "1440/1440 [==============================] - 15s 11ms/step - loss: 0.0167 - accuracy: 0.0778 - val_loss: 0.0095 - val_accuracy: 0.0341\n",
      "Epoch 4/10\n",
      "1440/1440 [==============================] - 15s 11ms/step - loss: 0.0128 - accuracy: 0.0799 - val_loss: 0.0071 - val_accuracy: 0.0584\n",
      "Epoch 5/10\n",
      "1440/1440 [==============================] - 15s 10ms/step - loss: 0.0104 - accuracy: 0.1036 - val_loss: 0.0061 - val_accuracy: 0.0153\n",
      "Epoch 6/10\n",
      "1440/1440 [==============================] - 15s 11ms/step - loss: 0.0091 - accuracy: 0.1349 - val_loss: 0.0054 - val_accuracy: 0.1742\n",
      "Epoch 7/10\n",
      "1440/1440 [==============================] - 16s 11ms/step - loss: 0.0082 - accuracy: 0.1513 - val_loss: 0.0052 - val_accuracy: 0.1899\n",
      "Epoch 8/10\n",
      "1440/1440 [==============================] - 15s 10ms/step - loss: 0.0076 - accuracy: 0.1527 - val_loss: 0.0050 - val_accuracy: 0.1884\n",
      "Epoch 9/10\n",
      "1440/1440 [==============================] - 16s 11ms/step - loss: 0.0072 - accuracy: 0.1505 - val_loss: 0.0049 - val_accuracy: 0.1872\n",
      "Epoch 10/10\n",
      "1440/1440 [==============================] - 15s 10ms/step - loss: 0.0069 - accuracy: 0.1460 - val_loss: 0.0048 - val_accuracy: 0.1737\n"
     ]
    }
   ],
   "source": [
    "#Train the model\n",
    "\n",
    "tensorboard_callback = tf.keras.callbacks.TensorBoard('./logs',profile_batch=0,update_freq='epoch',histogram_freq=1)\n",
    "\n",
    "train_history = autoencoder_model.fit(x_train, x_train,\n",
    "        shuffle=True,\n",
    "        epochs=max_epochs,\n",
    "        batch_size=batch_size,\n",
    "        validation_data=(x_test, x_test),\n",
    "        callbacks=[tensorboard_callback])"
   ]
  },
  {
   "cell_type": "code",
   "execution_count": 22,
   "id": "85806912-cb7b-447e-a689-bc1e3ff3991f",
   "metadata": {
    "tags": []
   },
   "outputs": [
    {
     "data": {
      "text/plain": [
       "<matplotlib.legend.Legend at 0x19e02c56310>"
      ]
     },
     "execution_count": 22,
     "metadata": {},
     "output_type": "execute_result"
    },
    {
     "data": {
      "image/png": "[encoded data removed]",
      "text/plain": [
       "<Figure size 640x480 with 1 Axes>"
      ]
     },
     "metadata": {},
     "output_type": "display_data"
    }
   ],
   "source": [
    "plt.plot(train_history.history['loss'])\n",
    "plt.plot(train_history.history['val_loss'])\n",
    "plt.legend(['loss on train data', 'loss on validation data'])"
   ]
  },
  {
   "cell_type": "code",
   "execution_count": 23,
   "id": "0fc1705c-558f-4f85-bd0e-1b2e8348ff76",
   "metadata": {
    "tags": []
   },
   "outputs": [
    {
     "data": {
      "text/plain": [
       "ERROR: Could not find `tensorboard`. Please ensure that your PATH\n",
       "contains an executable `tensorboard` program, or explicitly specify\n",
       "the path to a TensorBoard binary by setting the `TENSORBOARD_BINARY`\n",
       "environment variable."
      ]
     },
     "metadata": {},
     "output_type": "display_data"
    }
   ],
   "source": [
    "# Inspecting the training process\n",
    "\n",
    "%tensorboard --logdir logs"
   ]
  },
  {
   "cell_type": "markdown",
   "id": "2be43a2a-4762-4cd6-931c-5311f8a70b41",
   "metadata": {},
   "source": [
    "# Anomaly detection"
   ]
  },
  {
   "cell_type": "code",
   "execution_count": 25,
   "id": "48dda793-a155-4dfd-8c57-6ff992f9fca8",
   "metadata": {
    "tags": []
   },
   "outputs": [
    {
     "name": "stdout",
     "output_type": "stream",
     "text": [
      "7676/7676 [==============================] - 10s 1ms/step\n"
     ]
    }
   ],
   "source": [
    "# We need to set reconstion error for test data , compute errors usine MSE and set threshold\n",
    "\n",
    "# Reconstruct the data using our trainined autoencoder model.\n",
    "x_test_recon = autoencoder_model.predict(x_test)\n",
    "\n",
    "# the reconstruction score is the mean of the reconstruction errors (relatively high scores are anomalous)\n",
    "reconstruction_scores = np.mean((x_test - x_test_recon)**2, axis=1)"
   ]
  },
  {
   "cell_type": "code",
   "execution_count": 26,
   "id": "845c4fdf-1d0f-42c8-83a7-4de829422823",
   "metadata": {
    "tags": []
   },
   "outputs": [
    {
     "data": {
      "text/html": [
       "<div>\n",
       "<style scoped>\n",
       "    .dataframe tbody tr th:only-of-type {\n",
       "        vertical-align: middle;\n",
       "    }\n",
       "\n",
       "    .dataframe tbody tr th {\n",
       "        vertical-align: top;\n",
       "    }\n",
       "\n",
       "    .dataframe thead th {\n",
       "        text-align: right;\n",
       "    }\n",
       "</style>\n",
       "<table border=\"1\" class=\"dataframe\">\n",
       "  <thead>\n",
       "    <tr style=\"text-align: right;\">\n",
       "      <th></th>\n",
       "      <th>recon_score</th>\n",
       "    </tr>\n",
       "  </thead>\n",
       "  <tbody>\n",
       "    <tr>\n",
       "      <th>count</th>\n",
       "      <td>245627.000000</td>\n",
       "    </tr>\n",
       "    <tr>\n",
       "      <th>mean</th>\n",
       "      <td>0.004802</td>\n",
       "    </tr>\n",
       "    <tr>\n",
       "      <th>std</th>\n",
       "      <td>0.007880</td>\n",
       "    </tr>\n",
       "    <tr>\n",
       "      <th>min</th>\n",
       "      <td>0.000070</td>\n",
       "    </tr>\n",
       "    <tr>\n",
       "      <th>25%</th>\n",
       "      <td>0.001591</td>\n",
       "    </tr>\n",
       "    <tr>\n",
       "      <th>50%</th>\n",
       "      <td>0.001941</td>\n",
       "    </tr>\n",
       "    <tr>\n",
       "      <th>75%</th>\n",
       "      <td>0.004766</td>\n",
       "    </tr>\n",
       "    <tr>\n",
       "      <th>max</th>\n",
       "      <td>1.480508</td>\n",
       "    </tr>\n",
       "  </tbody>\n",
       "</table>\n",
       "</div>"
      ],
      "text/plain": [
       "         recon_score\n",
       "count  245627.000000\n",
       "mean        0.004802\n",
       "std         0.007880\n",
       "min         0.000070\n",
       "25%         0.001591\n",
       "50%         0.001941\n",
       "75%         0.004766\n",
       "max         1.480508"
      ]
     },
     "execution_count": 26,
     "metadata": {},
     "output_type": "execute_result"
    }
   ],
   "source": [
    "# store the reconstruction data in a Pandas dataframe\n",
    "anomaly_data = pd.DataFrame({'recon_score':reconstruction_scores})\n",
    "\n",
    "# if our reconstruction scores our normally distributed we can use their statistics\n",
    "anomaly_data.describe()"
   ]
  },
  {
   "cell_type": "code",
   "execution_count": 27,
   "id": "d02c22bf-db51-4b3b-adbe-83a7e240c602",
   "metadata": {
    "tags": []
   },
   "outputs": [
    {
     "data": {
      "text/plain": [
       "<Axes: xlabel='Reconstruction Score', ylabel='Frequency'>"
      ]
     },
     "execution_count": 27,
     "metadata": {},
     "output_type": "execute_result"
    },
    {
     "data": {
      "image/png": "[encoded data removed]",
      "text/plain": [
       "<Figure size 640x480 with 1 Axes>"
      ]
     },
     "metadata": {},
     "output_type": "display_data"
    }
   ],
   "source": [
    "# plotting the density will give us an idea of how the reconstruction scores are distributed\n",
    "plt.xlabel('Reconstruction Score')\n",
    "anomaly_data['recon_score'].plot.hist(bins=200, range=[-.01, .03])"
   ]
  },
  {
   "cell_type": "code",
   "execution_count": 29,
   "id": "b899d590-1d5c-4fa5-a7a9-1fe4b390b8c7",
   "metadata": {
    "tags": []
   },
   "outputs": [],
   "source": [
    "def convert_label_to_binary(label_encoder, labels):\n",
    "    normal_idx = np.where(label_encoder.classes_ == 'normal.')[0][0]\n",
    "    my_labels = labels.copy()\n",
    "    my_labels[my_labels != normal_idx] = 1 \n",
    "    my_labels[my_labels == normal_idx] = 0\n",
    "    return my_labels"
   ]
  },
  {
   "cell_type": "markdown",
   "id": "1b2ae582-fd6a-413b-b325-d6a3e5b070b7",
   "metadata": {},
   "source": [
    "# Model Validation"
   ]
  },
  {
   "cell_type": "code",
   "execution_count": 30,
   "id": "fe332bbe-e3cb-43e7-ac1b-18559198b118",
   "metadata": {
    "tags": []
   },
   "outputs": [
    {
     "data": {
      "text/html": [
       "<div>\n",
       "<style scoped>\n",
       "    .dataframe tbody tr th:only-of-type {\n",
       "        vertical-align: middle;\n",
       "    }\n",
       "\n",
       "    .dataframe tbody tr th {\n",
       "        vertical-align: top;\n",
       "    }\n",
       "\n",
       "    .dataframe thead tr th {\n",
       "        text-align: left;\n",
       "    }\n",
       "\n",
       "    .dataframe thead tr:last-of-type th {\n",
       "        text-align: right;\n",
       "    }\n",
       "</style>\n",
       "<table border=\"1\" class=\"dataframe\">\n",
       "  <thead>\n",
       "    <tr>\n",
       "      <th></th>\n",
       "      <th colspan=\"8\" halign=\"left\">recon_score</th>\n",
       "    </tr>\n",
       "    <tr>\n",
       "      <th></th>\n",
       "      <th>count</th>\n",
       "      <th>mean</th>\n",
       "      <th>std</th>\n",
       "      <th>min</th>\n",
       "      <th>25%</th>\n",
       "      <th>50%</th>\n",
       "      <th>75%</th>\n",
       "      <th>max</th>\n",
       "    </tr>\n",
       "    <tr>\n",
       "      <th>binary_labels</th>\n",
       "      <th></th>\n",
       "      <th></th>\n",
       "      <th></th>\n",
       "      <th></th>\n",
       "      <th></th>\n",
       "      <th></th>\n",
       "      <th></th>\n",
       "      <th></th>\n",
       "    </tr>\n",
       "  </thead>\n",
       "  <tbody>\n",
       "    <tr>\n",
       "      <th>0</th>\n",
       "      <td>243161.0</td>\n",
       "      <td>0.004325</td>\n",
       "      <td>0.006186</td>\n",
       "      <td>0.000070</td>\n",
       "      <td>0.001589</td>\n",
       "      <td>0.001900</td>\n",
       "      <td>0.004684</td>\n",
       "      <td>1.480508</td>\n",
       "    </tr>\n",
       "    <tr>\n",
       "      <th>1</th>\n",
       "      <td>2466.0</td>\n",
       "      <td>0.051887</td>\n",
       "      <td>0.013212</td>\n",
       "      <td>0.001728</td>\n",
       "      <td>0.045932</td>\n",
       "      <td>0.045932</td>\n",
       "      <td>0.045932</td>\n",
       "      <td>0.083050</td>\n",
       "    </tr>\n",
       "  </tbody>\n",
       "</table>\n",
       "</div>"
      ],
      "text/plain": [
       "              recon_score                                                    \\\n",
       "                    count      mean       std       min       25%       50%   \n",
       "binary_labels                                                                 \n",
       "0                243161.0  0.004325  0.006186  0.000070  0.001589  0.001900   \n",
       "1                  2466.0  0.051887  0.013212  0.001728  0.045932  0.045932   \n",
       "\n",
       "                                   \n",
       "                    75%       max  \n",
       "binary_labels                      \n",
       "0              0.004684  1.480508  \n",
       "1              0.045932  0.083050  "
      ]
     },
     "execution_count": 30,
     "metadata": {},
     "output_type": "execute_result"
    }
   ],
   "source": [
    "# convert our labels to binary\n",
    "binary_labels = convert_label_to_binary(le, y_test)\n",
    "\n",
    "# add the binary labels to our anomaly dataframe\n",
    "anomaly_data['binary_labels'] = binary_labels\n",
    "\n",
    "# let's check if the reconstruction statistics are different for labeled anomalies\n",
    "anomaly_data.groupby(by='binary_labels').describe()"
   ]
  },
  {
   "cell_type": "code",
   "execution_count": 31,
   "id": "83f86766-ae76-4f08-92bf-046e340288c5",
   "metadata": {
    "tags": []
   },
   "outputs": [
    {
     "data": {
      "image/png": "[encoded data removed]",
      "text/plain": [
       "<Figure size 1000x1000 with 1 Axes>"
      ]
     },
     "metadata": {},
     "output_type": "display_data"
    }
   ],
   "source": [
    "fpr, tpr, thresholds = roc_curve(binary_labels, reconstruction_scores)\n",
    "roc_auc = auc(fpr, tpr)\n",
    "\n",
    "plt.figure(figsize=(10,10))\n",
    "plt.plot(fpr, tpr, lw=1, label='ROC curve (area = %0.2f)' % roc_auc)\n",
    "plt.plot([0, 1], [0, 1], color='lime', linestyle='--')\n",
    "plt.xlim([0.0, 1.0])\n",
    "plt.ylim([0.0, 1.05])\n",
    "plt.xlabel('False Positive Rate')\n",
    "plt.ylabel('True Positive Rate')\n",
    "plt.title('Receiver operating characteristic')\n",
    "plt.legend(loc=\"lower right\")\n",
    "plt.show()"
   ]
  },
  {
   "cell_type": "code",
   "execution_count": 32,
   "id": "1f820fd1-4fcb-491a-9eca-b94553285439",
   "metadata": {
    "tags": []
   },
   "outputs": [
    {
     "name": "stdout",
     "output_type": "stream",
     "text": [
      "0.031679943\n"
     ]
    }
   ],
   "source": [
    "# We can pick the threshold based on maximizing the true positive rate (tpr) \n",
    "# and minimizing the false positive rate (fpr)\n",
    "optimal_threshold_idx = np.argmax(tpr - fpr)\n",
    "optimal_threshold = thresholds[optimal_threshold_idx]\n",
    "print(optimal_threshold)"
   ]
  },
  {
   "cell_type": "code",
   "execution_count": 33,
   "id": "1b5fcfe2-52a4-40cc-8870-92d295595539",
   "metadata": {
    "tags": []
   },
   "outputs": [
    {
     "name": "stdout",
     "output_type": "stream",
     "text": [
      "0.044210389256477356\n"
     ]
    }
   ],
   "source": [
    "# Or we assume our reconstructions are normally distributed and label anomalies as those\n",
    "# that are a number of standard deviations away from the mean\n",
    "recon_mean = np.mean(reconstruction_scores)\n",
    "recon_stddev = np.std(reconstruction_scores)\n",
    "\n",
    "stats_threshold = recon_mean + 5*recon_stddev\n",
    "print(stats_threshold)"
   ]
  },
  {
   "cell_type": "code",
   "execution_count": 34,
   "id": "7e3e3185-3cc3-4e50-bfbb-7274220685dc",
   "metadata": {
    "tags": []
   },
   "outputs": [
    {
     "name": "stdout",
     "output_type": "stream",
     "text": [
      "0.044210389256477356\n"
     ]
    }
   ],
   "source": [
    "# play around here and find the threshold that works for you\n",
    "\n",
    "#thresh = optimal_threshold\n",
    "thresh = stats_threshold\n",
    "\n",
    "print(thresh)\n",
    "\n",
    "pred_labels = (reconstruction_scores > thresh).astype(int)\n",
    "\n",
    "results = confusion_matrix(binary_labels, pred_labels) \n"
   ]
  },
  {
   "cell_type": "code",
   "execution_count": null,
   "id": "fe7382ec-8f1b-4925-a331-d6d75a0ee049",
   "metadata": {},
   "outputs": [],
   "source": []
  }
 ],
 "metadata": {
  "kernelspec": {
   "display_name": "Python 3 (ipykernel)",
   "language": "python",
   "name": "python3"
  },
  "language_info": {
   "codemirror_mode": {
    "name": "ipython",
    "version": 3
   },
   "file_extension": ".py",
   "mimetype": "text/x-python",
   "name": "python",
   "nbconvert_exporter": "python",
   "pygments_lexer": "ipython3",
   "version": "3.11.3"
  }
 },
 "nbformat": 4,
 "nbformat_minor": 5
}
