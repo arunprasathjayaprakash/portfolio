{
 "cells": [
  {
   "cell_type": "code",
   "execution_count": 13,
   "id": "e2acc16e-e76a-4e8e-b01c-3fb65689ae1b",
   "metadata": {},
   "outputs": [
    {
     "name": "stdout",
     "output_type": "stream",
     "text": [
      "Defaulting to user installation because normal site-packages is not writeable\n",
      "Requirement already satisfied: scikit-learn in c:\\programdata\\anaconda3\\lib\\site-packages (1.2.2)\n",
      "Requirement already satisfied: numpy>=1.17.3 in c:\\users\\arun8\\appdata\\roaming\\python\\python311\\site-packages (from scikit-learn) (1.26.4)\n",
      "Requirement already satisfied: scipy>=1.3.2 in c:\\programdata\\anaconda3\\lib\\site-packages (from scikit-learn) (1.10.1)\n",
      "Requirement already satisfied: joblib>=1.1.1 in c:\\programdata\\anaconda3\\lib\\site-packages (from scikit-learn) (1.2.0)\n",
      "Requirement already satisfied: threadpoolctl>=2.0.0 in c:\\programdata\\anaconda3\\lib\\site-packages (from scikit-learn) (2.2.0)\n"
     ]
    }
   ],
   "source": [
    "!pip3 install scikit-learn"
   ]
  },
  {
   "cell_type": "code",
   "execution_count": 14,
   "id": "76e44dc8-c8de-4789-97ab-f008fb00bd7c",
   "metadata": {},
   "outputs": [],
   "source": [
    "import pandas as pd"
   ]
  },
  {
   "cell_type": "code",
   "execution_count": 15,
   "id": "751b4e75-1a06-4974-8c11-bee097f253ea",
   "metadata": {},
   "outputs": [
    {
     "data": {
      "text/html": [
       "<div>\n",
       "<style scoped>\n",
       "    .dataframe tbody tr th:only-of-type {\n",
       "        vertical-align: middle;\n",
       "    }\n",
       "\n",
       "    .dataframe tbody tr th {\n",
       "        vertical-align: top;\n",
       "    }\n",
       "\n",
       "    .dataframe thead th {\n",
       "        text-align: right;\n",
       "    }\n",
       "</style>\n",
       "<table border=\"1\" class=\"dataframe\">\n",
       "  <thead>\n",
       "    <tr style=\"text-align: right;\">\n",
       "      <th></th>\n",
       "      <th>CRIM</th>\n",
       "      <th>ZN</th>\n",
       "      <th>INDUS</th>\n",
       "      <th>CHAS</th>\n",
       "      <th>NOX</th>\n",
       "      <th>RM</th>\n",
       "      <th>AGE</th>\n",
       "      <th>DIS</th>\n",
       "      <th>RAD</th>\n",
       "      <th>TAX</th>\n",
       "      <th>PTRATIO</th>\n",
       "      <th>B</th>\n",
       "      <th>LSTAT</th>\n",
       "      <th>label</th>\n",
       "    </tr>\n",
       "  </thead>\n",
       "  <tbody>\n",
       "    <tr>\n",
       "      <th>0</th>\n",
       "      <td>0.00632</td>\n",
       "      <td>18.0</td>\n",
       "      <td>2.31</td>\n",
       "      <td>0.0</td>\n",
       "      <td>0.538</td>\n",
       "      <td>6.575</td>\n",
       "      <td>65.2</td>\n",
       "      <td>4.0900</td>\n",
       "      <td>1.0</td>\n",
       "      <td>296.0</td>\n",
       "      <td>15.3</td>\n",
       "      <td>396.90</td>\n",
       "      <td>4.98</td>\n",
       "      <td>2.31</td>\n",
       "    </tr>\n",
       "    <tr>\n",
       "      <th>1</th>\n",
       "      <td>0.02731</td>\n",
       "      <td>0.0</td>\n",
       "      <td>7.07</td>\n",
       "      <td>0.0</td>\n",
       "      <td>0.469</td>\n",
       "      <td>6.421</td>\n",
       "      <td>78.9</td>\n",
       "      <td>4.9671</td>\n",
       "      <td>2.0</td>\n",
       "      <td>242.0</td>\n",
       "      <td>17.8</td>\n",
       "      <td>396.90</td>\n",
       "      <td>9.14</td>\n",
       "      <td>7.07</td>\n",
       "    </tr>\n",
       "    <tr>\n",
       "      <th>2</th>\n",
       "      <td>0.02729</td>\n",
       "      <td>0.0</td>\n",
       "      <td>7.07</td>\n",
       "      <td>0.0</td>\n",
       "      <td>0.469</td>\n",
       "      <td>7.185</td>\n",
       "      <td>61.1</td>\n",
       "      <td>4.9671</td>\n",
       "      <td>2.0</td>\n",
       "      <td>242.0</td>\n",
       "      <td>17.8</td>\n",
       "      <td>392.83</td>\n",
       "      <td>4.03</td>\n",
       "      <td>7.07</td>\n",
       "    </tr>\n",
       "    <tr>\n",
       "      <th>3</th>\n",
       "      <td>0.03237</td>\n",
       "      <td>0.0</td>\n",
       "      <td>2.18</td>\n",
       "      <td>0.0</td>\n",
       "      <td>0.458</td>\n",
       "      <td>6.998</td>\n",
       "      <td>45.8</td>\n",
       "      <td>6.0622</td>\n",
       "      <td>3.0</td>\n",
       "      <td>222.0</td>\n",
       "      <td>18.7</td>\n",
       "      <td>394.63</td>\n",
       "      <td>2.94</td>\n",
       "      <td>2.18</td>\n",
       "    </tr>\n",
       "    <tr>\n",
       "      <th>4</th>\n",
       "      <td>0.06905</td>\n",
       "      <td>0.0</td>\n",
       "      <td>2.18</td>\n",
       "      <td>0.0</td>\n",
       "      <td>0.458</td>\n",
       "      <td>7.147</td>\n",
       "      <td>54.2</td>\n",
       "      <td>6.0622</td>\n",
       "      <td>3.0</td>\n",
       "      <td>222.0</td>\n",
       "      <td>18.7</td>\n",
       "      <td>396.90</td>\n",
       "      <td>5.33</td>\n",
       "      <td>2.18</td>\n",
       "    </tr>\n",
       "  </tbody>\n",
       "</table>\n",
       "</div>"
      ],
      "text/plain": [
       "      CRIM    ZN  INDUS  CHAS    NOX     RM   AGE     DIS  RAD    TAX  \\\n",
       "0  0.00632  18.0   2.31   0.0  0.538  6.575  65.2  4.0900  1.0  296.0   \n",
       "1  0.02731   0.0   7.07   0.0  0.469  6.421  78.9  4.9671  2.0  242.0   \n",
       "2  0.02729   0.0   7.07   0.0  0.469  7.185  61.1  4.9671  2.0  242.0   \n",
       "3  0.03237   0.0   2.18   0.0  0.458  6.998  45.8  6.0622  3.0  222.0   \n",
       "4  0.06905   0.0   2.18   0.0  0.458  7.147  54.2  6.0622  3.0  222.0   \n",
       "\n",
       "   PTRATIO       B  LSTAT  label  \n",
       "0     15.3  396.90   4.98   2.31  \n",
       "1     17.8  396.90   9.14   7.07  \n",
       "2     17.8  392.83   4.03   7.07  \n",
       "3     18.7  394.63   2.94   2.18  \n",
       "4     18.7  396.90   5.33   2.18  "
      ]
     },
     "execution_count": 15,
     "metadata": {},
     "output_type": "execute_result"
    }
   ],
   "source": [
    "import numpy as np\n",
    "\n",
    "data_url = \"http://lib.stat.cmu.edu/datasets/boston\"\n",
    "raw_df= pd.read_csv(data_url,sep=\"\\s+\",skiprows=22, header=None) # skipping first rows till header to get data\n",
    "data = np.hstack([raw_df.values[::2,:],raw_df.values[1::2,:2]])\n",
    "target = raw_df.values[::2,2]\n",
    "boston_df = pd.DataFrame(data,columns=['CRIM', 'ZN', 'INDUS', 'CHAS', 'NOX', 'RM', 'AGE', 'DIS', 'RAD', 'TAX', 'PTRATIO','B', 'LSTAT'])\n",
    "boston_df['label'] = target\n",
    "boston_df.head()"
   ]
  },
  {
   "cell_type": "code",
   "execution_count": 16,
   "id": "3cc69edd-c3ee-484d-bdbf-715192ec8ac8",
   "metadata": {},
   "outputs": [
    {
     "data": {
      "text/html": [
       "<div>\n",
       "<style scoped>\n",
       "    .dataframe tbody tr th:only-of-type {\n",
       "        vertical-align: middle;\n",
       "    }\n",
       "\n",
       "    .dataframe tbody tr th {\n",
       "        vertical-align: top;\n",
       "    }\n",
       "\n",
       "    .dataframe thead th {\n",
       "        text-align: right;\n",
       "    }\n",
       "</style>\n",
       "<table border=\"1\" class=\"dataframe\">\n",
       "  <thead>\n",
       "    <tr style=\"text-align: right;\">\n",
       "      <th></th>\n",
       "      <th>G1</th>\n",
       "      <th>G2</th>\n",
       "      <th>G3</th>\n",
       "      <th>G4</th>\n",
       "      <th>G5</th>\n",
       "      <th>G6</th>\n",
       "      <th>G7</th>\n",
       "      <th>G8</th>\n",
       "      <th>G9</th>\n",
       "      <th>G10</th>\n",
       "      <th>label</th>\n",
       "    </tr>\n",
       "  </thead>\n",
       "  <tbody>\n",
       "    <tr>\n",
       "      <th>0</th>\n",
       "      <td>0</td>\n",
       "      <td>0</td>\n",
       "      <td>0</td>\n",
       "      <td>1</td>\n",
       "      <td>0</td>\n",
       "      <td>0</td>\n",
       "      <td>0</td>\n",
       "      <td>0</td>\n",
       "      <td>0</td>\n",
       "      <td>0</td>\n",
       "      <td>0</td>\n",
       "    </tr>\n",
       "    <tr>\n",
       "      <th>1</th>\n",
       "      <td>0</td>\n",
       "      <td>0</td>\n",
       "      <td>0</td>\n",
       "      <td>0</td>\n",
       "      <td>1</td>\n",
       "      <td>0</td>\n",
       "      <td>0</td>\n",
       "      <td>0</td>\n",
       "      <td>0</td>\n",
       "      <td>0</td>\n",
       "      <td>0</td>\n",
       "    </tr>\n",
       "    <tr>\n",
       "      <th>2</th>\n",
       "      <td>0</td>\n",
       "      <td>0</td>\n",
       "      <td>1</td>\n",
       "      <td>0</td>\n",
       "      <td>0</td>\n",
       "      <td>0</td>\n",
       "      <td>0</td>\n",
       "      <td>0</td>\n",
       "      <td>0</td>\n",
       "      <td>0</td>\n",
       "      <td>0</td>\n",
       "    </tr>\n",
       "    <tr>\n",
       "      <th>3</th>\n",
       "      <td>0</td>\n",
       "      <td>0</td>\n",
       "      <td>1</td>\n",
       "      <td>0</td>\n",
       "      <td>0</td>\n",
       "      <td>1</td>\n",
       "      <td>1</td>\n",
       "      <td>0</td>\n",
       "      <td>0</td>\n",
       "      <td>1</td>\n",
       "      <td>1</td>\n",
       "    </tr>\n",
       "    <tr>\n",
       "      <th>4</th>\n",
       "      <td>0</td>\n",
       "      <td>0</td>\n",
       "      <td>1</td>\n",
       "      <td>0</td>\n",
       "      <td>1</td>\n",
       "      <td>1</td>\n",
       "      <td>0</td>\n",
       "      <td>1</td>\n",
       "      <td>1</td>\n",
       "      <td>0</td>\n",
       "      <td>1</td>\n",
       "    </tr>\n",
       "    <tr>\n",
       "      <th>...</th>\n",
       "      <td>...</td>\n",
       "      <td>...</td>\n",
       "      <td>...</td>\n",
       "      <td>...</td>\n",
       "      <td>...</td>\n",
       "      <td>...</td>\n",
       "      <td>...</td>\n",
       "      <td>...</td>\n",
       "      <td>...</td>\n",
       "      <td>...</td>\n",
       "      <td>...</td>\n",
       "    </tr>\n",
       "    <tr>\n",
       "      <th>22900</th>\n",
       "      <td>0</td>\n",
       "      <td>0</td>\n",
       "      <td>1</td>\n",
       "      <td>0</td>\n",
       "      <td>0</td>\n",
       "      <td>0</td>\n",
       "      <td>0</td>\n",
       "      <td>0</td>\n",
       "      <td>0</td>\n",
       "      <td>0</td>\n",
       "      <td>0</td>\n",
       "    </tr>\n",
       "    <tr>\n",
       "      <th>22901</th>\n",
       "      <td>1</td>\n",
       "      <td>0</td>\n",
       "      <td>0</td>\n",
       "      <td>0</td>\n",
       "      <td>0</td>\n",
       "      <td>0</td>\n",
       "      <td>0</td>\n",
       "      <td>0</td>\n",
       "      <td>0</td>\n",
       "      <td>0</td>\n",
       "      <td>0</td>\n",
       "    </tr>\n",
       "    <tr>\n",
       "      <th>22902</th>\n",
       "      <td>0</td>\n",
       "      <td>0</td>\n",
       "      <td>0</td>\n",
       "      <td>0</td>\n",
       "      <td>0</td>\n",
       "      <td>0</td>\n",
       "      <td>0</td>\n",
       "      <td>0</td>\n",
       "      <td>0</td>\n",
       "      <td>0</td>\n",
       "      <td>1</td>\n",
       "    </tr>\n",
       "    <tr>\n",
       "      <th>22903</th>\n",
       "      <td>0</td>\n",
       "      <td>0</td>\n",
       "      <td>1</td>\n",
       "      <td>0</td>\n",
       "      <td>0</td>\n",
       "      <td>0</td>\n",
       "      <td>0</td>\n",
       "      <td>0</td>\n",
       "      <td>0</td>\n",
       "      <td>0</td>\n",
       "      <td>0</td>\n",
       "    </tr>\n",
       "    <tr>\n",
       "      <th>22904</th>\n",
       "      <td>0</td>\n",
       "      <td>0</td>\n",
       "      <td>0</td>\n",
       "      <td>0</td>\n",
       "      <td>0</td>\n",
       "      <td>0</td>\n",
       "      <td>0</td>\n",
       "      <td>0</td>\n",
       "      <td>0</td>\n",
       "      <td>0</td>\n",
       "      <td>0</td>\n",
       "    </tr>\n",
       "  </tbody>\n",
       "</table>\n",
       "<p>22905 rows × 11 columns</p>\n",
       "</div>"
      ],
      "text/plain": [
       "       G1  G2  G3  G4  G5  G6  G7  G8  G9  G10  label\n",
       "0       0   0   0   1   0   0   0   0   0    0      0\n",
       "1       0   0   0   0   1   0   0   0   0    0      0\n",
       "2       0   0   1   0   0   0   0   0   0    0      0\n",
       "3       0   0   1   0   0   1   1   0   0    1      1\n",
       "4       0   0   1   0   1   1   0   1   1    0      1\n",
       "...    ..  ..  ..  ..  ..  ..  ..  ..  ..  ...    ...\n",
       "22900   0   0   1   0   0   0   0   0   0    0      0\n",
       "22901   1   0   0   0   0   0   0   0   0    0      0\n",
       "22902   0   0   0   0   0   0   0   0   0    0      1\n",
       "22903   0   0   1   0   0   0   0   0   0    0      0\n",
       "22904   0   0   0   0   0   0   0   0   0    0      0\n",
       "\n",
       "[22905 rows x 11 columns]"
      ]
     },
     "execution_count": 16,
     "metadata": {},
     "output_type": "execute_result"
    }
   ],
   "source": [
    "#using csv to fetch data from github\n",
    "game_df =pd.read_csv(\"https://github.com/bgweber/Twitch/raw/master/Recommendations/games-expand.csv\")\n",
    "game_df"
   ]
  },
  {
   "cell_type": "code",
   "execution_count": 17,
   "id": "41e8720f-9cc7-4f63-aaa3-0e0a1ed05d41",
   "metadata": {
    "scrolled": true
   },
   "outputs": [
    {
     "name": "stdout",
     "output_type": "stream",
     "text": [
      "Defaulting to user installation because normal site-packages is not writeable\n",
      "Requirement already satisfied: google-cloud-bigquery in c:\\users\\arun8\\appdata\\roaming\\python\\python311\\site-packages (1.28.1)\n",
      "Requirement already satisfied: google-api-core!=2.0.*,!=2.1.*,!=2.2.*,!=2.3.0,<3.0.0dev,>=1.31.5 in c:\\users\\arun8\\appdata\\roaming\\python\\python311\\site-packages (from google-cloud-bigquery) (2.15.0)\n",
      "Requirement already satisfied: google-cloud-core<3.0dev,>=1.4.1 in c:\\users\\arun8\\appdata\\roaming\\python\\python311\\site-packages (from google-cloud-bigquery) (2.4.1)\n",
      "Requirement already satisfied: google-resumable-media<2.0dev,>=0.6.0 in c:\\users\\arun8\\appdata\\roaming\\python\\python311\\site-packages (from google-cloud-bigquery) (1.3.3)\n",
      "Requirement already satisfied: six<2.0.0dev,>=1.13.0 in c:\\programdata\\anaconda3\\lib\\site-packages (from google-cloud-bigquery) (1.16.0)\n",
      "Requirement already satisfied: googleapis-common-protos<2.0.dev0,>=1.56.2 in c:\\users\\arun8\\appdata\\roaming\\python\\python311\\site-packages (from google-api-core!=2.0.*,!=2.1.*,!=2.2.*,!=2.3.0,<3.0.0dev,>=1.31.5->google-cloud-bigquery) (1.61.0)\n",
      "Requirement already satisfied: protobuf!=3.20.0,!=3.20.1,!=4.21.0,!=4.21.1,!=4.21.2,!=4.21.3,!=4.21.4,!=4.21.5,<5.0.0.dev0,>=3.19.5 in c:\\users\\arun8\\appdata\\roaming\\python\\python311\\site-packages (from google-api-core!=2.0.*,!=2.1.*,!=2.2.*,!=2.3.0,<3.0.0dev,>=1.31.5->google-cloud-bigquery) (3.20.3)\n",
      "Requirement already satisfied: google-auth<3.0.dev0,>=2.14.1 in c:\\users\\arun8\\appdata\\roaming\\python\\python311\\site-packages (from google-api-core!=2.0.*,!=2.1.*,!=2.2.*,!=2.3.0,<3.0.0dev,>=1.31.5->google-cloud-bigquery) (2.23.0)\n",
      "Requirement already satisfied: requests<3.0.0.dev0,>=2.18.0 in c:\\programdata\\anaconda3\\lib\\site-packages (from google-api-core!=2.0.*,!=2.1.*,!=2.2.*,!=2.3.0,<3.0.0dev,>=1.31.5->google-cloud-bigquery) (2.29.0)\n",
      "Requirement already satisfied: google-crc32c<2.0dev,>=1.0 in c:\\users\\arun8\\appdata\\roaming\\python\\python311\\site-packages (from google-resumable-media<2.0dev,>=0.6.0->google-cloud-bigquery) (1.5.0)\n",
      "Requirement already satisfied: cachetools<6.0,>=2.0.0 in c:\\users\\arun8\\appdata\\roaming\\python\\python311\\site-packages (from google-auth<3.0.dev0,>=2.14.1->google-api-core!=2.0.*,!=2.1.*,!=2.2.*,!=2.3.0,<3.0.0dev,>=1.31.5->google-cloud-bigquery) (5.3.1)\n",
      "Requirement already satisfied: pyasn1-modules>=0.2.1 in c:\\programdata\\anaconda3\\lib\\site-packages (from google-auth<3.0.dev0,>=2.14.1->google-api-core!=2.0.*,!=2.1.*,!=2.2.*,!=2.3.0,<3.0.0dev,>=1.31.5->google-cloud-bigquery) (0.2.8)\n",
      "Requirement already satisfied: rsa<5,>=3.1.4 in c:\\users\\arun8\\appdata\\roaming\\python\\python311\\site-packages (from google-auth<3.0.dev0,>=2.14.1->google-api-core!=2.0.*,!=2.1.*,!=2.2.*,!=2.3.0,<3.0.0dev,>=1.31.5->google-cloud-bigquery) (4.9)\n",
      "Requirement already satisfied: urllib3<2.0 in c:\\programdata\\anaconda3\\lib\\site-packages (from google-auth<3.0.dev0,>=2.14.1->google-api-core!=2.0.*,!=2.1.*,!=2.2.*,!=2.3.0,<3.0.0dev,>=1.31.5->google-cloud-bigquery) (1.26.16)\n",
      "Requirement already satisfied: charset-normalizer<4,>=2 in c:\\programdata\\anaconda3\\lib\\site-packages (from requests<3.0.0.dev0,>=2.18.0->google-api-core!=2.0.*,!=2.1.*,!=2.2.*,!=2.3.0,<3.0.0dev,>=1.31.5->google-cloud-bigquery) (2.0.4)\n",
      "Requirement already satisfied: idna<4,>=2.5 in c:\\programdata\\anaconda3\\lib\\site-packages (from requests<3.0.0.dev0,>=2.18.0->google-api-core!=2.0.*,!=2.1.*,!=2.2.*,!=2.3.0,<3.0.0dev,>=1.31.5->google-cloud-bigquery) (3.4)\n",
      "Requirement already satisfied: certifi>=2017.4.17 in c:\\programdata\\anaconda3\\lib\\site-packages (from requests<3.0.0.dev0,>=2.18.0->google-api-core!=2.0.*,!=2.1.*,!=2.2.*,!=2.3.0,<3.0.0dev,>=1.31.5->google-cloud-bigquery) (2023.5.7)\n",
      "Requirement already satisfied: pyasn1<0.5.0,>=0.4.6 in c:\\programdata\\anaconda3\\lib\\site-packages (from pyasn1-modules>=0.2.1->google-auth<3.0.dev0,>=2.14.1->google-api-core!=2.0.*,!=2.1.*,!=2.2.*,!=2.3.0,<3.0.0dev,>=1.31.5->google-cloud-bigquery) (0.4.8)\n",
      "Defaulting to user installation because normal site-packages is not writeable\n",
      "Requirement already satisfied: matplotlib in c:\\programdata\\anaconda3\\lib\\site-packages (3.7.1)\n",
      "Requirement already satisfied: contourpy>=1.0.1 in c:\\programdata\\anaconda3\\lib\\site-packages (from matplotlib) (1.0.5)\n",
      "Requirement already satisfied: cycler>=0.10 in c:\\programdata\\anaconda3\\lib\\site-packages (from matplotlib) (0.11.0)\n",
      "Requirement already satisfied: fonttools>=4.22.0 in c:\\programdata\\anaconda3\\lib\\site-packages (from matplotlib) (4.25.0)\n",
      "Requirement already satisfied: kiwisolver>=1.0.1 in c:\\programdata\\anaconda3\\lib\\site-packages (from matplotlib) (1.4.4)\n",
      "Requirement already satisfied: numpy>=1.20 in c:\\users\\arun8\\appdata\\roaming\\python\\python311\\site-packages (from matplotlib) (1.26.4)\n",
      "Requirement already satisfied: packaging>=20.0 in c:\\users\\arun8\\appdata\\roaming\\python\\python311\\site-packages (from matplotlib) (21.3)\n",
      "Requirement already satisfied: pillow>=6.2.0 in c:\\programdata\\anaconda3\\lib\\site-packages (from matplotlib) (9.4.0)\n",
      "Requirement already satisfied: pyparsing>=2.3.1 in c:\\programdata\\anaconda3\\lib\\site-packages (from matplotlib) (3.0.9)\n",
      "Requirement already satisfied: python-dateutil>=2.7 in c:\\programdata\\anaconda3\\lib\\site-packages (from matplotlib) (2.8.2)\n",
      "Requirement already satisfied: six>=1.5 in c:\\programdata\\anaconda3\\lib\\site-packages (from python-dateutil>=2.7->matplotlib) (1.16.0)\n"
     ]
    }
   ],
   "source": [
    "#Directly connect to data sources using connectors like JDBC or cloud specific like bigquery\n",
    "\n",
    "#Setting up GCP Cloud Credentials\n",
    "!pip3 install google-cloud-bigquery\n",
    "!pip3 install matplotlib"
   ]
  },
  {
   "cell_type": "code",
   "execution_count": 18,
   "id": "6350e147-592f-43f4-bc7a-7f88c5416ffd",
   "metadata": {},
   "outputs": [
    {
     "data": {
      "text/plain": [
       "'\\ngcloud config set project project_name\\ngcloud auth login\\ngcloud init\\ngcloud iam service-accounts create dsdemo \\ngcloud projects add-iam-policy-binding your_project_id\\\\ \\n        --member \"serviceAccount:dsdemo@your_project_id.iam.gserviceaccount.com\" --role \"roles/owner\"\\ngcloud iam service-accounts keys\\\\ \\n       create dsdemo.json --iam-account\\\\ \\n       dsdemo@your_project_id.iam.gserviceaccount.com\\nexport GOOGLE_APPLICATION_CREDENTIALS=/home/ec2-user/dsdemo.json\\n'"
      ]
     },
     "execution_count": 18,
     "metadata": {},
     "output_type": "execute_result"
    }
   ],
   "source": [
    "#Codes to setup the cloud working\n",
    "'''\n",
    "gcloud config set project project_name\n",
    "gcloud auth login\n",
    "gcloud init\n",
    "gcloud iam service-accounts create dsdemo \n",
    "gcloud projects add-iam-policy-binding your_project_id\\ \n",
    "        --member \"serviceAccount:dsdemo@your_project_id.iam.gserviceaccount.com\" --role \"roles/owner\"\n",
    "gcloud iam service-accounts keys\\ \n",
    "       create dsdemo.json --iam-account\\ \n",
    "       dsdemo@your_project_id.iam.gserviceaccount.com\n",
    "export GOOGLE_APPLICATION_CREDENTIALS=/home/ec2-user/dsdemo.json\n",
    "'''"
   ]
  },
  {
   "cell_type": "code",
   "execution_count": 19,
   "id": "7f496d3d-7ac1-4927-9366-1bc516cda3eb",
   "metadata": {},
   "outputs": [
    {
     "name": "stdout",
     "output_type": "stream",
     "text": [
      "Defaulting to user installation because normal site-packages is not writeable\n",
      "Collecting db-dtypes\n",
      "  Downloading db_dtypes-1.3.0-py2.py3-none-any.whl (17 kB)\n",
      "Requirement already satisfied: packaging>=17.0 in c:\\users\\arun8\\appdata\\roaming\\python\\python311\\site-packages (from db-dtypes) (21.3)\n",
      "Requirement already satisfied: pandas>=0.24.2 in c:\\users\\arun8\\appdata\\roaming\\python\\python311\\site-packages (from db-dtypes) (2.2.3)\n",
      "Requirement already satisfied: pyarrow>=3.0.0 in c:\\programdata\\anaconda3\\lib\\site-packages (from db-dtypes) (11.0.0)\n",
      "Requirement already satisfied: numpy>=1.16.6 in c:\\users\\arun8\\appdata\\roaming\\python\\python311\\site-packages (from db-dtypes) (1.26.4)\n",
      "Requirement already satisfied: pyparsing!=3.0.5,>=2.0.2 in c:\\programdata\\anaconda3\\lib\\site-packages (from packaging>=17.0->db-dtypes) (3.0.9)\n",
      "Requirement already satisfied: python-dateutil>=2.8.2 in c:\\programdata\\anaconda3\\lib\\site-packages (from pandas>=0.24.2->db-dtypes) (2.8.2)\n",
      "Requirement already satisfied: pytz>=2020.1 in c:\\programdata\\anaconda3\\lib\\site-packages (from pandas>=0.24.2->db-dtypes) (2022.7)\n",
      "Requirement already satisfied: tzdata>=2022.7 in c:\\users\\arun8\\appdata\\roaming\\python\\python311\\site-packages (from pandas>=0.24.2->db-dtypes) (2023.3)\n",
      "Requirement already satisfied: six>=1.5 in c:\\programdata\\anaconda3\\lib\\site-packages (from python-dateutil>=2.8.2->pandas>=0.24.2->db-dtypes) (1.16.0)\n",
      "Installing collected packages: db-dtypes\n",
      "Successfully installed db-dtypes-1.3.0\n"
     ]
    }
   ],
   "source": [
    "!pip3 install db-dtypes"
   ]
  },
  {
   "cell_type": "code",
   "execution_count": 20,
   "id": "d3b5b3b2-0f2e-48b9-ba8b-a0c1783ad7ab",
   "metadata": {
    "scrolled": true
   },
   "outputs": [
    {
     "ename": "TypeError",
     "evalue": "QueryJob._blocking_poll() got an unexpected keyword argument 'retry'",
     "output_type": "error",
     "traceback": [
      "\u001b[1;31m---------------------------------------------------------------------------\u001b[0m",
      "\u001b[1;31mTypeError\u001b[0m                                 Traceback (most recent call last)",
      "Cell \u001b[1;32mIn[20], line 11\u001b[0m\n\u001b[0;32m      4\u001b[0m client \u001b[38;5;241m=\u001b[39m bigquery\u001b[38;5;241m.\u001b[39mClient()\n\u001b[0;32m      5\u001b[0m sql \u001b[38;5;241m=\u001b[39m \u001b[38;5;124m\"\"\"\u001b[39m\n\u001b[0;32m      6\u001b[0m \u001b[38;5;124m  SELECT * \u001b[39m\n\u001b[0;32m      7\u001b[0m \u001b[38;5;124m  FROM  `bigquery-public-data.samples.natality`\u001b[39m\n\u001b[0;32m      8\u001b[0m \u001b[38;5;124m  limit 50\u001b[39m\n\u001b[0;32m      9\u001b[0m \u001b[38;5;124m\"\"\"\u001b[39m\n\u001b[1;32m---> 11\u001b[0m natalityDF \u001b[38;5;241m=\u001b[39m client\u001b[38;5;241m.\u001b[39mquery(sql)\u001b[38;5;241m.\u001b[39mto_dataframe()\n\u001b[0;32m     12\u001b[0m natalityDF\u001b[38;5;241m.\u001b[39mhead()\n",
      "File \u001b[1;32m~\\AppData\\Roaming\\Python\\Python311\\site-packages\\google\\cloud\\bigquery\\job.py:3401\u001b[0m, in \u001b[0;36mQueryJob.to_dataframe\u001b[1;34m(self, bqstorage_client, dtypes, progress_bar_type, create_bqstorage_client, date_as_object)\u001b[0m\n\u001b[0;32m   3340\u001b[0m \u001b[38;5;28;01mdef\u001b[39;00m \u001b[38;5;21mto_dataframe\u001b[39m(\n\u001b[0;32m   3341\u001b[0m     \u001b[38;5;28mself\u001b[39m,\n\u001b[0;32m   3342\u001b[0m     bqstorage_client\u001b[38;5;241m=\u001b[39m\u001b[38;5;28;01mNone\u001b[39;00m,\n\u001b[1;32m   (...)\u001b[0m\n\u001b[0;32m   3346\u001b[0m     date_as_object\u001b[38;5;241m=\u001b[39m\u001b[38;5;28;01mTrue\u001b[39;00m,\n\u001b[0;32m   3347\u001b[0m ):\n\u001b[0;32m   3348\u001b[0m \u001b[38;5;250m    \u001b[39m\u001b[38;5;124;03m\"\"\"Return a pandas DataFrame from a QueryJob\u001b[39;00m\n\u001b[0;32m   3349\u001b[0m \n\u001b[0;32m   3350\u001b[0m \u001b[38;5;124;03m    Args:\u001b[39;00m\n\u001b[1;32m   (...)\u001b[0m\n\u001b[0;32m   3399\u001b[0m \u001b[38;5;124;03m        ValueError: If the `pandas` library cannot be imported.\u001b[39;00m\n\u001b[0;32m   3400\u001b[0m \u001b[38;5;124;03m    \"\"\"\u001b[39;00m\n\u001b[1;32m-> 3401\u001b[0m     \u001b[38;5;28;01mreturn\u001b[39;00m \u001b[38;5;28mself\u001b[39m\u001b[38;5;241m.\u001b[39mresult()\u001b[38;5;241m.\u001b[39mto_dataframe(\n\u001b[0;32m   3402\u001b[0m         bqstorage_client\u001b[38;5;241m=\u001b[39mbqstorage_client,\n\u001b[0;32m   3403\u001b[0m         dtypes\u001b[38;5;241m=\u001b[39mdtypes,\n\u001b[0;32m   3404\u001b[0m         progress_bar_type\u001b[38;5;241m=\u001b[39mprogress_bar_type,\n\u001b[0;32m   3405\u001b[0m         create_bqstorage_client\u001b[38;5;241m=\u001b[39mcreate_bqstorage_client,\n\u001b[0;32m   3406\u001b[0m         date_as_object\u001b[38;5;241m=\u001b[39mdate_as_object,\n\u001b[0;32m   3407\u001b[0m     )\n",
      "File \u001b[1;32m~\\AppData\\Roaming\\Python\\Python311\\site-packages\\google\\cloud\\bigquery\\job.py:3230\u001b[0m, in \u001b[0;36mQueryJob.result\u001b[1;34m(self, page_size, max_results, retry, timeout, start_index)\u001b[0m\n\u001b[0;32m   3193\u001b[0m \u001b[38;5;250m\u001b[39m\u001b[38;5;124;03m\"\"\"Start the job and wait for it to complete and get the result.\u001b[39;00m\n\u001b[0;32m   3194\u001b[0m \n\u001b[0;32m   3195\u001b[0m \u001b[38;5;124;03mArgs:\u001b[39;00m\n\u001b[1;32m   (...)\u001b[0m\n\u001b[0;32m   3227\u001b[0m \u001b[38;5;124;03m        If the job did not complete in the given timeout.\u001b[39;00m\n\u001b[0;32m   3228\u001b[0m \u001b[38;5;124;03m\"\"\"\u001b[39;00m\n\u001b[0;32m   3229\u001b[0m \u001b[38;5;28;01mtry\u001b[39;00m:\n\u001b[1;32m-> 3230\u001b[0m     \u001b[38;5;28msuper\u001b[39m(QueryJob, \u001b[38;5;28mself\u001b[39m)\u001b[38;5;241m.\u001b[39mresult(retry\u001b[38;5;241m=\u001b[39mretry, timeout\u001b[38;5;241m=\u001b[39mtimeout)\n\u001b[0;32m   3232\u001b[0m     \u001b[38;5;66;03m# Return an iterator instead of returning the job.\u001b[39;00m\n\u001b[0;32m   3233\u001b[0m     \u001b[38;5;28;01mif\u001b[39;00m \u001b[38;5;129;01mnot\u001b[39;00m \u001b[38;5;28mself\u001b[39m\u001b[38;5;241m.\u001b[39m_query_results:\n",
      "File \u001b[1;32m~\\AppData\\Roaming\\Python\\Python311\\site-packages\\google\\cloud\\bigquery\\job.py:835\u001b[0m, in \u001b[0;36m_AsyncJob.result\u001b[1;34m(self, retry, timeout)\u001b[0m\n\u001b[0;32m    833\u001b[0m     \u001b[38;5;28mself\u001b[39m\u001b[38;5;241m.\u001b[39m_begin(retry\u001b[38;5;241m=\u001b[39mretry, timeout\u001b[38;5;241m=\u001b[39mtimeout)\n\u001b[0;32m    834\u001b[0m \u001b[38;5;66;03m# TODO: modify PollingFuture so it can pass a retry argument to done().\u001b[39;00m\n\u001b[1;32m--> 835\u001b[0m \u001b[38;5;28;01mreturn\u001b[39;00m \u001b[38;5;28msuper\u001b[39m(_AsyncJob, \u001b[38;5;28mself\u001b[39m)\u001b[38;5;241m.\u001b[39mresult(timeout\u001b[38;5;241m=\u001b[39mtimeout)\n",
      "File \u001b[1;32m~\\AppData\\Roaming\\Python\\Python311\\site-packages\\google\\api_core\\future\\polling.py:256\u001b[0m, in \u001b[0;36mPollingFuture.result\u001b[1;34m(self, timeout, retry, polling)\u001b[0m\n\u001b[0;32m    144\u001b[0m \u001b[38;5;28;01mdef\u001b[39;00m \u001b[38;5;21mresult\u001b[39m(\u001b[38;5;28mself\u001b[39m, timeout\u001b[38;5;241m=\u001b[39m_DEFAULT_VALUE, retry\u001b[38;5;241m=\u001b[39m\u001b[38;5;28;01mNone\u001b[39;00m, polling\u001b[38;5;241m=\u001b[39m\u001b[38;5;28;01mNone\u001b[39;00m):\n\u001b[0;32m    145\u001b[0m \u001b[38;5;250m    \u001b[39m\u001b[38;5;124;03m\"\"\"Get the result of the operation.\u001b[39;00m\n\u001b[0;32m    146\u001b[0m \n\u001b[0;32m    147\u001b[0m \u001b[38;5;124;03m    This method will poll for operation status periodically, blocking if\u001b[39;00m\n\u001b[1;32m   (...)\u001b[0m\n\u001b[0;32m    253\u001b[0m \u001b[38;5;124;03m            the timeout is reached before the operation completes.\u001b[39;00m\n\u001b[0;32m    254\u001b[0m \u001b[38;5;124;03m    \"\"\"\u001b[39;00m\n\u001b[1;32m--> 256\u001b[0m     \u001b[38;5;28mself\u001b[39m\u001b[38;5;241m.\u001b[39m_blocking_poll(timeout\u001b[38;5;241m=\u001b[39mtimeout, retry\u001b[38;5;241m=\u001b[39mretry, polling\u001b[38;5;241m=\u001b[39mpolling)\n\u001b[0;32m    258\u001b[0m     \u001b[38;5;28;01mif\u001b[39;00m \u001b[38;5;28mself\u001b[39m\u001b[38;5;241m.\u001b[39m_exception \u001b[38;5;129;01mis\u001b[39;00m \u001b[38;5;129;01mnot\u001b[39;00m \u001b[38;5;28;01mNone\u001b[39;00m:\n\u001b[0;32m    259\u001b[0m         \u001b[38;5;66;03m# pylint: disable=raising-bad-type\u001b[39;00m\n\u001b[0;32m    260\u001b[0m         \u001b[38;5;66;03m# Pylint doesn't recognize that this is valid in this case.\u001b[39;00m\n\u001b[0;32m    261\u001b[0m         \u001b[38;5;28;01mraise\u001b[39;00m \u001b[38;5;28mself\u001b[39m\u001b[38;5;241m.\u001b[39m_exception\n",
      "\u001b[1;31mTypeError\u001b[0m: QueryJob._blocking_poll() got an unexpected keyword argument 'retry'"
     ]
    }
   ],
   "source": [
    "#testing bigquery table\n",
    "\n",
    "from google.cloud import bigquery\n",
    "client = bigquery.Client()\n",
    "sql = \"\"\"\n",
    "  SELECT * \n",
    "  FROM  `bigquery-public-data.samples.natality`\n",
    "  limit 50\n",
    "\"\"\"\n",
    "\n",
    "natalityDF = client.query(sql).to_dataframe()\n",
    "natalityDF.head()"
   ]
  },
  {
   "cell_type": "code",
   "execution_count": 21,
   "id": "3591d635-638b-4696-b4c4-827bd828d9b5",
   "metadata": {},
   "outputs": [
    {
     "name": "stdout",
     "output_type": "stream",
     "text": [
      "ROC:0.7431736018550639 , accuracy :0.8720097782434084\n"
     ]
    }
   ],
   "source": [
    "#Simple Logesstic Regression with GamesDF\n",
    "\n",
    "from sklearn.model_selection import train_test_split\n",
    "from sklearn.linear_model import LogisticRegression\n",
    "from sklearn.metrics import accuracy_score , roc_auc_score\n",
    "\n",
    "x_train , x_test , y_train , y_test = train_test_split(game_df.drop('label',axis=1),game_df['label'])\n",
    "\n",
    "model = LogisticRegression()\n",
    "model.fit(x_train,y_train)\n",
    "\n",
    "accuracy = accuracy_score(y_test,model.predict(x_test))\n",
    "roc = roc_auc_score(y_test, model.predict_proba(x_test)[:,1])\n",
    "print(f\"ROC:{roc} , accuracy :{accuracy}\")"
   ]
  },
  {
   "cell_type": "code",
   "execution_count": 26,
   "id": "4e38b7af-0332-4f92-866a-734dfae2ad38",
   "metadata": {
    "scrolled": true
   },
   "outputs": [
    {
     "name": "stdout",
     "output_type": "stream",
     "text": [
      "Defaulting to user installation because normal site-packages is not writeable\n",
      "Requirement already satisfied: torch in c:\\users\\arun8\\appdata\\roaming\\python\\python311\\site-packages (2.3.0+cu118)\n",
      "Requirement already satisfied: torchvision in c:\\users\\arun8\\appdata\\roaming\\python\\python311\\site-packages (0.18.0)\n",
      "Requirement already satisfied: torchaudio in c:\\users\\arun8\\appdata\\roaming\\python\\python311\\site-packages (2.3.0+cu118)\n",
      "Requirement already satisfied: filelock in c:\\users\\arun8\\appdata\\roaming\\python\\python311\\site-packages (from torch) (3.12.4)\n",
      "Requirement already satisfied: typing-extensions>=4.8.0 in c:\\users\\arun8\\appdata\\roaming\\python\\python311\\site-packages (from torch) (4.10.0)\n",
      "Requirement already satisfied: sympy in c:\\programdata\\anaconda3\\lib\\site-packages (from torch) (1.11.1)\n",
      "Requirement already satisfied: networkx in c:\\programdata\\anaconda3\\lib\\site-packages (from torch) (2.8.4)\n",
      "Requirement already satisfied: jinja2 in c:\\programdata\\anaconda3\\lib\\site-packages (from torch) (3.1.2)\n",
      "Requirement already satisfied: fsspec in c:\\users\\arun8\\appdata\\roaming\\python\\python311\\site-packages (from torch) (2024.5.0)\n",
      "Requirement already satisfied: mkl<=2021.4.0,>=2021.1.1 in c:\\users\\arun8\\appdata\\roaming\\python\\python311\\site-packages (from torch) (2021.4.0)\n",
      "Requirement already satisfied: numpy in c:\\users\\arun8\\appdata\\roaming\\python\\python311\\site-packages (from torchvision) (1.26.4)\n",
      "Requirement already satisfied: pillow!=8.3.*,>=5.3.0 in c:\\programdata\\anaconda3\\lib\\site-packages (from torchvision) (9.4.0)\n",
      "Requirement already satisfied: intel-openmp==2021.* in c:\\users\\arun8\\appdata\\roaming\\python\\python311\\site-packages (from mkl<=2021.4.0,>=2021.1.1->torch) (2021.4.0)\n",
      "Requirement already satisfied: tbb==2021.* in c:\\users\\arun8\\appdata\\roaming\\python\\python311\\site-packages (from mkl<=2021.4.0,>=2021.1.1->torch) (2021.12.0)\n",
      "Requirement already satisfied: MarkupSafe>=2.0 in c:\\programdata\\anaconda3\\lib\\site-packages (from jinja2->torch) (2.1.1)\n",
      "Requirement already satisfied: mpmath>=0.19 in c:\\programdata\\anaconda3\\lib\\site-packages (from sympy->torch) (1.2.1)\n"
     ]
    }
   ],
   "source": [
    "!pip install torch torchvision torchaudio"
   ]
  },
  {
   "cell_type": "code",
   "execution_count": 27,
   "id": "44ea0e3c-9a1e-4b18-8d2c-c6a49b75bf70",
   "metadata": {
    "scrolled": false
   },
   "outputs": [
    {
     "ename": "OSError",
     "evalue": "[WinError 126] The specified module could not be found. Error loading \"C:\\Users\\arun8\\AppData\\Roaming\\Python\\Python311\\site-packages\\torch\\lib\\shm.dll\" or one of its dependencies.",
     "output_type": "error",
     "traceback": [
      "\u001b[1;31m---------------------------------------------------------------------------\u001b[0m",
      "\u001b[1;31mOSError\u001b[0m                                   Traceback (most recent call last)",
      "Cell \u001b[1;32mIn[27], line 2\u001b[0m\n\u001b[0;32m      1\u001b[0m \u001b[38;5;66;03m#Deep Learning\u001b[39;00m\n\u001b[1;32m----> 2\u001b[0m \u001b[38;5;28;01mimport\u001b[39;00m \u001b[38;5;21;01mtorch\u001b[39;00m\n\u001b[0;32m      3\u001b[0m \u001b[38;5;28;01mimport\u001b[39;00m \u001b[38;5;21;01mtorch\u001b[39;00m\u001b[38;5;21;01m.\u001b[39;00m\u001b[38;5;21;01mnn\u001b[39;00m \u001b[38;5;28;01mas\u001b[39;00m \u001b[38;5;21;01mnn\u001b[39;00m\n\u001b[0;32m      5\u001b[0m \u001b[38;5;28;01mclass\u001b[39;00m \u001b[38;5;21;01mneural\u001b[39;00m(nn\u001b[38;5;241m.\u001b[39mModule):\n",
      "File \u001b[1;32m~\\AppData\\Roaming\\Python\\Python311\\site-packages\\torch\\__init__.py:141\u001b[0m\n\u001b[0;32m    139\u001b[0m                 err \u001b[38;5;241m=\u001b[39m ctypes\u001b[38;5;241m.\u001b[39mWinError(ctypes\u001b[38;5;241m.\u001b[39mget_last_error())\n\u001b[0;32m    140\u001b[0m                 err\u001b[38;5;241m.\u001b[39mstrerror \u001b[38;5;241m+\u001b[39m\u001b[38;5;241m=\u001b[39m \u001b[38;5;124mf\u001b[39m\u001b[38;5;124m'\u001b[39m\u001b[38;5;124m Error loading \u001b[39m\u001b[38;5;124m\"\u001b[39m\u001b[38;5;132;01m{\u001b[39;00mdll\u001b[38;5;132;01m}\u001b[39;00m\u001b[38;5;124m\"\u001b[39m\u001b[38;5;124m or one of its dependencies.\u001b[39m\u001b[38;5;124m'\u001b[39m\n\u001b[1;32m--> 141\u001b[0m                 \u001b[38;5;28;01mraise\u001b[39;00m err\n\u001b[0;32m    143\u001b[0m     kernel32\u001b[38;5;241m.\u001b[39mSetErrorMode(prev_error_mode)\n\u001b[0;32m    146\u001b[0m \u001b[38;5;28;01mdef\u001b[39;00m \u001b[38;5;21m_preload_cuda_deps\u001b[39m(lib_folder, lib_name):\n",
      "\u001b[1;31mOSError\u001b[0m: [WinError 126] The specified module could not be found. Error loading \"C:\\Users\\arun8\\AppData\\Roaming\\Python\\Python311\\site-packages\\torch\\lib\\shm.dll\" or one of its dependencies."
     ]
    }
   ],
   "source": [
    "#Deep Learning\n",
    "import torch\n",
    "import torch.nn as nn\n",
    "\n",
    "class neural(nn.Module):\n",
    "    def __init__(self,input_size,hidden_size,output_size):\n",
    "        super(neural,self).__init__()\n",
    "        self.input_size = input_size\n",
    "        self.hidden_size = hidden_size\n",
    "        self.output_size = output_size\n",
    "    \n",
    "        self.network = nn.Sequential(\n",
    "            nn.Linear(input_size,hidden_size),\n",
    "            nn.Dropout(0.3),\n",
    "            nn.Linear(hidden_size,hidden_size),\n",
    "            nn.Dropout(0.3),\n",
    "            nn.Linear(hidden_size,output_size),\n",
    "        )\n",
    "\n",
    "    def forward(self,x):\n",
    "        x = self.network(x)\n",
    "        return x"
   ]
  },
  {
   "cell_type": "code",
   "execution_count": null,
   "id": "b5fb6b05-0090-4f68-9768-f1a6e207d17f",
   "metadata": {},
   "outputs": [],
   "source": [
    "x = game_df.drop('label',axis=1).astype(float)\n",
    "y = game_df['label'].astype(int)\n",
    "x = torch.tensor(x.values,dtype=torch.float)\n",
    "y = torch.tensor(y.values,dtype=torch.long)"
   ]
  },
  {
   "cell_type": "code",
   "execution_count": null,
   "id": "0dd3d8a3-5d94-418f-9b58-9ffca40c6bb0",
   "metadata": {},
   "outputs": [],
   "source": [
    "import torch\n",
    "x_train , x_test,y_train,y_test = train_test_split(x,y,\n",
    "                                                  test_size=0.70)"
   ]
  },
  {
   "cell_type": "code",
   "execution_count": null,
   "id": "3b7b3893-4a13-4a08-94d6-12cd74900beb",
   "metadata": {},
   "outputs": [],
   "source": [
    "def training_loop(model,optimizer,loss,epochs):\n",
    "    model.train()\n",
    "    for epoch in range(epochs):\n",
    "        output = model(x_train)\n",
    "        loss_value = loss(output,y_train)\n",
    "        optimizer.zero_grad()\n",
    "        loss_value.backward()\n",
    "        optimizer.step()\n",
    "\n",
    "        with torch.no_grad():\n",
    "            test_pred = model(x_test)\n",
    "            loss_test = loss(test_pred,y_test)\n",
    "\n",
    "            if epoch in [50,100,120,150]:\n",
    "                print(f\"epoch {epoch} loss {loss_test}\")\n",
    "\n",
    "        if epoch in [5,10,20,30,50]:\n",
    "            print(f\"epoch {epoch} loss {loss_value}\")"
   ]
  },
  {
   "cell_type": "code",
   "execution_count": null,
   "id": "3e0c947e-41f9-459d-9582-3db7ff0c6f74",
   "metadata": {},
   "outputs": [],
   "source": [
    "import torch.optim as optim\n",
    "\n",
    "model = neural(x_train.shape[1],128,len(y.unique()))\n",
    "loss = nn.CrossEntropyLoss()\n",
    "\n",
    "optimizer = optim.Adam(model.parameters(),lr=0.001)\n",
    "\n",
    "training_loop(model,optimizer,loss,120)"
   ]
  },
  {
   "cell_type": "markdown",
   "id": "e8c3f9b5-9eb2-4bb3-95ff-c80b0fd9f902",
   "metadata": {},
   "source": [
    "## Automated Feature Engineering\n",
    "##### Works for shallow learning problems where already the data is structured, but have to traverse multiple tables into single record per user"
   ]
  },
  {
   "cell_type": "code",
   "execution_count": null,
   "id": "628c207d-fed3-4128-940c-08b5b46965ab",
   "metadata": {
    "scrolled": true
   },
   "outputs": [],
   "source": [
    "# !sudo yum install gcc\n",
    "# !sudo yum install python3-devel\n",
    "# !pip3 install framequery\n",
    "# !pip3 install fsspec\n",
    "# !pip3 install featuretools==1.8.0"
   ]
  },
  {
   "cell_type": "code",
   "execution_count": null,
   "id": "6151f565-714f-4af9-981d-0d955d40a6f4",
   "metadata": {},
   "outputs": [],
   "source": [
    "# !pip install kagglehub"
   ]
  },
  {
   "cell_type": "code",
   "execution_count": 1,
   "id": "23d9894e-ad7e-4f60-871f-efe1a9f92ca5",
   "metadata": {
    "scrolled": true
   },
   "outputs": [
    {
     "name": "stdout",
     "output_type": "stream",
     "text": [
      "Path to dataset files: C:\\Users\\arun8\\.cache\\kagglehub\\datasets\\martinellis\\nhl-game-data\\versions\\2\n"
     ]
    }
   ],
   "source": [
    "import kagglehub\n",
    "\n",
    "# Download latest version\n",
    "path = kagglehub.dataset_download(\"martinellis/nhl-game-data\")\n",
    "\n",
    "print(\"Path to dataset files:\", path)"
   ]
  },
  {
   "cell_type": "code",
   "execution_count": 2,
   "id": "0c582846",
   "metadata": {},
   "outputs": [],
   "source": [
    "import warnings\n",
    "warnings.filterwarnings('ignore')"
   ]
  },
  {
   "cell_type": "code",
   "execution_count": 3,
   "id": "7a3c5b2d-20a4-4f64-be4d-7b0eee89233b",
   "metadata": {},
   "outputs": [],
   "source": [
    "import pandas as pd\n",
    "\n",
    "game_df = pd.read_csv(r\"C:\\Users\\arun8\\.cache\\kagglehub\\datasets\\martinellis\\nhl-game-data\\versions\\2/game.csv\")\n",
    "plays_df = pd.read_csv(r\"C:\\Users\\arun8\\.cache\\kagglehub\\datasets\\martinellis\\nhl-game-data\\versions\\2/game_plays.csv\")\n",
    "\n",
    "plays_df = plays_df.drop(['secondaryType', 'periodType', \n",
    "                 'dateTime'], axis=1).fillna(0)"
   ]
  },
  {
   "cell_type": "code",
   "execution_count": 4,
   "id": "b7cb82df",
   "metadata": {},
   "outputs": [],
   "source": [
    "plays_df['id'] = plays_df.index"
   ]
  },
  {
   "cell_type": "code",
   "execution_count": 5,
   "id": "d8cfe9c7",
   "metadata": {},
   "outputs": [],
   "source": [
    "import featuretools as ft\n",
    "from featuretools import Feature\n",
    "from woodwork.logical_types import Categorical, PostalCode\n",
    "import woodwork as ww\n",
    "\n",
    "es = ft.EntitySet(id='plays')\n",
    "es = es.add_dataframe(\n",
    "    dataframe_name = 'plays_df',\n",
    "    dataframe = plays_df,\n",
    "    index = 'id' ,\n",
    "    logical_types={\n",
    "        \"event\": Categorical, \n",
    "         \"description\": Categorical\n",
    "    }\n",
    ")"
   ]
  },
  {
   "cell_type": "code",
   "execution_count": 6,
   "id": "feb22683",
   "metadata": {},
   "outputs": [
    {
     "data": {
      "text/plain": [
       "Entityset: plays\n",
       "  DataFrames:\n",
       "    plays_df [Rows: 5050529, Columns: 16]\n",
       "  Relationships:\n",
       "    No relationships"
      ]
     },
     "execution_count": 6,
     "metadata": {},
     "output_type": "execute_result"
    }
   ],
   "source": [
    "es"
   ]
  },
  {
   "cell_type": "code",
   "execution_count": 7,
   "id": "91a87800",
   "metadata": {},
   "outputs": [],
   "source": [
    "game_df['id'] = game_df.index"
   ]
  },
  {
   "cell_type": "code",
   "execution_count": 8,
   "id": "16579a55",
   "metadata": {},
   "outputs": [],
   "source": [
    "es = es.add_dataframe(\n",
    "    dataframe_name = 'game_df',\n",
    "    dataframe = game_df,\n",
    "    index = 'id'\n",
    ")"
   ]
  },
  {
   "cell_type": "code",
   "execution_count": 9,
   "id": "1a8c5369",
   "metadata": {},
   "outputs": [
    {
     "data": {
      "text/plain": [
       "Entityset: plays\n",
       "  DataFrames:\n",
       "    plays_df [Rows: 5050529, Columns: 16]\n",
       "    game_df [Rows: 26305, Columns: 16]\n",
       "  Relationships:\n",
       "    No relationships"
      ]
     },
     "execution_count": 9,
     "metadata": {},
     "output_type": "execute_result"
    }
   ],
   "source": [
    "es"
   ]
  },
  {
   "cell_type": "code",
   "execution_count": 10,
   "id": "5c8507e9",
   "metadata": {},
   "outputs": [],
   "source": [
    "f1 = Feature(es['plays_df'].ww['event'])\n",
    "f2 = Feature(es['plays_df'].ww['description'])"
   ]
  },
  {
   "cell_type": "code",
   "execution_count": 11,
   "id": "2777be3b",
   "metadata": {},
   "outputs": [],
   "source": [
    "feature_matrix = ft.calculate_feature_matrix([f1,f2], es)"
   ]
  },
  {
   "cell_type": "code",
   "execution_count": 12,
   "id": "6312cca3",
   "metadata": {},
   "outputs": [
    {
     "data": {
      "text/html": [
       "<div>\n",
       "<style scoped>\n",
       "    .dataframe tbody tr th:only-of-type {\n",
       "        vertical-align: middle;\n",
       "    }\n",
       "\n",
       "    .dataframe tbody tr th {\n",
       "        vertical-align: top;\n",
       "    }\n",
       "\n",
       "    .dataframe thead th {\n",
       "        text-align: right;\n",
       "    }\n",
       "</style>\n",
       "<table border=\"1\" class=\"dataframe\">\n",
       "  <thead>\n",
       "    <tr style=\"text-align: right;\">\n",
       "      <th></th>\n",
       "      <th>event</th>\n",
       "      <th>description</th>\n",
       "    </tr>\n",
       "    <tr>\n",
       "      <th>id</th>\n",
       "      <th></th>\n",
       "      <th></th>\n",
       "    </tr>\n",
       "  </thead>\n",
       "  <tbody>\n",
       "    <tr>\n",
       "      <th>0</th>\n",
       "      <td>Game Scheduled</td>\n",
       "      <td>Game Scheduled</td>\n",
       "    </tr>\n",
       "    <tr>\n",
       "      <th>1</th>\n",
       "      <td>Period Ready</td>\n",
       "      <td>Period Ready</td>\n",
       "    </tr>\n",
       "    <tr>\n",
       "      <th>2</th>\n",
       "      <td>Period Start</td>\n",
       "      <td>Period Start</td>\n",
       "    </tr>\n",
       "    <tr>\n",
       "      <th>3</th>\n",
       "      <td>Faceoff</td>\n",
       "      <td>Jonathan Toews faceoff won against Claude Giroux</td>\n",
       "    </tr>\n",
       "    <tr>\n",
       "      <th>4</th>\n",
       "      <td>Shot</td>\n",
       "      <td>Artem Anisimov Wrist Shot saved by Michal Neuv...</td>\n",
       "    </tr>\n",
       "    <tr>\n",
       "      <th>...</th>\n",
       "      <td>...</td>\n",
       "      <td>...</td>\n",
       "    </tr>\n",
       "    <tr>\n",
       "      <th>5050524</th>\n",
       "      <td>Hit</td>\n",
       "      <td>Torey Krug hit Alexander Steen</td>\n",
       "    </tr>\n",
       "    <tr>\n",
       "      <th>5050525</th>\n",
       "      <td>Missed Shot</td>\n",
       "      <td>Danton Heinen - Wide of Net</td>\n",
       "    </tr>\n",
       "    <tr>\n",
       "      <th>5050526</th>\n",
       "      <td>Period End</td>\n",
       "      <td>End of 3rd Period</td>\n",
       "    </tr>\n",
       "    <tr>\n",
       "      <th>5050527</th>\n",
       "      <td>Period Official</td>\n",
       "      <td>Period Official</td>\n",
       "    </tr>\n",
       "    <tr>\n",
       "      <th>5050528</th>\n",
       "      <td>Game End</td>\n",
       "      <td>Game End</td>\n",
       "    </tr>\n",
       "  </tbody>\n",
       "</table>\n",
       "<p>5050529 rows × 2 columns</p>\n",
       "</div>"
      ],
      "text/plain": [
       "                   event                                        description\n",
       "id                                                                         \n",
       "0         Game Scheduled                                     Game Scheduled\n",
       "1           Period Ready                                       Period Ready\n",
       "2           Period Start                                       Period Start\n",
       "3                Faceoff   Jonathan Toews faceoff won against Claude Giroux\n",
       "4                   Shot  Artem Anisimov Wrist Shot saved by Michal Neuv...\n",
       "...                  ...                                                ...\n",
       "5050524              Hit                     Torey Krug hit Alexander Steen\n",
       "5050525      Missed Shot                        Danton Heinen - Wide of Net\n",
       "5050526       Period End                                  End of 3rd Period\n",
       "5050527  Period Official                                    Period Official\n",
       "5050528         Game End                                           Game End\n",
       "\n",
       "[5050529 rows x 2 columns]"
      ]
     },
     "execution_count": 12,
     "metadata": {},
     "output_type": "execute_result"
    }
   ],
   "source": [
    "feature_matrix"
   ]
  },
  {
   "cell_type": "code",
   "execution_count": 13,
   "id": "e2a61278",
   "metadata": {
    "scrolled": true
   },
   "outputs": [],
   "source": [
    "encoded , defs = ft.encode_features(feature_matrix,[f1,f2])"
   ]
  },
  {
   "cell_type": "code",
   "execution_count": 14,
   "id": "9a4cf9ae",
   "metadata": {},
   "outputs": [
    {
     "data": {
      "text/plain": [
       "[<Feature: event = Takeaway>,\n",
       " <Feature: event = Stoppage>,\n",
       " <Feature: event = Shot>,\n",
       " <Feature: event = Shootout Complete>,\n",
       " <Feature: event = Period Start>,\n",
       " <Feature: event = Period Ready>,\n",
       " <Feature: event = Period Official>,\n",
       " <Feature: event = Period End>,\n",
       " <Feature: event = Penalty>,\n",
       " <Feature: event = Official Challenge>,\n",
       " <Feature: event is unknown>,\n",
       " <Feature: description = Ziggy Palffy Wrist Shot saved by Rick DiPietro>,\n",
       " <Feature: description = Ziggy Palffy Unsportsmanlike conduct>,\n",
       " <Feature: description = Ziggy Palffy Tripping against Yuri Butsayev>,\n",
       " <Feature: description = Ziggy Palffy Tripping against Steve Rucchin>,\n",
       " <Feature: description = Ziggy Palffy Tripping against Scott Gomez>,\n",
       " <Feature: description = Ziggy Palffy Tripping - Obstruction against Brendan Shanahan>,\n",
       " <Feature: description = Ziggy Palffy Tripping - Obstruction>,\n",
       " <Feature: description = Ziggy Palffy Tripping>,\n",
       " <Feature: description = Ziggy Palffy Spearing against Martin Erat>,\n",
       " <Feature: description = Ziggy Palffy Slashing against Teppo Numminen>,\n",
       " <Feature: description is unknown>]"
      ]
     },
     "execution_count": 14,
     "metadata": {},
     "output_type": "execute_result"
    }
   ],
   "source": [
    "# we can save this when we want to automate with pipelines\n",
    "defs"
   ]
  },
  {
   "cell_type": "code",
   "execution_count": 15,
   "id": "dbc39214",
   "metadata": {},
   "outputs": [
    {
     "data": {
      "text/plain": [
       "Index(['event = Takeaway', 'event = Stoppage', 'event = Shot',\n",
       "       'event = Shootout Complete', 'event = Period Start',\n",
       "       'event = Period Ready', 'event = Period Official', 'event = Period End',\n",
       "       'event = Penalty', 'event = Official Challenge', 'event is unknown',\n",
       "       'description = Ziggy Palffy Wrist Shot saved by Rick DiPietro',\n",
       "       'description = Ziggy Palffy Unsportsmanlike conduct',\n",
       "       'description = Ziggy Palffy Tripping against Yuri Butsayev',\n",
       "       'description = Ziggy Palffy Tripping against Steve Rucchin',\n",
       "       'description = Ziggy Palffy Tripping against Scott Gomez',\n",
       "       'description = Ziggy Palffy Tripping - Obstruction against Brendan Shanahan',\n",
       "       'description = Ziggy Palffy Tripping - Obstruction',\n",
       "       'description = Ziggy Palffy Tripping',\n",
       "       'description = Ziggy Palffy Spearing against Martin Erat',\n",
       "       'description = Ziggy Palffy Slashing against Teppo Numminen',\n",
       "       'description is unknown'],\n",
       "      dtype='object')"
      ]
     },
     "execution_count": 15,
     "metadata": {},
     "output_type": "execute_result"
    }
   ],
   "source": [
    "encoded.columns"
   ]
  },
  {
   "cell_type": "code",
   "execution_count": 16,
   "id": "2d4e40f2",
   "metadata": {
    "scrolled": true
   },
   "outputs": [],
   "source": [
    "play_encoded = es['plays_df'].merge(encoded,left_on='id',right_on='id')"
   ]
  },
  {
   "cell_type": "code",
   "execution_count": 17,
   "id": "9e13e36e",
   "metadata": {},
   "outputs": [
    {
     "data": {
      "text/plain": [
       "Entityset: play\n",
       "  DataFrames:\n",
       "    play_df [Rows: 5050529, Columns: 38]\n",
       "  Relationships:\n",
       "    No relationships"
      ]
     },
     "execution_count": 17,
     "metadata": {},
     "output_type": "execute_result"
    }
   ],
   "source": [
    "es = ft.EntitySet(id='play')\n",
    "es.add_dataframe(dataframe_name='play_df',\n",
    "                dataframe=play_encoded,\n",
    "                index = 'id')"
   ]
  },
  {
   "cell_type": "code",
   "execution_count": 18,
   "id": "b375ab6c",
   "metadata": {},
   "outputs": [
    {
     "data": {
      "text/plain": [
       "Entityset: play\n",
       "  DataFrames:\n",
       "    play_df [Rows: 5050529, Columns: 38]\n",
       "    game_df [Rows: 26305, Columns: 16]\n",
       "  Relationships:\n",
       "    No relationships"
      ]
     },
     "execution_count": 18,
     "metadata": {},
     "output_type": "execute_result"
    }
   ],
   "source": [
    "es.add_dataframe(dataframe_name='game_df',\n",
    "                dataframe=game_df,\n",
    "                index='id')"
   ]
  },
  {
   "cell_type": "code",
   "execution_count": 19,
   "id": "34eedd44",
   "metadata": {},
   "outputs": [
    {
     "data": {
      "text/plain": [
       "Entityset: play\n",
       "  DataFrames:\n",
       "    play_df [Rows: 5050529, Columns: 38]\n",
       "    game_df [Rows: 26305, Columns: 16]\n",
       "    games_and_plays [Rows: 4217063, Columns: 1]\n",
       "  Relationships:\n",
       "    play_df.play_id -> games_and_plays.play_id"
      ]
     },
     "execution_count": 19,
     "metadata": {},
     "output_type": "execute_result"
    }
   ],
   "source": [
    "es.normalize_dataframe(base_dataframe_name='play_df',\n",
    "                   new_dataframe_name='games_and_plays',\n",
    "                   index='play_id')"
   ]
  },
  {
   "cell_type": "code",
   "execution_count": 20,
   "id": "e512df01",
   "metadata": {},
   "outputs": [],
   "source": [
    "#creating features and transforms\n",
    "dataframes = {\n",
    "    \"plays\" : (play_encoded, \"id\"),\n",
    "    \"games\" : (game_df, \"id\")\n",
    "}\n",
    "\n",
    "features , transforms = ft.dfs(dataframes=dataframes,target_dataframe_name='games_and_plays',entityset=es)"
   ]
  },
  {
   "cell_type": "code",
   "execution_count": null,
   "id": "664f4369",
   "metadata": {},
   "outputs": [],
   "source": []
  },
  {
   "cell_type": "markdown",
   "id": "6f8a90bf",
   "metadata": {},
   "source": [
    "## Model Persistance"
   ]
  },
  {
   "cell_type": "code",
   "execution_count": 24,
   "id": "f9e6a044",
   "metadata": {},
   "outputs": [
    {
     "name": "stderr",
     "output_type": "stream",
     "text": [
      "C:\\ProgramData\\anaconda3\\Lib\\site-packages\\sklearn\\base.py:439: UserWarning: X does not have valid feature names, but LogisticRegression was fitted with feature names\n",
      "  warnings.warn(\n"
     ]
    },
    {
     "data": {
      "text/plain": [
       "array([[0.89969047, 0.10030953]])"
      ]
     },
     "execution_count": 24,
     "metadata": {},
     "output_type": "execute_result"
    }
   ],
   "source": [
    "import mlflow\n",
    "import pandas as pd\n",
    "\n",
    "df = pd.read_csv(\"https://github.com/bgweber/Twitch/raw/master/Recommendations/games-expand.csv\")\n",
    "x = df.drop(['label'], axis=1)\n",
    "y = df['label']\n",
    "\n",
    "\n",
    "model = mlflow.sklearn.load_model('models/model_V1')\n",
    "model.predict_proba([x.values[-1]])\n"
   ]
  },
  {
   "cell_type": "code",
   "execution_count": null,
   "id": "2cd35856",
   "metadata": {},
   "outputs": [],
   "source": [
    "#loading model and creating an endpoint\n",
    "import flask\n",
    "import ast\n",
    "import mlflow.sklearn\n",
    "import requests\n",
    "\n",
    "model = mlflow.sklearn.load_model('models/model_V1')\n",
    "\n",
    "app = flask.Flask(__name__)\n",
    "\n",
    "@app.route('/',methods=['GET','POST'])\n",
    "def return_predictions():\n",
    "    '''\n",
    "    Returns predicted probabilities from model loaded with mlflow\n",
    "    \n",
    "    args: request\n",
    "    returns: Predicted probabilities\n",
    "    '''\n",
    "\n",
    "    try:\n",
    "        params = flask.request.data\n",
    "\n",
    "        if params:\n",
    "            params = params.decode('utf-8')\n",
    "            params = ast.literal_eval(params)\n",
    "            data_values = params.values()\n",
    "\n",
    "            predictions = model.predict_proba([list(data_values)])\n",
    "\n",
    "            return flask.jsonify({\"Predicted_probability\":predictions[0][0]})\n",
    "        else:\n",
    "            return flask.abort(404,description=\"Please send required data\")\n",
    "    except Exception as e:\n",
    "        return flask.abort(400,description=f\"{e}\")\n",
    "\n",
    "if __name__ == \"__main___\":\n",
    "    app.run(debug=True)"
   ]
  },
  {
   "cell_type": "code",
   "execution_count": null,
   "id": "a9bb9725",
   "metadata": {},
   "outputs": [],
   "source": []
  }
 ],
 "metadata": {
  "kernelspec": {
   "display_name": "Python 3 (ipykernel)",
   "language": "python",
   "name": "python3"
  },
  "language_info": {
   "codemirror_mode": {
    "name": "ipython",
    "version": 3
   },
   "file_extension": ".py",
   "mimetype": "text/x-python",
   "name": "python",
   "nbconvert_exporter": "python",
   "pygments_lexer": "ipython3",
   "version": "3.11.3"
  }
 },
 "nbformat": 4,
 "nbformat_minor": 5
}
