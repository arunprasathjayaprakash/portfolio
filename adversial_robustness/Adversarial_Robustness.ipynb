{
 "cells": [
  {
   "cell_type": "markdown",
   "metadata": {},
   "source": [
    "# Adversarial Robustness of Neural Networks"
   ]
  },
  {
   "cell_type": "markdown",
   "metadata": {},
   "source": [
    "## Task 1: Import Libraries"
   ]
  },
  {
   "cell_type": "code",
   "execution_count": 1,
   "metadata": {},
   "outputs": [],
   "source": [
    "import pandas as pd\n",
    "import numpy as np\n",
    "import cv2\n",
    "import matplotlib.pyplot as plt\n",
    "import timm\n",
    "import art\n",
    "import torch\n",
    "from art.estimators.classification import PyTorchClassifier\n",
    "from art.attacks.evasion import FastGradientMethod\n",
    "from art.defences.detector.evasion import BinaryInputDetector\n",
    "from art.defences.trainer import AdversarialTrainer"
   ]
  },
  {
   "cell_type": "code",
   "execution_count": 2,
   "metadata": {},
   "outputs": [],
   "source": [
    "import os\n",
    "\n",
    "model_weights_path = os.listdir(os.path.join(os.getcwd(),'files'))"
   ]
  },
  {
   "cell_type": "code",
   "execution_count": 3,
   "metadata": {},
   "outputs": [
    {
     "data": {
      "text/plain": [
       "True"
      ]
     },
     "execution_count": 3,
     "metadata": {},
     "output_type": "execute_result"
    }
   ],
   "source": [
    "timm.is_model_pretrained('resnet34')"
   ]
  },
  {
   "cell_type": "markdown",
   "metadata": {},
   "source": [
    "## Task 2: Load the Pretrained Model"
   ]
  },
  {
   "cell_type": "code",
   "execution_count": 4,
   "metadata": {},
   "outputs": [
    {
     "data": {
      "application/vnd.jupyter.widget-view+json": {
       "model_id": "b2dc4bbbfc8d49c6a289828ee4148cae",
       "version_major": 2,
       "version_minor": 0
      },
      "text/plain": [
       "model.safetensors:   0%|          | 0.00/87.3M [00:00<?, ?B/s]"
      ]
     },
     "metadata": {},
     "output_type": "display_data"
    }
   ],
   "source": [
    "resnet_34 = timm.create_model('resnet34',pretrained=True)"
   ]
  },
  {
   "cell_type": "code",
   "execution_count": 5,
   "metadata": {},
   "outputs": [
    {
     "data": {
      "text/plain": [
       "Conv2d(3, 64, kernel_size=(7, 7), stride=(2, 2), padding=(3, 3), bias=False)"
      ]
     },
     "execution_count": 5,
     "metadata": {},
     "output_type": "execute_result"
    }
   ],
   "source": [
    "resnet_34.conv1"
   ]
  },
  {
   "cell_type": "code",
   "execution_count": 6,
   "metadata": {},
   "outputs": [],
   "source": [
    "custom_model_weights = torch.load('/files/pytorch_model_resnet34.bin')"
   ]
  },
  {
   "cell_type": "code",
   "execution_count": 7,
   "metadata": {},
   "outputs": [],
   "source": [
    "resnet_34.conv1 = torch.nn.Conv2d(3,64,kernel_size=(3,3),padding=(1,1),stride=(1,1),bias=False)"
   ]
  },
  {
   "cell_type": "code",
   "execution_count": 8,
   "metadata": {},
   "outputs": [],
   "source": [
    "resnet_34.fc.weight = torch.nn.Parameter(custom_model_weights['fc.weight'])"
   ]
  },
  {
   "cell_type": "code",
   "execution_count": 9,
   "metadata": {},
   "outputs": [],
   "source": [
    "resnet_34.fc.bias = torch.nn.Parameter(custom_model_weights['fc.bias'])"
   ]
  },
  {
   "cell_type": "code",
   "execution_count": 10,
   "metadata": {},
   "outputs": [
    {
     "data": {
      "text/plain": [
       "<All keys matched successfully>"
      ]
     },
     "execution_count": 10,
     "metadata": {},
     "output_type": "execute_result"
    }
   ],
   "source": [
    "resnet_34.load_state_dict(torch.load('/files/pytorch_model_resnet34.bin'))"
   ]
  },
  {
   "cell_type": "markdown",
   "metadata": {},
   "source": [
    "## Task 3: Load the Dataset"
   ]
  },
  {
   "cell_type": "code",
   "execution_count": 11,
   "metadata": {},
   "outputs": [
    {
     "name": "stderr",
     "output_type": "stream",
     "text": [
      "/usr/local/lib/python3.8/dist-packages/torchvision/transforms/v2/_deprecated.py:41: UserWarning: The transform `ToTensor()` is deprecated and will be removed in a future release. Instead, please use `v2.Compose([v2.ToImage(), v2.ToDtype(torch.float32, scale=True)])`.\n",
      "  warnings.warn(\n"
     ]
    }
   ],
   "source": [
    "#Load the Transformations pipeline\n",
    "from torchvision.transforms import v2\n",
    "\n",
    "train_transformations = v2.Compose([\n",
    "    v2.RandomCrop(size=(512,512)),\n",
    "    v2.RandomHorizontalFlip(),\n",
    "    v2.ToTensor(),\n",
    "    v2.Normalize(mean=[0.485, 0.456, 0.406], std=[0.229, 0.224, 0.225])\n",
    "])\n",
    "\n",
    "test_transformations = v2.Compose([\n",
    "    v2.ToTensor(),\n",
    "    v2.Normalize(mean=[0.485, 0.456, 0.406], std=[0.229, 0.224, 0.225])\n",
    "])"
   ]
  },
  {
   "cell_type": "code",
   "execution_count": 12,
   "metadata": {},
   "outputs": [
    {
     "name": "stdout",
     "output_type": "stream",
     "text": [
      "Downloading https://www.cs.toronto.edu/~kriz/cifar-10-python.tar.gz to /cifar-10-python.tar.gz\n"
     ]
    },
    {
     "name": "stderr",
     "output_type": "stream",
     "text": [
      "  0%|          | 0/170498071 [00:00<?, ?it/s]\r  0%|          | 458752/170498071 [00:00<00:41, 4093360.17it/s]\r  3%|▎         | 5275648/170498071 [00:00<00:05, 28788467.61it/s]\r  9%|▊         | 14843904/170498071 [00:00<00:02, 57715338.99it/s]\r 14%|█▍        | 24641536/170498071 [00:00<00:01, 73187310.25it/s]\r 19%|█▉        | 33161216/170498071 [00:00<00:01, 77447563.04it/s]\r 25%|██▍       | 41779200/170498071 [00:00<00:01, 80317439.01it/s]\r 29%|██▉       | 50266112/170498071 [00:00<00:01, 81592508.29it/s]\r 35%|███▌      | 59867136/170498071 [00:00<00:01, 86068672.00it/s]\r 41%|████      | 69664768/170498071 [00:00<00:01, 89741181.98it/s]\r 46%|████▌     | 78675968/170498071 [00:01<00:01, 89735237.46it/s]\r 52%|█████▏    | 88473600/170498071 [00:01<00:00, 92223418.94it/s]\r 58%|█████▊    | 99450880/170498071 [00:01<00:00, 97521815.56it/s]\r 65%|██████▍   | 110690304/170498071 [00:01<00:00, 102016951.51it/s]\r 71%|███████▏  | 121896960/170498071 [00:01<00:00, 104173916.18it/s]\r 78%|███████▊  | 133464064/170498071 [00:01<00:00, 107579368.07it/s]\r 85%|████████▍ | 144703488/170498071 [00:01<00:00, 108933090.74it/s]\r 91%|█████████▏| 155975680/170498071 [00:01<00:00, 110034915.97it/s]\r 98%|█████████▊| 167051264/170498071 [00:01<00:00, 110062642.96it/s]\r100%|██████████| 170498071/170498071 [00:01<00:00, 91945404.86it/s] \n"
     ]
    },
    {
     "name": "stdout",
     "output_type": "stream",
     "text": [
      "Extracting /cifar-10-python.tar.gz to /\n",
      "Files already downloaded and verified\n"
     ]
    }
   ],
   "source": [
    "import torchvision.datasets\n",
    "from sklearn.model_selection import train_test_split\n",
    "\n",
    "train_data = torchvision.datasets.CIFAR10(os.getcwd(),download=True,transform=train_transformations)\n",
    "test_data = torchvision.datasets.CIFAR10(os.getcwd(),download=True,train=False,transform=test_transformations)"
   ]
  },
  {
   "cell_type": "code",
   "execution_count": 13,
   "metadata": {},
   "outputs": [],
   "source": [
    "from torch.utils.data import DataLoader\n",
    "\n",
    "train_loader = DataLoader(train_data,shuffle=True)\n",
    "test_loader = DataLoader(test_data,shuffle=True)"
   ]
  },
  {
   "cell_type": "markdown",
   "metadata": {},
   "source": [
    "## Task 4: Perform Adversarial Attacks"
   ]
  },
  {
   "cell_type": "code",
   "execution_count": 14,
   "metadata": {},
   "outputs": [
    {
     "data": {
      "text/plain": [
       "ResNet(\n",
       "  (conv1): Conv2d(3, 64, kernel_size=(3, 3), stride=(1, 1), padding=(1, 1), bias=False)\n",
       "  (bn1): BatchNorm2d(64, eps=1e-05, momentum=0.1, affine=True, track_running_stats=True)\n",
       "  (act1): ReLU(inplace=True)\n",
       "  (maxpool): MaxPool2d(kernel_size=3, stride=2, padding=1, dilation=1, ceil_mode=False)\n",
       "  (layer1): Sequential(\n",
       "    (0): BasicBlock(\n",
       "      (conv1): Conv2d(64, 64, kernel_size=(3, 3), stride=(1, 1), padding=(1, 1), bias=False)\n",
       "      (bn1): BatchNorm2d(64, eps=1e-05, momentum=0.1, affine=True, track_running_stats=True)\n",
       "      (drop_block): Identity()\n",
       "      (act1): ReLU(inplace=True)\n",
       "      (aa): Identity()\n",
       "      (conv2): Conv2d(64, 64, kernel_size=(3, 3), stride=(1, 1), padding=(1, 1), bias=False)\n",
       "      (bn2): BatchNorm2d(64, eps=1e-05, momentum=0.1, affine=True, track_running_stats=True)\n",
       "      (act2): ReLU(inplace=True)\n",
       "    )\n",
       "    (1): BasicBlock(\n",
       "      (conv1): Conv2d(64, 64, kernel_size=(3, 3), stride=(1, 1), padding=(1, 1), bias=False)\n",
       "      (bn1): BatchNorm2d(64, eps=1e-05, momentum=0.1, affine=True, track_running_stats=True)\n",
       "      (drop_block): Identity()\n",
       "      (act1): ReLU(inplace=True)\n",
       "      (aa): Identity()\n",
       "      (conv2): Conv2d(64, 64, kernel_size=(3, 3), stride=(1, 1), padding=(1, 1), bias=False)\n",
       "      (bn2): BatchNorm2d(64, eps=1e-05, momentum=0.1, affine=True, track_running_stats=True)\n",
       "      (act2): ReLU(inplace=True)\n",
       "    )\n",
       "    (2): BasicBlock(\n",
       "      (conv1): Conv2d(64, 64, kernel_size=(3, 3), stride=(1, 1), padding=(1, 1), bias=False)\n",
       "      (bn1): BatchNorm2d(64, eps=1e-05, momentum=0.1, affine=True, track_running_stats=True)\n",
       "      (drop_block): Identity()\n",
       "      (act1): ReLU(inplace=True)\n",
       "      (aa): Identity()\n",
       "      (conv2): Conv2d(64, 64, kernel_size=(3, 3), stride=(1, 1), padding=(1, 1), bias=False)\n",
       "      (bn2): BatchNorm2d(64, eps=1e-05, momentum=0.1, affine=True, track_running_stats=True)\n",
       "      (act2): ReLU(inplace=True)\n",
       "    )\n",
       "  )\n",
       "  (layer2): Sequential(\n",
       "    (0): BasicBlock(\n",
       "      (conv1): Conv2d(64, 128, kernel_size=(3, 3), stride=(2, 2), padding=(1, 1), bias=False)\n",
       "      (bn1): BatchNorm2d(128, eps=1e-05, momentum=0.1, affine=True, track_running_stats=True)\n",
       "      (drop_block): Identity()\n",
       "      (act1): ReLU(inplace=True)\n",
       "      (aa): Identity()\n",
       "      (conv2): Conv2d(128, 128, kernel_size=(3, 3), stride=(1, 1), padding=(1, 1), bias=False)\n",
       "      (bn2): BatchNorm2d(128, eps=1e-05, momentum=0.1, affine=True, track_running_stats=True)\n",
       "      (act2): ReLU(inplace=True)\n",
       "      (downsample): Sequential(\n",
       "        (0): Conv2d(64, 128, kernel_size=(1, 1), stride=(2, 2), bias=False)\n",
       "        (1): BatchNorm2d(128, eps=1e-05, momentum=0.1, affine=True, track_running_stats=True)\n",
       "      )\n",
       "    )\n",
       "    (1): BasicBlock(\n",
       "      (conv1): Conv2d(128, 128, kernel_size=(3, 3), stride=(1, 1), padding=(1, 1), bias=False)\n",
       "      (bn1): BatchNorm2d(128, eps=1e-05, momentum=0.1, affine=True, track_running_stats=True)\n",
       "      (drop_block): Identity()\n",
       "      (act1): ReLU(inplace=True)\n",
       "      (aa): Identity()\n",
       "      (conv2): Conv2d(128, 128, kernel_size=(3, 3), stride=(1, 1), padding=(1, 1), bias=False)\n",
       "      (bn2): BatchNorm2d(128, eps=1e-05, momentum=0.1, affine=True, track_running_stats=True)\n",
       "      (act2): ReLU(inplace=True)\n",
       "    )\n",
       "    (2): BasicBlock(\n",
       "      (conv1): Conv2d(128, 128, kernel_size=(3, 3), stride=(1, 1), padding=(1, 1), bias=False)\n",
       "      (bn1): BatchNorm2d(128, eps=1e-05, momentum=0.1, affine=True, track_running_stats=True)\n",
       "      (drop_block): Identity()\n",
       "      (act1): ReLU(inplace=True)\n",
       "      (aa): Identity()\n",
       "      (conv2): Conv2d(128, 128, kernel_size=(3, 3), stride=(1, 1), padding=(1, 1), bias=False)\n",
       "      (bn2): BatchNorm2d(128, eps=1e-05, momentum=0.1, affine=True, track_running_stats=True)\n",
       "      (act2): ReLU(inplace=True)\n",
       "    )\n",
       "    (3): BasicBlock(\n",
       "      (conv1): Conv2d(128, 128, kernel_size=(3, 3), stride=(1, 1), padding=(1, 1), bias=False)\n",
       "      (bn1): BatchNorm2d(128, eps=1e-05, momentum=0.1, affine=True, track_running_stats=True)\n",
       "      (drop_block): Identity()\n",
       "      (act1): ReLU(inplace=True)\n",
       "      (aa): Identity()\n",
       "      (conv2): Conv2d(128, 128, kernel_size=(3, 3), stride=(1, 1), padding=(1, 1), bias=False)\n",
       "      (bn2): BatchNorm2d(128, eps=1e-05, momentum=0.1, affine=True, track_running_stats=True)\n",
       "      (act2): ReLU(inplace=True)\n",
       "    )\n",
       "  )\n",
       "  (layer3): Sequential(\n",
       "    (0): BasicBlock(\n",
       "      (conv1): Conv2d(128, 256, kernel_size=(3, 3), stride=(2, 2), padding=(1, 1), bias=False)\n",
       "      (bn1): BatchNorm2d(256, eps=1e-05, momentum=0.1, affine=True, track_running_stats=True)\n",
       "      (drop_block): Identity()\n",
       "      (act1): ReLU(inplace=True)\n",
       "      (aa): Identity()\n",
       "      (conv2): Conv2d(256, 256, kernel_size=(3, 3), stride=(1, 1), padding=(1, 1), bias=False)\n",
       "      (bn2): BatchNorm2d(256, eps=1e-05, momentum=0.1, affine=True, track_running_stats=True)\n",
       "      (act2): ReLU(inplace=True)\n",
       "      (downsample): Sequential(\n",
       "        (0): Conv2d(128, 256, kernel_size=(1, 1), stride=(2, 2), bias=False)\n",
       "        (1): BatchNorm2d(256, eps=1e-05, momentum=0.1, affine=True, track_running_stats=True)\n",
       "      )\n",
       "    )\n",
       "    (1): BasicBlock(\n",
       "      (conv1): Conv2d(256, 256, kernel_size=(3, 3), stride=(1, 1), padding=(1, 1), bias=False)\n",
       "      (bn1): BatchNorm2d(256, eps=1e-05, momentum=0.1, affine=True, track_running_stats=True)\n",
       "      (drop_block): Identity()\n",
       "      (act1): ReLU(inplace=True)\n",
       "      (aa): Identity()\n",
       "      (conv2): Conv2d(256, 256, kernel_size=(3, 3), stride=(1, 1), padding=(1, 1), bias=False)\n",
       "      (bn2): BatchNorm2d(256, eps=1e-05, momentum=0.1, affine=True, track_running_stats=True)\n",
       "      (act2): ReLU(inplace=True)\n",
       "    )\n",
       "    (2): BasicBlock(\n",
       "      (conv1): Conv2d(256, 256, kernel_size=(3, 3), stride=(1, 1), padding=(1, 1), bias=False)\n",
       "      (bn1): BatchNorm2d(256, eps=1e-05, momentum=0.1, affine=True, track_running_stats=True)\n",
       "      (drop_block): Identity()\n",
       "      (act1): ReLU(inplace=True)\n",
       "      (aa): Identity()\n",
       "      (conv2): Conv2d(256, 256, kernel_size=(3, 3), stride=(1, 1), padding=(1, 1), bias=False)\n",
       "      (bn2): BatchNorm2d(256, eps=1e-05, momentum=0.1, affine=True, track_running_stats=True)\n",
       "      (act2): ReLU(inplace=True)\n",
       "    )\n",
       "    (3): BasicBlock(\n",
       "      (conv1): Conv2d(256, 256, kernel_size=(3, 3), stride=(1, 1), padding=(1, 1), bias=False)\n",
       "      (bn1): BatchNorm2d(256, eps=1e-05, momentum=0.1, affine=True, track_running_stats=True)\n",
       "      (drop_block): Identity()\n",
       "      (act1): ReLU(inplace=True)\n",
       "      (aa): Identity()\n",
       "      (conv2): Conv2d(256, 256, kernel_size=(3, 3), stride=(1, 1), padding=(1, 1), bias=False)\n",
       "      (bn2): BatchNorm2d(256, eps=1e-05, momentum=0.1, affine=True, track_running_stats=True)\n",
       "      (act2): ReLU(inplace=True)\n",
       "    )\n",
       "    (4): BasicBlock(\n",
       "      (conv1): Conv2d(256, 256, kernel_size=(3, 3), stride=(1, 1), padding=(1, 1), bias=False)\n",
       "      (bn1): BatchNorm2d(256, eps=1e-05, momentum=0.1, affine=True, track_running_stats=True)\n",
       "      (drop_block): Identity()\n",
       "      (act1): ReLU(inplace=True)\n",
       "      (aa): Identity()\n",
       "      (conv2): Conv2d(256, 256, kernel_size=(3, 3), stride=(1, 1), padding=(1, 1), bias=False)\n",
       "      (bn2): BatchNorm2d(256, eps=1e-05, momentum=0.1, affine=True, track_running_stats=True)\n",
       "      (act2): ReLU(inplace=True)\n",
       "    )\n",
       "    (5): BasicBlock(\n",
       "      (conv1): Conv2d(256, 256, kernel_size=(3, 3), stride=(1, 1), padding=(1, 1), bias=False)\n",
       "      (bn1): BatchNorm2d(256, eps=1e-05, momentum=0.1, affine=True, track_running_stats=True)\n",
       "      (drop_block): Identity()\n",
       "      (act1): ReLU(inplace=True)\n",
       "      (aa): Identity()\n",
       "      (conv2): Conv2d(256, 256, kernel_size=(3, 3), stride=(1, 1), padding=(1, 1), bias=False)\n",
       "      (bn2): BatchNorm2d(256, eps=1e-05, momentum=0.1, affine=True, track_running_stats=True)\n",
       "      (act2): ReLU(inplace=True)\n",
       "    )\n",
       "  )\n",
       "  (layer4): Sequential(\n",
       "    (0): BasicBlock(\n",
       "      (conv1): Conv2d(256, 512, kernel_size=(3, 3), stride=(2, 2), padding=(1, 1), bias=False)\n",
       "      (bn1): BatchNorm2d(512, eps=1e-05, momentum=0.1, affine=True, track_running_stats=True)\n",
       "      (drop_block): Identity()\n",
       "      (act1): ReLU(inplace=True)\n",
       "      (aa): Identity()\n",
       "      (conv2): Conv2d(512, 512, kernel_size=(3, 3), stride=(1, 1), padding=(1, 1), bias=False)\n",
       "      (bn2): BatchNorm2d(512, eps=1e-05, momentum=0.1, affine=True, track_running_stats=True)\n",
       "      (act2): ReLU(inplace=True)\n",
       "      (downsample): Sequential(\n",
       "        (0): Conv2d(256, 512, kernel_size=(1, 1), stride=(2, 2), bias=False)\n",
       "        (1): BatchNorm2d(512, eps=1e-05, momentum=0.1, affine=True, track_running_stats=True)\n",
       "      )\n",
       "    )\n",
       "    (1): BasicBlock(\n",
       "      (conv1): Conv2d(512, 512, kernel_size=(3, 3), stride=(1, 1), padding=(1, 1), bias=False)\n",
       "      (bn1): BatchNorm2d(512, eps=1e-05, momentum=0.1, affine=True, track_running_stats=True)\n",
       "      (drop_block): Identity()\n",
       "      (act1): ReLU(inplace=True)\n",
       "      (aa): Identity()\n",
       "      (conv2): Conv2d(512, 512, kernel_size=(3, 3), stride=(1, 1), padding=(1, 1), bias=False)\n",
       "      (bn2): BatchNorm2d(512, eps=1e-05, momentum=0.1, affine=True, track_running_stats=True)\n",
       "      (act2): ReLU(inplace=True)\n",
       "    )\n",
       "    (2): BasicBlock(\n",
       "      (conv1): Conv2d(512, 512, kernel_size=(3, 3), stride=(1, 1), padding=(1, 1), bias=False)\n",
       "      (bn1): BatchNorm2d(512, eps=1e-05, momentum=0.1, affine=True, track_running_stats=True)\n",
       "      (drop_block): Identity()\n",
       "      (act1): ReLU(inplace=True)\n",
       "      (aa): Identity()\n",
       "      (conv2): Conv2d(512, 512, kernel_size=(3, 3), stride=(1, 1), padding=(1, 1), bias=False)\n",
       "      (bn2): BatchNorm2d(512, eps=1e-05, momentum=0.1, affine=True, track_running_stats=True)\n",
       "      (act2): ReLU(inplace=True)\n",
       "    )\n",
       "  )\n",
       "  (global_pool): SelectAdaptivePool2d(pool_type=avg, flatten=Flatten(start_dim=1, end_dim=-1))\n",
       "  (fc): Linear(in_features=512, out_features=1000, bias=True)\n",
       ")"
      ]
     },
     "execution_count": 14,
     "metadata": {},
     "output_type": "execute_result"
    }
   ],
   "source": [
    "resnet_34"
   ]
  },
  {
   "cell_type": "code",
   "execution_count": 15,
   "metadata": {},
   "outputs": [],
   "source": [
    "loss = torch.nn.CrossEntropyLoss()\n",
    "optimizer = torch.optim.SGD(resnet_34.parameters())\n",
    "\n",
    "art_model = PyTorchClassifier(\n",
    "    input_shape=(3,32,32),\n",
    "    model= resnet_34,\n",
    "    loss= loss,\n",
    "    optimizer=optimizer,\n",
    "    nb_classes=10\n",
    ")"
   ]
  },
  {
   "cell_type": "code",
   "execution_count": 16,
   "metadata": {},
   "outputs": [],
   "source": [
    "#Scaling Train images\n",
    "scaled_train = (train_data.data.transpose(0, 3, 1, 2)[0:1000]/255)\n",
    "scaled_train_targets =  np.array(train_data.targets)"
   ]
  },
  {
   "cell_type": "code",
   "execution_count": 17,
   "metadata": {},
   "outputs": [],
   "source": [
    "#Scaling Test Images\n",
    "scaled_test = test_data.data.transpose(0, 3, 1, 2)[0:1000]/255\n",
    "scaled_test_targets = np.array(test_data.targets)"
   ]
  },
  {
   "cell_type": "code",
   "execution_count": 18,
   "metadata": {},
   "outputs": [],
   "source": [
    "#performing adversal attacks\n",
    "adversal_func = FastGradientMethod(art_model,norm=1)\n",
    "train_attack = adversal_func.generate(scaled_train,scaled_train_targets)"
   ]
  },
  {
   "cell_type": "code",
   "execution_count": 19,
   "metadata": {},
   "outputs": [],
   "source": [
    "test_attack = adversal_func.generate(scaled_test,scaled_test_targets)"
   ]
  },
  {
   "cell_type": "markdown",
   "metadata": {},
   "source": [
    "## Task 5: Visualize Adversarial Images"
   ]
  },
  {
   "cell_type": "code",
   "execution_count": 20,
   "metadata": {},
   "outputs": [
    {
     "data": {
      "image/jpeg": "[encoded data removed]",
      "image/png": "[encoded data removed]",
      "text/plain": [
       "<PIL.Image.Image image mode=RGB size=32x32>"
      ]
     },
     "metadata": {},
     "output_type": "display_data"
    },
    {
     "data": {
      "image/jpeg": "[encoded data removed]",
      "image/png": "[encoded data removed]",
      "text/plain": [
       "<PIL.Image.Image image mode=RGB size=32x32>"
      ]
     },
     "metadata": {},
     "output_type": "display_data"
    },
    {
     "data": {
      "image/jpeg": "[encoded data removed]",
      "image/png": "[encoded data removed]",
      "text/plain": [
       "<PIL.Image.Image image mode=RGB size=32x32>"
      ]
     },
     "metadata": {},
     "output_type": "display_data"
    },
    {
     "data": {
      "image/jpeg": "[encoded data removed]",
      "image/png": "[encoded data removed]",
      "text/plain": [
       "<PIL.Image.Image image mode=RGB size=32x32>"
      ]
     },
     "metadata": {},
     "output_type": "display_data"
    },
    {
     "data": {
      "image/jpeg": "[encoded data removed]",
      "image/png": "[encoded data removed]",
      "text/plain": [
       "<PIL.Image.Image image mode=RGB size=32x32>"
      ]
     },
     "metadata": {},
     "output_type": "display_data"
    }
   ],
   "source": [
    "import PIL\n",
    "from IPython.display import display\n",
    "\n",
    "for image in scaled_test[0:5]:\n",
    "    pil_image = PIL.Image.fromarray((image.transpose()* 255).astype(np.uint8))\n",
    "    display(pil_image)"
   ]
  },
  {
   "cell_type": "code",
   "execution_count": 21,
   "metadata": {},
   "outputs": [
    {
     "data": {
      "image/jpeg": "[encoded data removed]",
      "image/png": "[encoded data removed]",
      "text/plain": [
       "<PIL.Image.Image image mode=RGB size=32x32>"
      ]
     },
     "metadata": {},
     "output_type": "display_data"
    },
    {
     "data": {
      "image/jpeg": "[encoded data removed]",
      "image/png": "[encoded data removed]",
      "text/plain": [
       "<PIL.Image.Image image mode=RGB size=32x32>"
      ]
     },
     "metadata": {},
     "output_type": "display_data"
    },
    {
     "data": {
      "image/jpeg": "[encoded data removed]",
      "image/png": "[encoded data removed]",
      "text/plain": [
       "<PIL.Image.Image image mode=RGB size=32x32>"
      ]
     },
     "metadata": {},
     "output_type": "display_data"
    },
    {
     "data": {
      "image/jpeg": "[encoded data removed]",
      "image/png": "[encoded data removed]",
      "text/plain": [
       "<PIL.Image.Image image mode=RGB size=32x32>"
      ]
     },
     "metadata": {},
     "output_type": "display_data"
    },
    {
     "data": {
      "image/jpeg": "[encoded data removed]",
      "image/png": "[encoded data removed]",
      "text/plain": [
       "<PIL.Image.Image image mode=RGB size=32x32>"
      ]
     },
     "metadata": {},
     "output_type": "display_data"
    }
   ],
   "source": [
    "for image in test_attack[0:5]:\n",
    "    pil_image = PIL.Image.fromarray((image.transpose()* 255).astype(np.uint8))\n",
    "    display(pil_image)"
   ]
  },
  {
   "cell_type": "markdown",
   "metadata": {},
   "source": [
    "## Task 6: Evaluate Model Performance on Adversarial Images"
   ]
  },
  {
   "cell_type": "code",
   "execution_count": 22,
   "metadata": {},
   "outputs": [
    {
     "name": "stderr",
     "output_type": "stream",
     "text": [
      "  0%|          | 0/1000 [00:00<?, ?it/s]\r  0%|          | 3/1000 [00:00<00:33, 29.33it/s]\r  1%|          | 7/1000 [00:00<00:31, 31.61it/s]\r  1%|          | 11/1000 [00:00<00:29, 33.06it/s]\r  2%|▏         | 15/1000 [00:00<00:28, 34.12it/s]\r  2%|▏         | 19/1000 [00:00<00:28, 34.95it/s]\r  2%|▏         | 23/1000 [00:00<00:28, 34.69it/s]\r  3%|▎         | 27/1000 [00:00<00:27, 35.10it/s]\r  3%|▎         | 31/1000 [00:00<00:27, 35.51it/s]\r  4%|▎         | 35/1000 [00:01<00:27, 35.42it/s]\r  4%|▍         | 39/1000 [00:01<00:27, 35.49it/s]\r  4%|▍         | 43/1000 [00:01<00:26, 35.52it/s]\r  5%|▍         | 47/1000 [00:01<00:26, 35.45it/s]\r  5%|▌         | 51/1000 [00:01<00:27, 35.07it/s]\r  6%|▌         | 55/1000 [00:01<00:26, 35.11it/s]\r  6%|▌         | 59/1000 [00:01<00:26, 35.20it/s]\r  6%|▋         | 63/1000 [00:01<00:26, 35.46it/s]\r  7%|▋         | 67/1000 [00:01<00:26, 35.33it/s]\r  7%|▋         | 71/1000 [00:02<00:26, 35.68it/s]\r  8%|▊         | 75/1000 [00:02<00:25, 35.82it/s]\r  8%|▊         | 79/1000 [00:02<00:25, 35.72it/s]\r  8%|▊         | 83/1000 [00:02<00:25, 35.96it/s]\r  9%|▊         | 87/1000 [00:02<00:25, 35.88it/s]\r  9%|▉         | 91/1000 [00:02<00:25, 35.73it/s]\r 10%|▉         | 95/1000 [00:02<00:25, 35.69it/s]\r 10%|▉         | 99/1000 [00:02<00:25, 34.88it/s]\r 10%|█         | 103/1000 [00:02<00:25, 35.16it/s]\r 11%|█         | 107/1000 [00:03<00:25, 35.33it/s]\r 11%|█         | 111/1000 [00:03<00:24, 35.64it/s]\r 12%|█▏        | 115/1000 [00:03<00:24, 35.80it/s]\r 12%|█▏        | 119/1000 [00:03<00:24, 36.07it/s]\r 12%|█▏        | 123/1000 [00:03<00:24, 35.86it/s]\r 13%|█▎        | 127/1000 [00:03<00:24, 35.38it/s]\r 13%|█▎        | 131/1000 [00:03<00:24, 34.97it/s]\r 14%|█▎        | 135/1000 [00:03<00:24, 34.66it/s]\r 14%|█▍        | 139/1000 [00:03<00:24, 34.72it/s]\r 14%|█▍        | 143/1000 [00:04<00:24, 34.78it/s]\r 15%|█▍        | 147/1000 [00:04<00:24, 34.81it/s]\r 15%|█▌        | 151/1000 [00:04<00:24, 34.71it/s]\r 16%|█▌        | 155/1000 [00:04<00:24, 34.52it/s]\r 16%|█▌        | 159/1000 [00:04<00:24, 34.42it/s]\r 16%|█▋        | 163/1000 [00:04<00:24, 34.82it/s]\r 17%|█▋        | 167/1000 [00:04<00:23, 35.22it/s]\r 17%|█▋        | 171/1000 [00:04<00:23, 35.45it/s]\r 18%|█▊        | 175/1000 [00:04<00:23, 35.66it/s]\r 18%|█▊        | 179/1000 [00:05<00:22, 36.03it/s]\r 18%|█▊        | 183/1000 [00:05<00:22, 36.04it/s]\r 19%|█▊        | 187/1000 [00:05<00:22, 35.47it/s]\r 19%|█▉        | 191/1000 [00:05<00:23, 34.96it/s]\r 20%|█▉        | 195/1000 [00:05<00:22, 35.18it/s]\r 20%|█▉        | 199/1000 [00:05<00:22, 35.24it/s]\r 20%|██        | 203/1000 [00:05<00:22, 35.51it/s]\r 21%|██        | 207/1000 [00:05<00:22, 34.74it/s]\r 21%|██        | 211/1000 [00:05<00:22, 34.97it/s]\r 22%|██▏       | 215/1000 [00:06<00:22, 35.37it/s]\r 22%|██▏       | 219/1000 [00:06<00:22, 35.48it/s]\r 22%|██▏       | 223/1000 [00:06<00:21, 35.42it/s]\r 23%|██▎       | 227/1000 [00:06<00:21, 35.42it/s]\r 23%|██▎       | 231/1000 [00:06<00:22, 34.81it/s]\r 24%|██▎       | 235/1000 [00:06<00:22, 34.42it/s]\r 24%|██▍       | 239/1000 [00:06<00:21, 34.75it/s]\r 24%|██▍       | 243/1000 [00:06<00:21, 34.98it/s]\r 25%|██▍       | 247/1000 [00:07<00:21, 35.05it/s]\r 25%|██▌       | 251/1000 [00:07<00:21, 35.39it/s]\r 26%|██▌       | 255/1000 [00:07<00:20, 35.57it/s]\r 26%|██▌       | 259/1000 [00:07<00:21, 34.82it/s]\r 26%|██▋       | 263/1000 [00:07<00:20, 35.14it/s]\r 27%|██▋       | 267/1000 [00:07<00:20, 35.40it/s]\r 27%|██▋       | 271/1000 [00:07<00:20, 35.53it/s]\r 28%|██▊       | 275/1000 [00:07<00:20, 35.63it/s]\r 28%|██▊       | 279/1000 [00:07<00:20, 35.71it/s]\r 28%|██▊       | 283/1000 [00:08<00:20, 35.35it/s]\r 29%|██▊       | 287/1000 [00:08<00:20, 35.50it/s]\r 29%|██▉       | 291/1000 [00:08<00:19, 35.67it/s]\r 30%|██▉       | 295/1000 [00:08<00:20, 34.99it/s]\r 30%|██▉       | 299/1000 [00:08<00:20, 33.97it/s]\r 30%|███       | 303/1000 [00:08<00:20, 34.27it/s]\r 31%|███       | 307/1000 [00:08<00:20, 34.58it/s]\r 31%|███       | 311/1000 [00:08<00:19, 34.84it/s]\r 32%|███▏      | 315/1000 [00:08<00:19, 35.05it/s]\r 32%|███▏      | 319/1000 [00:09<00:19, 35.22it/s]\r 32%|███▏      | 323/1000 [00:09<00:19, 35.31it/s]\r 33%|███▎      | 327/1000 [00:09<00:19, 35.40it/s]\r 33%|███▎      | 331/1000 [00:09<00:18, 35.44it/s]\r 34%|███▎      | 335/1000 [00:09<00:19, 34.95it/s]\r 34%|███▍      | 339/1000 [00:09<00:18, 35.01it/s]\r 34%|███▍      | 343/1000 [00:09<00:18, 34.93it/s]\r 35%|███▍      | 347/1000 [00:09<00:18, 34.98it/s]\r 35%|███▌      | 351/1000 [00:09<00:18, 35.27it/s]\r 36%|███▌      | 355/1000 [00:10<00:18, 35.48it/s]\r 36%|███▌      | 359/1000 [00:10<00:18, 35.56it/s]\r 36%|███▋      | 363/1000 [00:10<00:17, 35.62it/s]\r 37%|███▋      | 367/1000 [00:10<00:17, 35.47it/s]\r 37%|███▋      | 371/1000 [00:10<00:17, 35.57it/s]\r 38%|███▊      | 375/1000 [00:10<00:17, 35.66it/s]\r 38%|███▊      | 379/1000 [00:10<00:17, 35.75it/s]\r 38%|███▊      | 383/1000 [00:10<00:17, 35.41it/s]\r 39%|███▊      | 387/1000 [00:10<00:17, 35.40it/s]\r 39%|███▉      | 391/1000 [00:11<00:17, 35.55it/s]\r 40%|███▉      | 395/1000 [00:11<00:16, 35.72it/s]\r 40%|███▉      | 399/1000 [00:11<00:16, 35.83it/s]\r 40%|████      | 403/1000 [00:11<00:16, 35.81it/s]\r 41%|████      | 407/1000 [00:11<00:16, 35.69it/s]\r 41%|████      | 411/1000 [00:11<00:16, 35.64it/s]\r 42%|████▏     | 415/1000 [00:11<00:16, 35.45it/s]\r 42%|████▏     | 419/1000 [00:11<00:16, 35.23it/s]\r 42%|████▏     | 423/1000 [00:12<00:16, 35.25it/s]\r 43%|████▎     | 427/1000 [00:12<00:16, 35.13it/s]\r 43%|████▎     | 431/1000 [00:12<00:16, 35.26it/s]\r 44%|████▎     | 435/1000 [00:12<00:15, 35.33it/s]\r 44%|████▍     | 439/1000 [00:12<00:15, 35.32it/s]\r 44%|████▍     | 443/1000 [00:12<00:15, 35.40it/s]\r 45%|████▍     | 447/1000 [00:12<00:15, 35.39it/s]\r 45%|████▌     | 451/1000 [00:12<00:15, 35.31it/s]\r 46%|████▌     | 455/1000 [00:12<00:15, 35.26it/s]\r 46%|████▌     | 459/1000 [00:13<00:15, 35.28it/s]\r 46%|████▋     | 463/1000 [00:13<00:15, 35.29it/s]\r 47%|████▋     | 467/1000 [00:13<00:15, 35.21it/s]\r 47%|████▋     | 471/1000 [00:13<00:15, 34.97it/s]\r 48%|████▊     | 475/1000 [00:13<00:15, 34.91it/s]\r 48%|████▊     | 479/1000 [00:13<00:15, 34.72it/s]\r 48%|████▊     | 483/1000 [00:13<00:14, 34.94it/s]\r 49%|████▊     | 487/1000 [00:13<00:14, 35.22it/s]\r 49%|████▉     | 491/1000 [00:13<00:14, 35.30it/s]\r 50%|████▉     | 495/1000 [00:14<00:14, 34.20it/s]\r 50%|████▉     | 499/1000 [00:14<00:16, 29.65it/s]\r 50%|█████     | 503/1000 [00:14<00:17, 28.67it/s]\r 51%|█████     | 507/1000 [00:14<00:16, 30.23it/s]\r 51%|█████     | 511/1000 [00:14<00:15, 31.50it/s]\r 52%|█████▏    | 515/1000 [00:14<00:14, 32.45it/s]\r 52%|█████▏    | 519/1000 [00:14<00:14, 33.25it/s]\r 52%|█████▏    | 523/1000 [00:14<00:14, 33.90it/s]\r 53%|█████▎    | 527/1000 [00:15<00:13, 34.50it/s]\r 53%|█████▎    | 531/1000 [00:15<00:13, 34.79it/s]\r 54%|█████▎    | 535/1000 [00:15<00:13, 34.95it/s]\r 54%|█████▍    | 539/1000 [00:15<00:13, 35.03it/s]\r 54%|█████▍    | 543/1000 [00:15<00:13, 35.15it/s]\r 55%|█████▍    | 547/1000 [00:15<00:12, 35.20it/s]\r 55%|█████▌    | 551/1000 [00:15<00:12, 35.42it/s]\r 56%|█████▌    | 555/1000 [00:15<00:12, 35.59it/s]\r 56%|█████▌    | 559/1000 [00:15<00:12, 35.71it/s]\r 56%|█████▋    | 563/1000 [00:16<00:12, 35.89it/s]\r 57%|█████▋    | 567/1000 [00:16<00:12, 35.98it/s]\r 57%|█████▋    | 571/1000 [00:16<00:11, 35.98it/s]\r 57%|█████▊    | 575/1000 [00:16<00:11, 35.91it/s]\r 58%|█████▊    | 579/1000 [00:16<00:11, 35.93it/s]\r 58%|█████▊    | 583/1000 [00:16<00:11, 36.02it/s]\r 59%|█████▊    | 587/1000 [00:16<00:11, 35.98it/s]\r 59%|█████▉    | 591/1000 [00:16<00:11, 35.84it/s]\r 60%|█████▉    | 595/1000 [00:16<00:11, 35.70it/s]\r 60%|█████▉    | 599/1000 [00:17<00:11, 35.84it/s]\r 60%|██████    | 603/1000 [00:17<00:11, 35.91it/s]\r 61%|██████    | 607/1000 [00:17<00:10, 35.97it/s]\r 61%|██████    | 611/1000 [00:17<00:10, 35.94it/s]\r 62%|██████▏   | 615/1000 [00:17<00:10, 35.83it/s]\r 62%|██████▏   | 619/1000 [00:17<00:10, 35.83it/s]\r 62%|██████▏   | 623/1000 [00:17<00:10, 35.81it/s]\r 63%|██████▎   | 627/1000 [00:17<00:10, 35.61it/s]\r 63%|██████▎   | 631/1000 [00:17<00:10, 35.54it/s]\r 64%|██████▎   | 635/1000 [00:18<00:10, 35.57it/s]\r 64%|██████▍   | 639/1000 [00:18<00:10, 35.64it/s]\r 64%|██████▍   | 643/1000 [00:18<00:10, 35.61it/s]\r 65%|██████▍   | 647/1000 [00:18<00:09, 35.60it/s]\r 65%|██████▌   | 651/1000 [00:18<00:09, 35.66it/s]\r 66%|██████▌   | 655/1000 [00:18<00:09, 35.59it/s]\r 66%|██████▌   | 659/1000 [00:18<00:09, 35.61it/s]\r 66%|██████▋   | 663/1000 [00:18<00:09, 35.62it/s]\r 67%|██████▋   | 667/1000 [00:18<00:09, 35.44it/s]\r 67%|██████▋   | 671/1000 [00:19<00:09, 35.54it/s]\r 68%|██████▊   | 675/1000 [00:19<00:09, 35.54it/s]\r 68%|██████▊   | 679/1000 [00:19<00:09, 35.55it/s]\r 68%|██████▊   | 683/1000 [00:19<00:08, 35.68it/s]\r 69%|██████▊   | 687/1000 [00:19<00:08, 35.31it/s]\r 69%|██████▉   | 691/1000 [00:19<00:08, 35.50it/s]\r 70%|██████▉   | 695/1000 [00:19<00:08, 35.46it/s]\r 70%|██████▉   | 699/1000 [00:19<00:08, 35.48it/s]\r 70%|███████   | 703/1000 [00:20<00:08, 35.39it/s]\r 71%|███████   | 707/1000 [00:20<00:08, 35.40it/s]\r 71%|███████   | 711/1000 [00:20<00:08, 35.38it/s]\r 72%|███████▏  | 715/1000 [00:20<00:08, 35.30it/s]\r 72%|███████▏  | 719/1000 [00:20<00:07, 35.36it/s]\r 72%|███████▏  | 723/1000 [00:20<00:07, 35.28it/s]\r 73%|███████▎  | 727/1000 [00:20<00:07, 35.17it/s]\r 73%|███████▎  | 731/1000 [00:20<00:07, 35.33it/s]\r 74%|███████▎  | 735/1000 [00:20<00:07, 35.45it/s]\r 74%|███████▍  | 739/1000 [00:21<00:07, 35.50it/s]\r 74%|███████▍  | 743/1000 [00:21<00:07, 35.57it/s]\r 75%|███████▍  | 747/1000 [00:21<00:07, 35.52it/s]\r 75%|███████▌  | 751/1000 [00:21<00:07, 35.55it/s]\r 76%|███████▌  | 755/1000 [00:21<00:06, 35.50it/s]\r 76%|███████▌  | 759/1000 [00:21<00:06, 35.41it/s]\r 76%|███████▋  | 763/1000 [00:21<00:06, 35.27it/s]\r 77%|███████▋  | 767/1000 [00:21<00:06, 35.27it/s]\r 77%|███████▋  | 771/1000 [00:21<00:06, 35.35it/s]\r 78%|███████▊  | 775/1000 [00:22<00:06, 35.50it/s]\r 78%|███████▊  | 779/1000 [00:22<00:06, 35.62it/s]\r 78%|███████▊  | 783/1000 [00:22<00:06, 35.82it/s]\r 79%|███████▊  | 787/1000 [00:22<00:05, 35.98it/s]\r 79%|███████▉  | 791/1000 [00:22<00:05, 35.85it/s]\r 80%|███████▉  | 795/1000 [00:22<00:05, 35.80it/s]\r 80%|███████▉  | 799/1000 [00:22<00:05, 35.86it/s]\r 80%|████████  | 803/1000 [00:22<00:05, 35.83it/s]\r 81%|████████  | 807/1000 [00:22<00:05, 35.78it/s]\r 81%|████████  | 811/1000 [00:23<00:05, 35.75it/s]\r 82%|████████▏ | 815/1000 [00:23<00:05, 35.75it/s]\r 82%|████████▏ | 819/1000 [00:23<00:05, 35.72it/s]\r 82%|████████▏ | 823/1000 [00:23<00:05, 35.12it/s]\r 83%|████████▎ | 827/1000 [00:23<00:05, 34.04it/s]\r 83%|████████▎ | 831/1000 [00:23<00:04, 34.39it/s]\r 84%|████████▎ | 835/1000 [00:23<00:04, 34.64it/s]\r 84%|████████▍ | 839/1000 [00:23<00:04, 35.02it/s]\r 84%|████████▍ | 843/1000 [00:23<00:04, 35.42it/s]\r 85%|████████▍ | 847/1000 [00:24<00:04, 35.38it/s]\r 85%|████████▌ | 851/1000 [00:24<00:04, 35.10it/s]\r 86%|████████▌ | 855/1000 [00:24<00:04, 35.03it/s]\r 86%|████████▌ | 859/1000 [00:24<00:04, 34.98it/s]\r 86%|████████▋ | 863/1000 [00:24<00:03, 34.79it/s]\r 87%|████████▋ | 867/1000 [00:24<00:03, 34.95it/s]\r 87%|████████▋ | 871/1000 [00:24<00:03, 35.11it/s]\r 88%|████████▊ | 875/1000 [00:24<00:03, 35.16it/s]\r 88%|████████▊ | 879/1000 [00:24<00:03, 35.23it/s]\r 88%|████████▊ | 883/1000 [00:25<00:03, 35.43it/s]\r 89%|████████▊ | 887/1000 [00:25<00:03, 35.38it/s]\r 89%|████████▉ | 891/1000 [00:25<00:03, 35.35it/s]\r 90%|████████▉ | 895/1000 [00:25<00:02, 35.37it/s]\r 90%|████████▉ | 899/1000 [00:25<00:02, 35.36it/s]\r 90%|█████████ | 903/1000 [00:25<00:02, 35.33it/s]\r 91%|█████████ | 907/1000 [00:25<00:02, 35.51it/s]\r 91%|█████████ | 911/1000 [00:25<00:02, 35.43it/s]\r 92%|█████████▏| 915/1000 [00:26<00:02, 35.31it/s]\r 92%|█████████▏| 919/1000 [00:26<00:02, 35.56it/s]\r 92%|█████████▏| 923/1000 [00:26<00:02, 35.59it/s]\r 93%|█████████▎| 927/1000 [00:26<00:02, 35.69it/s]\r 93%|█████████▎| 931/1000 [00:26<00:01, 35.78it/s]\r 94%|█████████▎| 935/1000 [00:26<00:01, 35.85it/s]\r 94%|█████████▍| 939/1000 [00:26<00:01, 35.74it/s]\r 94%|█████████▍| 943/1000 [00:26<00:01, 35.68it/s]\r 95%|█████████▍| 947/1000 [00:26<00:01, 35.62it/s]\r 95%|█████████▌| 951/1000 [00:27<00:01, 35.51it/s]\r 96%|█████████▌| 955/1000 [00:27<00:01, 35.67it/s]\r 96%|█████████▌| 959/1000 [00:27<00:01, 35.68it/s]\r 96%|█████████▋| 963/1000 [00:27<00:01, 35.88it/s]\r 97%|█████████▋| 967/1000 [00:27<00:00, 35.84it/s]\r 97%|█████████▋| 971/1000 [00:27<00:00, 35.80it/s]\r 98%|█████████▊| 975/1000 [00:27<00:00, 35.72it/s]\r 98%|█████████▊| 979/1000 [00:27<00:00, 35.83it/s]\r 98%|█████████▊| 983/1000 [00:27<00:00, 35.82it/s]\r 99%|█████████▊| 987/1000 [00:28<00:00, 35.77it/s]\r 99%|█████████▉| 991/1000 [00:28<00:00, 35.77it/s]\r100%|█████████▉| 995/1000 [00:28<00:00, 35.64it/s]\r100%|█████████▉| 999/1000 [00:28<00:00, 35.71it/s]\r100%|██████████| 1000/1000 [00:28<00:00, 35.23it/s]\n"
     ]
    }
   ],
   "source": [
    "predictions = []\n",
    "from tqdm import tqdm\n",
    "for image in tqdm(test_attack,total=len(test_attack)):\n",
    "    model_predict = art_model.predict(torch.from_numpy(image).unsqueeze(dim=0))\n",
    "    predictions.append(np.argmax(model_predict))"
   ]
  },
  {
   "cell_type": "code",
   "execution_count": 23,
   "metadata": {},
   "outputs": [
    {
     "name": "stdout",
     "output_type": "stream",
     "text": [
      "0.0\n"
     ]
    },
    {
     "name": "stderr",
     "output_type": "stream",
     "text": [
      "/tmp/ipykernel_204/1255212014.py:1: DeprecationWarning: elementwise comparison failed; this will raise an error in the future.\n",
      "  print(((np.sum(predictions==scaled_test_targets))/len(scaled_test_targets)))\n"
     ]
    }
   ],
   "source": [
    "print(((np.sum(predictions==scaled_test_targets))/len(scaled_test_targets)))"
   ]
  },
  {
   "cell_type": "markdown",
   "metadata": {},
   "source": [
    "## Task 7: Evaluate Model Performance on Normal Images"
   ]
  },
  {
   "cell_type": "code",
   "execution_count": 24,
   "metadata": {},
   "outputs": [
    {
     "name": "stderr",
     "output_type": "stream",
     "text": [
      "  0%|          | 0/1000 [00:00<?, ?it/s]\r  0%|          | 4/1000 [00:00<00:27, 35.87it/s]\r  1%|          | 8/1000 [00:00<00:27, 35.82it/s]\r  1%|          | 12/1000 [00:00<00:28, 35.22it/s]\r  2%|▏         | 16/1000 [00:00<00:27, 35.62it/s]\r  2%|▏         | 20/1000 [00:00<00:27, 35.51it/s]\r  2%|▏         | 24/1000 [00:00<00:27, 35.70it/s]\r  3%|▎         | 28/1000 [00:00<00:27, 35.84it/s]\r  3%|▎         | 32/1000 [00:00<00:27, 35.80it/s]\r  4%|▎         | 36/1000 [00:01<00:26, 35.77it/s]\r  4%|▍         | 40/1000 [00:01<00:26, 35.81it/s]\r  4%|▍         | 44/1000 [00:01<00:26, 36.00it/s]\r  5%|▍         | 48/1000 [00:01<00:26, 35.93it/s]\r  5%|▌         | 52/1000 [00:01<00:26, 36.08it/s]\r  6%|▌         | 56/1000 [00:01<00:26, 36.30it/s]\r  6%|▌         | 60/1000 [00:01<00:25, 36.37it/s]\r  6%|▋         | 64/1000 [00:01<00:26, 35.91it/s]\r  7%|▋         | 68/1000 [00:01<00:25, 35.92it/s]\r  7%|▋         | 72/1000 [00:02<00:26, 35.68it/s]\r  8%|▊         | 76/1000 [00:02<00:25, 35.71it/s]\r  8%|▊         | 80/1000 [00:02<00:25, 35.71it/s]\r  8%|▊         | 84/1000 [00:02<00:34, 26.66it/s]\r  9%|▉         | 88/1000 [00:02<00:32, 28.38it/s]\r  9%|▉         | 92/1000 [00:02<00:30, 30.14it/s]\r 10%|▉         | 96/1000 [00:02<00:28, 31.32it/s]\r 10%|█         | 100/1000 [00:02<00:27, 32.39it/s]\r 10%|█         | 104/1000 [00:03<00:26, 33.33it/s]\r 11%|█         | 108/1000 [00:03<00:26, 33.23it/s]\r 11%|█         | 112/1000 [00:03<00:26, 34.13it/s]\r 12%|█▏        | 116/1000 [00:03<00:25, 34.38it/s]\r 12%|█▏        | 120/1000 [00:03<00:25, 34.71it/s]\r 12%|█▏        | 124/1000 [00:03<00:25, 34.98it/s]\r 13%|█▎        | 128/1000 [00:03<00:24, 35.16it/s]\r 13%|█▎        | 132/1000 [00:03<00:24, 35.43it/s]\r 14%|█▎        | 136/1000 [00:03<00:24, 35.41it/s]\r 14%|█▍        | 140/1000 [00:04<00:24, 35.25it/s]\r 14%|█▍        | 144/1000 [00:04<00:24, 35.40it/s]\r 15%|█▍        | 148/1000 [00:04<00:24, 35.33it/s]\r 15%|█▌        | 152/1000 [00:04<00:23, 35.44it/s]\r 16%|█▌        | 156/1000 [00:04<00:23, 35.45it/s]\r 16%|█▌        | 160/1000 [00:04<00:23, 35.55it/s]\r 16%|█▋        | 164/1000 [00:04<00:23, 35.08it/s]\r 17%|█▋        | 168/1000 [00:04<00:24, 34.61it/s]\r 17%|█▋        | 172/1000 [00:04<00:23, 34.96it/s]\r 18%|█▊        | 176/1000 [00:05<00:23, 34.80it/s]\r 18%|█▊        | 180/1000 [00:05<00:23, 34.80it/s]\r 18%|█▊        | 184/1000 [00:05<00:23, 34.91it/s]\r 19%|█▉        | 188/1000 [00:05<00:23, 35.06it/s]\r 19%|█▉        | 192/1000 [00:05<00:22, 35.19it/s]\r 20%|█▉        | 196/1000 [00:05<00:22, 35.32it/s]\r 20%|██        | 200/1000 [00:05<00:22, 35.49it/s]\r 20%|██        | 204/1000 [00:05<00:22, 35.52it/s]\r 21%|██        | 208/1000 [00:05<00:22, 35.73it/s]\r 21%|██        | 212/1000 [00:06<00:21, 35.95it/s]\r 22%|██▏       | 216/1000 [00:06<00:21, 35.92it/s]\r 22%|██▏       | 220/1000 [00:06<00:21, 35.95it/s]\r 22%|██▏       | 224/1000 [00:06<00:21, 36.21it/s]\r 23%|██▎       | 228/1000 [00:06<00:21, 36.20it/s]\r 23%|██▎       | 232/1000 [00:06<00:21, 36.04it/s]\r 24%|██▎       | 236/1000 [00:06<00:21, 35.75it/s]\r 24%|██▍       | 240/1000 [00:06<00:21, 35.55it/s]\r 24%|██▍       | 244/1000 [00:07<00:21, 35.48it/s]\r 25%|██▍       | 248/1000 [00:07<00:21, 35.61it/s]\r 25%|██▌       | 252/1000 [00:07<00:21, 35.61it/s]\r 26%|██▌       | 256/1000 [00:07<00:20, 35.57it/s]\r 26%|██▌       | 260/1000 [00:07<00:20, 35.60it/s]\r 26%|██▋       | 264/1000 [00:07<00:20, 35.50it/s]\r 27%|██▋       | 268/1000 [00:07<00:20, 35.45it/s]\r 27%|██▋       | 272/1000 [00:07<00:20, 35.44it/s]\r 28%|██▊       | 276/1000 [00:07<00:20, 35.51it/s]\r 28%|██▊       | 280/1000 [00:08<00:20, 35.45it/s]\r 28%|██▊       | 284/1000 [00:08<00:20, 35.75it/s]\r 29%|██▉       | 288/1000 [00:08<00:19, 35.74it/s]\r 29%|██▉       | 292/1000 [00:08<00:19, 35.44it/s]\r 30%|██▉       | 296/1000 [00:08<00:19, 35.50it/s]\r 30%|███       | 300/1000 [00:08<00:19, 35.71it/s]\r 30%|███       | 304/1000 [00:08<00:19, 35.81it/s]\r 31%|███       | 308/1000 [00:08<00:20, 33.76it/s]\r 31%|███       | 312/1000 [00:08<00:20, 34.22it/s]\r 32%|███▏      | 316/1000 [00:09<00:19, 34.32it/s]\r 32%|███▏      | 320/1000 [00:09<00:19, 34.34it/s]\r 32%|███▏      | 324/1000 [00:09<00:19, 34.70it/s]\r 33%|███▎      | 328/1000 [00:09<00:19, 34.29it/s]\r 33%|███▎      | 332/1000 [00:09<00:19, 34.75it/s]\r 34%|███▎      | 336/1000 [00:09<00:18, 35.23it/s]\r 34%|███▍      | 340/1000 [00:09<00:18, 35.38it/s]\r 34%|███▍      | 344/1000 [00:09<00:18, 34.91it/s]\r 35%|███▍      | 348/1000 [00:09<00:18, 34.94it/s]\r 35%|███▌      | 352/1000 [00:10<00:18, 35.29it/s]\r 36%|███▌      | 356/1000 [00:10<00:18, 35.28it/s]\r 36%|███▌      | 360/1000 [00:10<00:18, 35.26it/s]\r 36%|███▋      | 364/1000 [00:10<00:17, 35.37it/s]\r 37%|███▋      | 368/1000 [00:10<00:17, 35.40it/s]\r 37%|███▋      | 372/1000 [00:10<00:17, 35.34it/s]\r 38%|███▊      | 376/1000 [00:10<00:17, 35.32it/s]\r 38%|███▊      | 380/1000 [00:10<00:17, 35.28it/s]\r 38%|███▊      | 384/1000 [00:10<00:17, 35.38it/s]\r 39%|███▉      | 388/1000 [00:11<00:17, 35.34it/s]\r 39%|███▉      | 392/1000 [00:11<00:17, 35.39it/s]\r 40%|███▉      | 396/1000 [00:11<00:16, 35.55it/s]\r 40%|████      | 400/1000 [00:11<00:16, 35.56it/s]\r 40%|████      | 404/1000 [00:11<00:16, 35.43it/s]\r 41%|████      | 408/1000 [00:11<00:16, 35.34it/s]\r 41%|████      | 412/1000 [00:11<00:16, 35.33it/s]\r 42%|████▏     | 416/1000 [00:11<00:16, 35.46it/s]\r 42%|████▏     | 420/1000 [00:11<00:16, 35.36it/s]\r 42%|████▏     | 424/1000 [00:12<00:16, 35.26it/s]\r 43%|████▎     | 428/1000 [00:12<00:16, 35.15it/s]\r 43%|████▎     | 432/1000 [00:12<00:16, 35.08it/s]\r 44%|████▎     | 436/1000 [00:12<00:15, 35.27it/s]\r 44%|████▍     | 440/1000 [00:12<00:15, 35.29it/s]\r 44%|████▍     | 444/1000 [00:12<00:15, 35.32it/s]\r 45%|████▍     | 448/1000 [00:12<00:15, 35.19it/s]\r 45%|████▌     | 452/1000 [00:12<00:15, 35.45it/s]\r 46%|████▌     | 456/1000 [00:13<00:15, 35.12it/s]\r 46%|████▌     | 460/1000 [00:13<00:15, 34.82it/s]\r 46%|████▋     | 464/1000 [00:13<00:15, 34.70it/s]\r 47%|████▋     | 468/1000 [00:13<00:15, 34.60it/s]\r 47%|████▋     | 472/1000 [00:13<00:15, 34.50it/s]\r 48%|████▊     | 476/1000 [00:13<00:15, 34.49it/s]\r 48%|████▊     | 480/1000 [00:13<00:15, 34.44it/s]\r 48%|████▊     | 484/1000 [00:13<00:14, 34.75it/s]\r 49%|████▉     | 488/1000 [00:13<00:14, 34.97it/s]\r 49%|████▉     | 492/1000 [00:14<00:14, 35.24it/s]\r 50%|████▉     | 496/1000 [00:14<00:14, 35.18it/s]\r 50%|█████     | 500/1000 [00:14<00:14, 35.27it/s]\r 50%|█████     | 504/1000 [00:14<00:14, 35.20it/s]\r 51%|█████     | 508/1000 [00:14<00:13, 35.36it/s]\r 51%|█████     | 512/1000 [00:14<00:13, 35.56it/s]\r 52%|█████▏    | 516/1000 [00:14<00:13, 35.56it/s]\r 52%|█████▏    | 520/1000 [00:14<00:13, 35.26it/s]\r 52%|█████▏    | 524/1000 [00:14<00:13, 35.00it/s]\r 53%|█████▎    | 528/1000 [00:15<00:13, 35.12it/s]\r 53%|█████▎    | 532/1000 [00:15<00:13, 34.74it/s]\r 54%|█████▎    | 536/1000 [00:15<00:13, 34.43it/s]\r 54%|█████▍    | 540/1000 [00:15<00:13, 34.47it/s]\r 54%|█████▍    | 544/1000 [00:15<00:13, 34.71it/s]\r 55%|█████▍    | 548/1000 [00:15<00:13, 34.69it/s]\r 55%|█████▌    | 552/1000 [00:15<00:12, 34.98it/s]\r 56%|█████▌    | 556/1000 [00:15<00:12, 35.06it/s]\r 56%|█████▌    | 560/1000 [00:15<00:12, 34.90it/s]\r 56%|█████▋    | 564/1000 [00:16<00:12, 34.82it/s]\r 57%|█████▋    | 568/1000 [00:16<00:12, 34.95it/s]\r 57%|█████▋    | 572/1000 [00:16<00:12, 34.99it/s]\r 58%|█████▊    | 576/1000 [00:16<00:12, 35.21it/s]\r 58%|█████▊    | 580/1000 [00:16<00:11, 35.24it/s]\r 58%|█████▊    | 584/1000 [00:16<00:11, 35.35it/s]\r 59%|█████▉    | 588/1000 [00:16<00:11, 35.47it/s]\r 59%|█████▉    | 592/1000 [00:16<00:11, 35.74it/s]\r 60%|█████▉    | 596/1000 [00:17<00:11, 35.79it/s]\r 60%|██████    | 600/1000 [00:17<00:11, 35.75it/s]\r 60%|██████    | 604/1000 [00:17<00:11, 35.84it/s]\r 61%|██████    | 608/1000 [00:17<00:10, 35.80it/s]\r 61%|██████    | 612/1000 [00:17<00:10, 35.78it/s]\r 62%|██████▏   | 616/1000 [00:17<00:10, 35.77it/s]\r 62%|██████▏   | 620/1000 [00:17<00:10, 35.68it/s]\r 62%|██████▏   | 624/1000 [00:17<00:10, 35.50it/s]\r 63%|██████▎   | 628/1000 [00:17<00:10, 35.50it/s]\r 63%|██████▎   | 632/1000 [00:18<00:10, 35.49it/s]\r 64%|██████▎   | 636/1000 [00:18<00:10, 35.53it/s]\r 64%|██████▍   | 640/1000 [00:18<00:10, 35.43it/s]\r 64%|██████▍   | 644/1000 [00:18<00:10, 35.32it/s]\r 65%|██████▍   | 648/1000 [00:18<00:09, 35.51it/s]\r 65%|██████▌   | 652/1000 [00:18<00:09, 35.59it/s]\r 66%|██████▌   | 656/1000 [00:18<00:09, 35.73it/s]\r 66%|██████▌   | 660/1000 [00:18<00:09, 35.60it/s]\r 66%|██████▋   | 664/1000 [00:18<00:09, 35.30it/s]\r 67%|██████▋   | 668/1000 [00:19<00:09, 35.28it/s]\r 67%|██████▋   | 672/1000 [00:19<00:09, 35.43it/s]\r 68%|██████▊   | 676/1000 [00:19<00:09, 35.41it/s]\r 68%|██████▊   | 680/1000 [00:19<00:09, 35.53it/s]\r 68%|██████▊   | 684/1000 [00:19<00:08, 35.64it/s]\r 69%|██████▉   | 688/1000 [00:19<00:08, 35.75it/s]\r 69%|██████▉   | 692/1000 [00:19<00:08, 35.65it/s]\r 70%|██████▉   | 696/1000 [00:19<00:08, 35.02it/s]\r 70%|███████   | 700/1000 [00:19<00:08, 34.97it/s]\r 70%|███████   | 704/1000 [00:20<00:08, 34.87it/s]\r 71%|███████   | 708/1000 [00:20<00:08, 35.20it/s]\r 71%|███████   | 712/1000 [00:20<00:08, 35.37it/s]\r 72%|███████▏  | 716/1000 [00:20<00:08, 35.47it/s]\r 72%|███████▏  | 720/1000 [00:20<00:07, 35.42it/s]\r 72%|███████▏  | 724/1000 [00:20<00:07, 35.78it/s]\r 73%|███████▎  | 728/1000 [00:20<00:07, 35.89it/s]\r 73%|███████▎  | 732/1000 [00:20<00:07, 35.72it/s]\r 74%|███████▎  | 736/1000 [00:20<00:07, 35.58it/s]\r 74%|███████▍  | 740/1000 [00:21<00:07, 35.85it/s]\r 74%|███████▍  | 744/1000 [00:21<00:07, 35.72it/s]\r 75%|███████▍  | 748/1000 [00:21<00:07, 35.38it/s]\r 75%|███████▌  | 752/1000 [00:21<00:06, 35.55it/s]\r 76%|███████▌  | 756/1000 [00:21<00:06, 35.66it/s]\r 76%|███████▌  | 760/1000 [00:21<00:06, 35.79it/s]\r 76%|███████▋  | 764/1000 [00:21<00:06, 35.75it/s]\r 77%|███████▋  | 768/1000 [00:21<00:06, 35.64it/s]\r 77%|███████▋  | 772/1000 [00:21<00:06, 35.65it/s]\r 78%|███████▊  | 776/1000 [00:22<00:06, 35.66it/s]\r 78%|███████▊  | 780/1000 [00:22<00:06, 35.68it/s]\r 78%|███████▊  | 784/1000 [00:22<00:06, 35.64it/s]\r 79%|███████▉  | 788/1000 [00:22<00:05, 35.52it/s]\r 79%|███████▉  | 792/1000 [00:22<00:05, 35.56it/s]\r 80%|███████▉  | 796/1000 [00:22<00:05, 35.71it/s]\r 80%|████████  | 800/1000 [00:22<00:05, 35.86it/s]\r 80%|████████  | 804/1000 [00:22<00:05, 35.93it/s]\r 81%|████████  | 808/1000 [00:22<00:05, 35.98it/s]\r 81%|████████  | 812/1000 [00:23<00:05, 36.09it/s]\r 82%|████████▏ | 816/1000 [00:23<00:05, 36.10it/s]\r 82%|████████▏ | 820/1000 [00:23<00:05, 35.82it/s]\r 82%|████████▏ | 824/1000 [00:23<00:04, 35.74it/s]\r 83%|████████▎ | 828/1000 [00:23<00:04, 35.68it/s]\r 83%|████████▎ | 832/1000 [00:23<00:04, 35.28it/s]\r 84%|████████▎ | 836/1000 [00:23<00:04, 33.90it/s]\r 84%|████████▍ | 840/1000 [00:23<00:04, 34.27it/s]\r 84%|████████▍ | 844/1000 [00:24<00:04, 34.43it/s]\r 85%|████████▍ | 848/1000 [00:24<00:04, 34.63it/s]\r 85%|████████▌ | 852/1000 [00:24<00:04, 35.09it/s]\r 86%|████████▌ | 856/1000 [00:24<00:04, 35.08it/s]\r 86%|████████▌ | 860/1000 [00:24<00:03, 35.20it/s]\r 86%|████████▋ | 864/1000 [00:24<00:03, 35.26it/s]\r 87%|████████▋ | 868/1000 [00:24<00:03, 35.48it/s]\r 87%|████████▋ | 872/1000 [00:24<00:03, 35.62it/s]\r 88%|████████▊ | 876/1000 [00:24<00:03, 35.31it/s]\r 88%|████████▊ | 880/1000 [00:25<00:03, 35.61it/s]\r 88%|████████▊ | 884/1000 [00:25<00:03, 35.74it/s]\r 89%|████████▉ | 888/1000 [00:25<00:03, 35.81it/s]\r 89%|████████▉ | 892/1000 [00:25<00:03, 35.98it/s]\r 90%|████████▉ | 896/1000 [00:25<00:02, 36.06it/s]\r 90%|█████████ | 900/1000 [00:25<00:02, 35.93it/s]\r 90%|█████████ | 904/1000 [00:25<00:02, 35.90it/s]\r 91%|█████████ | 908/1000 [00:25<00:02, 35.82it/s]\r 91%|█████████ | 912/1000 [00:25<00:02, 35.76it/s]\r 92%|█████████▏| 916/1000 [00:26<00:02, 35.70it/s]\r 92%|█████████▏| 920/1000 [00:26<00:02, 35.59it/s]\r 92%|█████████▏| 924/1000 [00:26<00:02, 35.54it/s]\r 93%|█████████▎| 928/1000 [00:26<00:02, 35.49it/s]\r 93%|█████████▎| 932/1000 [00:26<00:01, 35.53it/s]\r 94%|█████████▎| 936/1000 [00:26<00:01, 35.44it/s]\r 94%|█████████▍| 940/1000 [00:26<00:01, 35.25it/s]\r 94%|█████████▍| 944/1000 [00:26<00:01, 35.56it/s]\r 95%|█████████▍| 948/1000 [00:26<00:01, 35.73it/s]\r 95%|█████████▌| 952/1000 [00:27<00:01, 35.93it/s]\r 96%|█████████▌| 956/1000 [00:27<00:01, 36.05it/s]\r 96%|█████████▌| 960/1000 [00:27<00:01, 36.12it/s]\r 96%|█████████▋| 964/1000 [00:27<00:00, 36.01it/s]\r 97%|█████████▋| 968/1000 [00:27<00:00, 36.01it/s]\r 97%|█████████▋| 972/1000 [00:27<00:00, 35.90it/s]\r 98%|█████████▊| 976/1000 [00:27<00:00, 35.90it/s]\r 98%|█████████▊| 980/1000 [00:27<00:00, 35.86it/s]\r 98%|█████████▊| 984/1000 [00:27<00:00, 35.84it/s]\r 99%|█████████▉| 988/1000 [00:28<00:00, 35.93it/s]\r 99%|█████████▉| 992/1000 [00:28<00:00, 35.95it/s]\r100%|█████████▉| 996/1000 [00:28<00:00, 35.98it/s]\r100%|██████████| 1000/1000 [00:28<00:00, 36.01it/s]\r100%|██████████| 1000/1000 [00:28<00:00, 35.26it/s]\n"
     ]
    }
   ],
   "source": [
    "predictions = []\n",
    "from tqdm import tqdm\n",
    "for image in tqdm(scaled_test.astype(np.float32),total=len(scaled_test)):\n",
    "    model_predict = art_model.predict(torch.from_numpy(image).unsqueeze(dim=0))\n",
    "    predictions.append(np.argmax(model_predict))"
   ]
  },
  {
   "cell_type": "code",
   "execution_count": 25,
   "metadata": {},
   "outputs": [
    {
     "name": "stdout",
     "output_type": "stream",
     "text": [
      "0.0\n"
     ]
    },
    {
     "name": "stderr",
     "output_type": "stream",
     "text": [
      "/tmp/ipykernel_204/1255212014.py:1: DeprecationWarning: elementwise comparison failed; this will raise an error in the future.\n",
      "  print(((np.sum(predictions==scaled_test_targets))/len(scaled_test_targets)))\n"
     ]
    }
   ],
   "source": [
    "print(((np.sum(predictions==scaled_test_targets))/len(scaled_test_targets)))"
   ]
  },
  {
   "cell_type": "markdown",
   "metadata": {},
   "source": [
    "## Task 8: Train a Classifier to Detect Adversarial Examples"
   ]
  },
  {
   "cell_type": "code",
   "execution_count": 26,
   "metadata": {},
   "outputs": [
    {
     "data": {
      "application/vnd.jupyter.widget-view+json": {
       "model_id": "fcdb8f5a46ef460da47de8fca475539b",
       "version_major": 2,
       "version_minor": 0
      },
      "text/plain": [
       "model.safetensors:   0%|          | 0.00/46.8M [00:00<?, ?B/s]"
      ]
     },
     "metadata": {},
     "output_type": "display_data"
    }
   ],
   "source": [
    "#Classifier\n",
    "\n",
    "#Load the model\n",
    "res_18 = timm.create_model('resnet18',pretrained=True)\n",
    "\n",
    "#Modify the weights\n",
    "custom_weights_res_18 = torch.load('/files/pytorch_model_resnet18.bin')\n",
    "res_18.conv1.weight = torch.nn.Parameter(custom_weights_res_18['conv1.weight'])\n",
    "res_18.fc.weight = torch.nn.Parameter(custom_weights_res_18['fc.weight'])\n",
    "res_18.fc.bias = torch.nn.Parameter(custom_weights_res_18['fc.bias'])"
   ]
  },
  {
   "cell_type": "code",
   "execution_count": 27,
   "metadata": {},
   "outputs": [],
   "source": [
    "res_18.fc = torch.nn.Linear(in_features=512, out_features=2, bias=True)\n",
    "\n",
    "art_classifier = PyTorchClassifier(\n",
    "    input_shape=(3,64),\n",
    "    model = res_18,\n",
    "    loss = loss,\n",
    "    optimizer = optimizer,\n",
    "    nb_classes = 2,\n",
    ")"
   ]
  },
  {
   "cell_type": "code",
   "execution_count": 28,
   "metadata": {},
   "outputs": [],
   "source": [
    "#modify data to have labels for adversial or clean\n",
    "train_data.targets = [1 for _ in range(len(train_data.data))]"
   ]
  },
  {
   "cell_type": "code",
   "execution_count": 29,
   "metadata": {},
   "outputs": [],
   "source": [
    "train_attack = adversal_func.generate(scaled_train,np.array([2 for _  in range(len(scaled_train))]))"
   ]
  },
  {
   "cell_type": "code",
   "execution_count": 30,
   "metadata": {},
   "outputs": [],
   "source": [
    "final_dataset = torch.utils.data.ConcatDataset([train_data,train_attack])"
   ]
  },
  {
   "cell_type": "code",
   "execution_count": 31,
   "metadata": {},
   "outputs": [
    {
     "data": {
      "text/plain": [
       "(50000, 32, 32, 3)"
      ]
     },
     "execution_count": 31,
     "metadata": {},
     "output_type": "execute_result"
    }
   ],
   "source": [
    "np.array(train_data.data).shape"
   ]
  },
  {
   "cell_type": "code",
   "execution_count": 32,
   "metadata": {},
   "outputs": [
    {
     "data": {
      "text/plain": [
       "(1000, 3, 32, 32)"
      ]
     },
     "execution_count": 32,
     "metadata": {},
     "output_type": "execute_result"
    }
   ],
   "source": [
    "train_attack.shape"
   ]
  },
  {
   "cell_type": "code",
   "execution_count": 33,
   "metadata": {},
   "outputs": [
    {
     "data": {
      "text/plain": [
       "array([[[[ 59,  43,  50, ..., 158, 152, 148],\n",
       "         [ 16,   0,  18, ..., 123, 119, 122],\n",
       "         [ 25,  16,  49, ..., 118, 120, 109],\n",
       "         ...,\n",
       "         [208, 201, 198, ..., 160,  56,  53],\n",
       "         [180, 173, 186, ..., 184,  97,  83],\n",
       "         [177, 168, 179, ..., 216, 151, 123]],\n",
       "\n",
       "        [[ 62,  46,  48, ..., 132, 125, 124],\n",
       "         [ 20,   0,   8, ...,  88,  83,  87],\n",
       "         [ 24,   7,  27, ...,  84,  84,  73],\n",
       "         ...,\n",
       "         [170, 153, 161, ..., 133,  31,  34],\n",
       "         [139, 123, 144, ..., 148,  62,  53],\n",
       "         [144, 129, 142, ..., 184, 118,  92]],\n",
       "\n",
       "        [[ 63,  45,  43, ..., 108, 102, 103],\n",
       "         [ 20,   0,   0, ...,  55,  50,  57],\n",
       "         [ 21,   0,   8, ...,  50,  50,  42],\n",
       "         ...,\n",
       "         [ 96,  34,  26, ...,  70,   7,  20],\n",
       "         [ 96,  42,  30, ...,  94,  34,  34],\n",
       "         [116,  94,  87, ..., 140,  84,  72]]],\n",
       "\n",
       "\n",
       "       [[[154, 126, 105, ...,  91,  87,  79],\n",
       "         [140, 145, 125, ...,  96,  77,  71],\n",
       "         [140, 139, 115, ...,  79,  68,  67],\n",
       "         ...,\n",
       "         [175, 156, 154, ...,  42,  61,  93],\n",
       "         [165, 156, 159, ..., 103, 123, 131],\n",
       "         [163, 158, 163, ..., 143, 143, 143]],\n",
       "\n",
       "        [[177, 137, 104, ...,  95,  90,  81],\n",
       "         [160, 153, 125, ...,  99,  80,  73],\n",
       "         [155, 146, 115, ...,  82,  70,  69],\n",
       "         ...,\n",
       "         [167, 154, 160, ...,  34,  53,  83],\n",
       "         [154, 152, 161, ...,  93, 114, 121],\n",
       "         [148, 148, 156, ..., 133, 134, 133]],\n",
       "\n",
       "        [[187, 136,  95, ...,  71,  71,  70],\n",
       "         [169, 154, 118, ...,  78,  62,  61],\n",
       "         [164, 149, 112, ...,  64,  55,  55],\n",
       "         ...,\n",
       "         [166, 160, 170, ...,  36,  57,  91],\n",
       "         [128, 130, 142, ...,  96, 120, 131],\n",
       "         [120, 122, 133, ..., 139, 142, 144]]],\n",
       "\n",
       "\n",
       "       [[[255, 253, 253, ..., 253, 253, 253],\n",
       "         [255, 255, 255, ..., 255, 255, 255],\n",
       "         [255, 254, 254, ..., 254, 254, 254],\n",
       "         ...,\n",
       "         [113, 111, 105, ...,  72,  72,  72],\n",
       "         [111, 104,  99, ...,  68,  70,  78],\n",
       "         [106,  99,  95, ...,  78,  79,  80]],\n",
       "\n",
       "        [[255, 253, 253, ..., 253, 253, 253],\n",
       "         [255, 255, 255, ..., 255, 255, 255],\n",
       "         [255, 254, 254, ..., 254, 254, 254],\n",
       "         ...,\n",
       "         [120, 118, 112, ...,  81,  80,  80],\n",
       "         [118, 111, 106, ...,  75,  76,  84],\n",
       "         [113, 106, 102, ...,  85,  85,  86]],\n",
       "\n",
       "        [[255, 253, 253, ..., 253, 253, 253],\n",
       "         [255, 255, 255, ..., 255, 255, 255],\n",
       "         [255, 254, 254, ..., 254, 254, 254],\n",
       "         ...,\n",
       "         [112, 111, 106, ...,  80,  79,  79],\n",
       "         [110, 104,  98, ...,  73,  75,  82],\n",
       "         [105,  98,  94, ...,  83,  83,  84]]],\n",
       "\n",
       "\n",
       "       ...,\n",
       "\n",
       "\n",
       "       [[[145, 131, 115, ..., 126, 126, 125],\n",
       "         [129, 124, 103, ..., 126, 126, 125],\n",
       "         [116, 117, 101, ..., 126, 125, 124],\n",
       "         ...,\n",
       "         [125,  91,  46, ..., 123, 115, 122],\n",
       "         [125, 126, 104, ..., 129, 118, 127],\n",
       "         [127, 127, 129, ..., 128, 124, 126]],\n",
       "\n",
       "        [[148, 134, 119, ..., 105, 105, 104],\n",
       "         [132, 127, 107, ..., 105, 105, 104],\n",
       "         [119, 119, 105, ..., 105, 104, 103],\n",
       "         ...,\n",
       "         [164, 125,  77, ..., 161, 153, 159],\n",
       "         [165, 164, 139, ..., 167, 156, 161],\n",
       "         [166, 165, 166, ..., 169, 164, 160]],\n",
       "\n",
       "        [[157, 145, 124, ..., 104, 104, 103],\n",
       "         [141, 138, 112, ..., 104, 104, 103],\n",
       "         [128, 130, 110, ..., 104, 103, 102],\n",
       "         ...,\n",
       "         [ 76,  61,  31, ..., 104,  87,  87],\n",
       "         [ 67,  81,  76, ..., 106,  91,  93],\n",
       "         [ 76,  80,  91, ...,  89,  88,  91]]],\n",
       "\n",
       "\n",
       "       [[[146, 185, 248, ..., 253, 253, 255],\n",
       "         [143,  87, 176, ..., 255, 255, 255],\n",
       "         [194,  84,  67, ..., 255, 255, 255],\n",
       "         ...,\n",
       "         [250, 134,  72, ...,  55, 193, 255],\n",
       "         [255, 199, 153, ...,  37, 124, 247],\n",
       "         [255, 249, 243, ..., 146, 166, 238]],\n",
       "\n",
       "        [[146, 185, 248, ..., 253, 253, 255],\n",
       "         [143,  86, 175, ..., 255, 255, 255],\n",
       "         [191,  80,  63, ..., 255, 255, 255],\n",
       "         ...,\n",
       "         [250, 132,  68, ...,  55, 193, 255],\n",
       "         [255, 198, 151, ...,  37, 124, 247],\n",
       "         [255, 249, 243, ..., 146, 166, 238]],\n",
       "\n",
       "        [[146, 185, 248, ..., 253, 253, 255],\n",
       "         [143,  86, 175, ..., 255, 255, 255],\n",
       "         [192,  81,  64, ..., 255, 255, 255],\n",
       "         ...,\n",
       "         [249, 127,  58, ...,  55, 193, 255],\n",
       "         [255, 194, 144, ...,  37, 124, 247],\n",
       "         [255, 248, 242, ..., 146, 166, 238]]],\n",
       "\n",
       "\n",
       "       [[[203, 201, 208, ..., 187, 189, 189],\n",
       "         [192, 190, 201, ..., 181, 182, 187],\n",
       "         [189, 193, 201, ..., 181, 187, 190],\n",
       "         ...,\n",
       "         [167, 165, 167, ..., 101, 120, 123],\n",
       "         [152, 174, 169, ..., 108, 114, 122],\n",
       "         [169, 174, 165, ..., 103, 119, 132]],\n",
       "\n",
       "        [[206, 202, 209, ..., 194, 193, 193],\n",
       "         [193, 191, 203, ..., 189, 189, 192],\n",
       "         [193, 197, 205, ..., 188, 192, 193],\n",
       "         ...,\n",
       "         [169, 169, 171, ..., 110, 123, 126],\n",
       "         [161, 174, 170, ..., 116, 120, 125],\n",
       "         [170, 173, 168, ..., 113, 122, 131]],\n",
       "\n",
       "        [[208, 202, 209, ..., 194, 193, 194],\n",
       "         [194, 193, 204, ..., 189, 191, 192],\n",
       "         [197, 201, 208, ..., 190, 192, 193],\n",
       "         ...,\n",
       "         [171, 170, 172, ..., 109, 119, 122],\n",
       "         [164, 173, 171, ..., 115, 117, 121],\n",
       "         [168, 170, 168, ..., 114, 120, 126]]]], dtype=uint8)"
      ]
     },
     "execution_count": 33,
     "metadata": {},
     "output_type": "execute_result"
    }
   ],
   "source": [
    "train_data.data[0:1000].transpose(0,3,1,2)"
   ]
  },
  {
   "cell_type": "code",
   "execution_count": 34,
   "metadata": {},
   "outputs": [],
   "source": [
    "x_train = np.concatenate((train_attack,train_data.data[0:1000].transpose(0,3,1,2)))"
   ]
  },
  {
   "cell_type": "code",
   "execution_count": 35,
   "metadata": {},
   "outputs": [],
   "source": [
    "train_data_targets = [[1,0] for _ in range(len(train_data.data[0:1000]))]\n",
    "train_attack_targets = [[0,1] for _ in range(len(train_data.data[0:1000]))]\n",
    "\n",
    "y_train = np.concatenate((np.array(train_attack_targets),np.array(train_data_targets))).astype(np.float32)"
   ]
  },
  {
   "cell_type": "code",
   "execution_count": 36,
   "metadata": {},
   "outputs": [],
   "source": [
    "binary_art = BinaryInputDetector(art_classifier)\n",
    "binary_art.fit(x_train,y_train)"
   ]
  },
  {
   "cell_type": "code",
   "execution_count": 37,
   "metadata": {},
   "outputs": [
    {
     "data": {
      "text/plain": [
       "<All keys matched successfully>"
      ]
     },
     "execution_count": 37,
     "metadata": {},
     "output_type": "execute_result"
    }
   ],
   "source": [
    "#Pre_trained model\n",
    "binary_art.detector.model.load_state_dict(torch.load('/files/adv_detector_fgsm.bin'))"
   ]
  },
  {
   "cell_type": "markdown",
   "metadata": {},
   "source": [
    "## Task 9: Identify Adversarial Examples From Normal Examples"
   ]
  },
  {
   "cell_type": "code",
   "execution_count": 38,
   "metadata": {},
   "outputs": [
    {
     "data": {
      "text/plain": [
       "({'predictions': array([[ 1.0224123 , -0.9912058 ],\n",
       "         [ 1.0435241 , -0.96318555],\n",
       "         [ 1.4859815 , -1.429421  ],\n",
       "         ...,\n",
       "         [ 0.5758345 , -0.47799864],\n",
       "         [ 1.4102384 , -1.3561838 ],\n",
       "         [ 1.3435565 , -1.2866867 ]], dtype=float32)},\n",
       " array([False, False, False, False, False, False,  True, False, False,\n",
       "        False, False, False, False, False, False, False, False, False,\n",
       "        False, False, False,  True, False,  True, False, False, False,\n",
       "        False, False, False, False, False, False, False, False, False,\n",
       "        False,  True, False, False, False, False, False, False,  True,\n",
       "        False, False, False, False, False, False, False, False, False,\n",
       "        False, False, False, False, False, False, False, False, False,\n",
       "        False, False, False, False,  True, False, False, False, False,\n",
       "        False, False, False, False, False, False, False, False, False,\n",
       "        False, False, False, False, False, False, False, False, False,\n",
       "        False, False, False, False, False, False, False, False,  True,\n",
       "        False, False, False, False, False,  True,  True, False, False,\n",
       "        False, False, False,  True, False, False, False, False, False,\n",
       "        False, False, False, False, False, False, False, False, False,\n",
       "        False, False, False, False, False,  True, False,  True,  True,\n",
       "        False, False, False, False, False, False, False, False, False,\n",
       "        False, False, False, False, False, False,  True, False, False,\n",
       "        False, False, False, False, False, False, False, False, False,\n",
       "        False, False, False, False, False, False, False, False,  True,\n",
       "        False, False, False, False, False, False, False, False, False,\n",
       "        False,  True, False, False, False, False, False, False,  True,\n",
       "         True, False, False, False, False, False, False, False, False,\n",
       "        False, False, False, False, False, False, False, False, False,\n",
       "        False, False, False, False, False, False, False, False, False,\n",
       "         True, False, False, False, False, False, False, False, False,\n",
       "        False, False, False, False, False, False,  True,  True, False,\n",
       "        False,  True, False, False,  True,  True, False, False, False,\n",
       "        False, False, False, False, False, False, False, False, False,\n",
       "         True, False, False, False, False, False, False,  True, False,\n",
       "        False, False, False, False, False, False, False, False, False,\n",
       "        False, False, False, False, False, False,  True, False, False,\n",
       "        False,  True, False, False,  True, False, False, False, False,\n",
       "        False, False, False, False, False, False,  True, False,  True,\n",
       "         True,  True, False, False, False, False, False, False, False,\n",
       "        False, False, False, False, False, False, False, False, False,\n",
       "        False, False, False, False, False, False, False, False, False,\n",
       "        False, False, False, False, False, False,  True,  True, False,\n",
       "        False, False, False, False, False, False,  True, False, False,\n",
       "        False, False, False, False, False, False, False, False, False,\n",
       "        False, False, False, False, False, False, False, False, False,\n",
       "        False, False, False, False,  True,  True,  True, False, False,\n",
       "        False, False, False, False, False,  True, False, False, False,\n",
       "        False, False, False, False, False, False, False,  True, False,\n",
       "        False, False, False, False,  True, False, False, False, False,\n",
       "        False, False, False, False,  True, False,  True, False, False,\n",
       "        False,  True, False, False, False, False, False, False, False,\n",
       "         True, False, False,  True, False, False, False, False, False,\n",
       "        False, False, False, False, False, False, False, False, False,\n",
       "        False, False, False, False, False, False, False, False,  True,\n",
       "        False, False, False, False, False, False, False, False, False,\n",
       "        False, False, False, False, False,  True, False, False, False,\n",
       "        False, False, False,  True, False, False, False, False, False,\n",
       "        False, False, False,  True, False, False, False, False, False,\n",
       "        False, False, False, False, False, False, False, False, False,\n",
       "        False,  True, False, False, False, False, False, False, False,\n",
       "        False, False, False, False, False, False, False, False, False,\n",
       "        False, False, False, False, False, False, False, False, False,\n",
       "        False, False, False, False, False, False, False, False, False,\n",
       "        False, False, False, False, False, False, False, False, False,\n",
       "        False, False, False, False, False, False, False, False, False,\n",
       "        False, False,  True, False, False, False, False,  True, False,\n",
       "        False, False, False, False, False, False, False, False, False,\n",
       "        False, False, False, False, False, False, False, False, False,\n",
       "        False, False, False, False,  True, False, False,  True, False,\n",
       "        False, False, False, False, False, False,  True, False, False,\n",
       "        False, False, False, False, False, False, False, False, False,\n",
       "        False,  True, False, False, False, False, False, False, False,\n",
       "        False, False, False, False, False, False,  True, False,  True,\n",
       "        False, False, False, False, False, False, False,  True, False,\n",
       "        False, False, False, False, False,  True, False, False, False,\n",
       "        False, False, False, False, False, False, False, False, False,\n",
       "        False, False, False, False, False, False,  True, False, False,\n",
       "        False, False, False, False, False, False,  True, False, False,\n",
       "        False, False, False, False, False, False, False, False, False,\n",
       "         True, False, False, False, False, False, False,  True, False,\n",
       "        False, False, False,  True, False,  True, False, False, False,\n",
       "         True, False, False, False, False, False, False, False,  True,\n",
       "        False, False, False, False, False, False, False, False, False,\n",
       "        False, False, False, False, False, False, False, False, False,\n",
       "        False, False, False, False, False, False,  True, False, False,\n",
       "        False,  True, False, False, False, False, False, False, False,\n",
       "        False, False, False,  True, False, False, False, False, False,\n",
       "        False, False, False,  True, False, False, False, False, False,\n",
       "        False, False, False, False, False, False,  True, False, False,\n",
       "        False, False, False,  True, False, False, False, False, False,\n",
       "        False, False, False, False, False, False, False, False, False,\n",
       "        False, False, False, False, False,  True, False, False, False,\n",
       "        False, False, False, False, False, False, False,  True,  True,\n",
       "        False, False, False, False, False, False, False, False, False,\n",
       "         True,  True, False, False, False, False, False,  True, False,\n",
       "        False, False, False, False, False, False, False, False, False,\n",
       "        False, False, False, False, False, False, False, False, False,\n",
       "        False, False, False, False, False, False, False,  True, False,\n",
       "        False, False, False,  True, False, False, False, False, False,\n",
       "        False, False, False, False, False, False, False, False, False,\n",
       "        False, False, False, False, False, False, False, False, False,\n",
       "        False, False, False, False, False, False, False, False, False,\n",
       "        False, False, False, False, False, False, False, False, False,\n",
       "        False,  True, False, False, False, False, False, False, False,\n",
       "        False, False,  True, False, False, False, False, False, False,\n",
       "        False, False, False, False, False, False, False, False, False,\n",
       "        False, False, False, False, False, False, False, False, False,\n",
       "        False, False, False, False, False, False, False, False, False,\n",
       "        False, False, False, False, False, False, False,  True, False,\n",
       "        False, False, False, False,  True, False, False, False, False,\n",
       "        False, False, False, False, False, False,  True, False, False,\n",
       "        False, False, False, False, False, False, False, False,  True,\n",
       "        False, False, False, False, False, False, False, False, False,\n",
       "        False, False, False, False, False, False, False, False, False,\n",
       "        False, False, False, False, False, False, False, False, False,\n",
       "        False, False,  True,  True, False, False, False, False, False,\n",
       "        False]))"
      ]
     },
     "execution_count": 38,
     "metadata": {},
     "output_type": "execute_result"
    }
   ],
   "source": [
    "#Normal dataset\n",
    "binary_art.detect(np.array(scaled_test).astype(np.float32))"
   ]
  },
  {
   "cell_type": "code",
   "execution_count": 39,
   "metadata": {},
   "outputs": [
    {
     "data": {
      "text/plain": [
       "({'predictions': array([[ 1.0218074 , -0.99052924],\n",
       "         [ 1.043858  , -0.96353287],\n",
       "         [ 1.4856038 , -1.4290191 ],\n",
       "         ...,\n",
       "         [ 0.57631856, -0.47860116],\n",
       "         [ 1.4108412 , -1.3567537 ],\n",
       "         [ 1.3439288 , -1.2870044 ]], dtype=float32)},\n",
       " array([False, False, False, False, False, False,  True, False, False,\n",
       "        False, False, False, False, False, False, False, False, False,\n",
       "        False, False, False,  True, False,  True, False, False, False,\n",
       "        False, False, False, False, False, False, False, False, False,\n",
       "        False,  True, False, False, False, False, False, False,  True,\n",
       "        False, False, False, False, False, False, False, False, False,\n",
       "        False, False, False, False, False, False, False, False, False,\n",
       "        False, False, False, False,  True, False, False, False, False,\n",
       "        False, False, False, False, False, False, False, False, False,\n",
       "        False, False, False, False, False, False, False, False, False,\n",
       "        False, False, False, False, False, False, False, False,  True,\n",
       "        False, False, False, False, False,  True,  True, False, False,\n",
       "        False, False, False,  True, False, False, False, False, False,\n",
       "        False, False, False, False, False, False, False, False, False,\n",
       "        False, False, False, False, False,  True, False,  True,  True,\n",
       "        False, False, False, False, False, False, False, False, False,\n",
       "        False, False, False, False, False, False,  True, False, False,\n",
       "        False, False, False, False, False, False, False, False, False,\n",
       "        False, False, False, False, False, False, False, False,  True,\n",
       "        False, False, False, False, False, False, False, False, False,\n",
       "        False,  True, False, False, False, False, False, False,  True,\n",
       "         True, False, False, False, False, False, False, False, False,\n",
       "        False, False, False, False, False, False, False, False, False,\n",
       "        False, False, False, False, False, False, False, False, False,\n",
       "         True, False, False, False, False, False, False, False, False,\n",
       "        False, False, False, False, False, False,  True,  True, False,\n",
       "        False,  True, False, False,  True,  True, False, False, False,\n",
       "        False, False, False, False, False, False, False, False, False,\n",
       "         True, False, False, False, False, False, False,  True, False,\n",
       "        False, False, False, False, False, False, False, False, False,\n",
       "        False, False, False, False, False, False,  True, False, False,\n",
       "        False,  True, False, False,  True, False, False, False, False,\n",
       "        False, False, False, False, False, False,  True, False,  True,\n",
       "         True,  True, False, False, False, False, False, False, False,\n",
       "        False, False, False, False, False, False, False, False, False,\n",
       "        False, False, False, False, False, False, False, False, False,\n",
       "        False, False, False, False, False, False,  True,  True, False,\n",
       "        False, False, False, False, False, False,  True, False, False,\n",
       "        False, False, False, False, False, False, False, False, False,\n",
       "        False, False, False, False, False, False, False, False, False,\n",
       "        False, False, False, False,  True,  True,  True, False, False,\n",
       "        False, False, False, False, False,  True, False, False, False,\n",
       "        False, False, False, False, False, False, False,  True, False,\n",
       "        False, False, False, False,  True, False, False, False, False,\n",
       "        False, False, False, False,  True, False,  True, False, False,\n",
       "        False,  True, False, False, False, False, False, False, False,\n",
       "         True, False, False,  True, False, False, False, False, False,\n",
       "        False, False, False, False, False, False, False, False, False,\n",
       "        False, False, False, False, False, False, False, False,  True,\n",
       "        False, False, False, False, False, False, False, False, False,\n",
       "        False, False, False, False, False,  True, False, False, False,\n",
       "        False, False, False,  True, False, False, False, False, False,\n",
       "        False, False, False,  True, False, False, False, False, False,\n",
       "        False, False, False, False, False, False, False, False, False,\n",
       "        False,  True, False, False, False, False, False, False, False,\n",
       "        False, False, False, False, False, False, False, False, False,\n",
       "        False, False, False, False, False, False, False, False, False,\n",
       "        False, False, False, False, False, False, False, False, False,\n",
       "        False, False, False, False, False, False, False, False, False,\n",
       "        False, False, False, False, False, False, False, False, False,\n",
       "        False, False,  True, False, False, False, False,  True, False,\n",
       "        False, False, False, False, False, False, False, False, False,\n",
       "        False, False, False, False, False, False, False, False, False,\n",
       "        False, False, False, False,  True, False, False,  True, False,\n",
       "        False, False, False, False, False, False,  True, False, False,\n",
       "        False, False, False, False, False, False, False, False, False,\n",
       "        False,  True, False, False, False, False, False, False, False,\n",
       "        False, False, False, False, False, False,  True, False,  True,\n",
       "        False, False, False, False, False, False, False,  True, False,\n",
       "        False, False, False, False, False,  True, False, False, False,\n",
       "        False, False, False, False, False, False, False, False, False,\n",
       "        False, False, False, False, False, False,  True, False, False,\n",
       "        False, False, False, False, False, False,  True, False, False,\n",
       "        False, False, False, False, False, False, False, False, False,\n",
       "         True, False, False, False, False, False, False,  True, False,\n",
       "        False, False, False,  True, False,  True, False, False, False,\n",
       "         True, False, False, False, False, False, False, False,  True,\n",
       "        False, False, False, False, False, False, False, False, False,\n",
       "        False, False, False, False, False, False, False, False, False,\n",
       "        False, False, False, False, False, False,  True, False, False,\n",
       "        False,  True, False, False, False, False, False, False, False,\n",
       "        False, False, False,  True, False, False, False, False, False,\n",
       "        False, False, False,  True, False, False, False, False, False,\n",
       "        False, False, False, False, False, False,  True, False, False,\n",
       "        False, False, False,  True, False, False, False, False, False,\n",
       "        False, False, False, False, False, False, False, False, False,\n",
       "        False, False, False, False, False,  True, False, False, False,\n",
       "        False, False, False, False, False, False, False,  True,  True,\n",
       "        False, False, False, False, False, False, False, False, False,\n",
       "         True,  True, False, False, False, False, False,  True, False,\n",
       "        False, False, False, False, False, False, False, False, False,\n",
       "        False, False, False, False, False, False, False, False, False,\n",
       "        False, False, False, False, False, False, False,  True, False,\n",
       "        False, False, False,  True, False, False, False, False, False,\n",
       "        False, False, False, False, False, False, False, False, False,\n",
       "        False, False, False, False, False, False, False, False, False,\n",
       "        False, False, False, False, False, False, False, False, False,\n",
       "        False, False, False, False, False, False, False, False, False,\n",
       "        False,  True, False, False, False, False, False, False, False,\n",
       "        False, False,  True, False, False, False, False, False, False,\n",
       "        False, False, False, False, False, False, False, False, False,\n",
       "        False, False, False, False, False, False, False, False, False,\n",
       "        False, False, False, False, False, False, False, False, False,\n",
       "        False, False, False, False, False, False, False,  True, False,\n",
       "        False, False, False, False,  True, False, False, False, False,\n",
       "        False, False, False, False, False, False,  True, False, False,\n",
       "        False, False, False, False, False, False, False, False,  True,\n",
       "        False, False, False, False, False, False, False, False, False,\n",
       "        False, False, False, False, False, False, False, False, False,\n",
       "        False, False, False, False, False, False, False, False, False,\n",
       "        False, False,  True,  True, False, False, False, False, False,\n",
       "        False]))"
      ]
     },
     "execution_count": 39,
     "metadata": {},
     "output_type": "execute_result"
    }
   ],
   "source": [
    "#Adversal Images\n",
    "binary_art.detect(np.array(test_attack).astype(np.float32))"
   ]
  },
  {
   "cell_type": "markdown",
   "metadata": {},
   "source": [
    "## Task 10: Train the Model With Adversarial Examples"
   ]
  },
  {
   "cell_type": "code",
   "execution_count": 40,
   "metadata": {},
   "outputs": [
    {
     "data": {
      "application/vnd.jupyter.widget-view+json": {
       "model_id": "9f9b62187afc4c0c882cc1302762b021",
       "version_major": 2,
       "version_minor": 0
      },
      "text/plain": [
       "Precompute adv samples:   0%|          | 0/1 [00:00<?, ?it/s]"
      ]
     },
     "metadata": {},
     "output_type": "display_data"
    },
    {
     "data": {
      "application/vnd.jupyter.widget-view+json": {
       "model_id": "83ab84fc8c1d4e13bdee12e6bc5f35a1",
       "version_major": 2,
       "version_minor": 0
      },
      "text/plain": [
       "Adversarial training epochs:   0%|          | 0/20 [00:00<?, ?it/s]"
      ]
     },
     "metadata": {},
     "output_type": "display_data"
    }
   ],
   "source": [
    "#Lets create a proper full data based classfier\n",
    "\n",
    "base_model = timm.create_model('resnet18',pretrained=True)\n",
    "\n",
    "#loading custom pretrained weights\n",
    "custom_weights_base_model = torch.load('/files/pytorch_model_resnet34.bin')\n",
    "\n",
    "base_model.conv1.weight = torch.nn.Parameter(custom_weights_base_model['conv1.weight'])\n",
    "base_model.fc.weight = torch.nn.Parameter(custom_weights_base_model['fc.weight'])\n",
    "base_model.fc.weight = torch.nn.Parameter(custom_weights_base_model['fc.bias'])\n",
    "\n",
    "base_model.fc = torch.nn.Linear(in_features=512, out_features=2, bias=True)\n",
    "\n",
    "base_model = PyTorchClassifier(\n",
    "    input_shape=(3,32,32),\n",
    "    model= base_model,\n",
    "    loss= loss,\n",
    "    optimizer=optimizer,\n",
    "    nb_classes=2\n",
    ")\n",
    "\n",
    "robust_classfier = AdversarialTrainer(base_model,[adversal_func])\n",
    "robust_classfier.fit(x_train,y_train)"
   ]
  },
  {
   "cell_type": "markdown",
   "metadata": {},
   "source": [
    "## Task 11: Evaluate Model's Performance After Adversarial Training"
   ]
  },
  {
   "cell_type": "code",
   "execution_count": 41,
   "metadata": {},
   "outputs": [
    {
     "name": "stderr",
     "output_type": "stream",
     "text": [
      "/tmp/ipykernel_204/683413276.py:1: DeprecationWarning: elementwise comparison failed; this will raise an error in the future.\n",
      "  test_acc = np.sum(np.argmax(robust_classfier.predict(scaled_test.astype(np.float32)),axis=1)==scaled_test_targets)\n"
     ]
    }
   ],
   "source": [
    "test_acc = np.sum(np.argmax(robust_classfier.predict(scaled_test.astype(np.float32)),axis=1)==scaled_test_targets)"
   ]
  },
  {
   "cell_type": "code",
   "execution_count": 42,
   "metadata": {},
   "outputs": [
    {
     "data": {
      "text/plain": [
       "0.0"
      ]
     },
     "execution_count": 42,
     "metadata": {},
     "output_type": "execute_result"
    }
   ],
   "source": [
    "(test_acc/len(test_attack))*100"
   ]
  },
  {
   "cell_type": "code",
   "execution_count": null,
   "metadata": {},
   "outputs": [],
   "source": []
  }
 ],
 "metadata": {
  "kernelspec": {
   "display_name": "Python 3",
   "language": "python",
   "name": "python3"
  },
  "language_info": {
   "codemirror_mode": {
    "name": "ipython",
    "version": 3
   },
   "file_extension": ".py",
   "mimetype": "text/x-python",
   "name": "python",
   "nbconvert_exporter": "python",
   "pygments_lexer": "ipython3",
   "version": "3.8.10"
  },
  "orig_nbformat": 4,
  "vscode": {
   "interpreter": {
    "hash": "e7370f93d1d0cde622a1f8e1c04877d8463912d04d973331ad4851f04de6915a"
   }
  }
 },
 "nbformat": 4,
 "nbformat_minor": 2
}
